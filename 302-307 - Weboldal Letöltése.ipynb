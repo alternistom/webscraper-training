{
 "cells": [
  {
   "cell_type": "markdown",
   "metadata": {},
   "source": [
    "# 302 Weboldal Letöltése"
   ]
  },
  {
   "cell_type": "markdown",
   "metadata": {},
   "source": [
    "Beimportáljuk a két libraryt, a request az oldal letöltésében a BeautifulSoup pedig az oldal értelmezésében fog segíteni"
   ]
  },
  {
   "cell_type": "code",
   "execution_count": 1,
   "metadata": {},
   "outputs": [],
   "source": [
    "from bs4 import BeautifulSoup\n",
    "import urllib.request"
   ]
  },
  {
   "cell_type": "markdown",
   "metadata": {},
   "source": [
    "Egy string változóban megadjuk a weboldal url-jét amit le akarunk tölteni"
   ]
  },
  {
   "cell_type": "markdown",
   "metadata": {},
   "source": [
    "valtozo = \"internetcím\""
   ]
  },
  {
   "cell_type": "code",
   "execution_count": 2,
   "metadata": {},
   "outputs": [],
   "source": [
    "myurl = \"https://www.ekonyv.hu/hu/tematikak/sci-fi?id=83\""
   ]
  },
  {
   "cell_type": "markdown",
   "metadata": {},
   "source": [
    "Következő lépésként megnyitjuk az oldalt Pythonba, lementjük a tartalmát majd lezárjuk a kapcsolatot, de a savedpagehtml-ben letárolt oldal megmarad nekünk memóriában."
   ]
  },
  {
   "cell_type": "code",
   "execution_count": 3,
   "metadata": {},
   "outputs": [],
   "source": [
    "orignalhtml = urllib.request.urlopen(myurl)\n",
    "savedpagehtml = orignalhtml.read()\n",
    "orignalhtml.close()"
   ]
  },
  {
   "cell_type": "markdown",
   "metadata": {},
   "source": [
    "A forráskódot átadjuk a BeautifulSoup modulnak ami értelmezi és segíteni fog a navigációban, hogy ne csak egy betűtenger legyen. (Angolban textsoupnak hívják az ilyet és ezért BeautifulSoup a modul neve, mert az első blikkra káosznak tűnő forráskódot szépíti meg)"
   ]
  },
  {
   "cell_type": "code",
   "execution_count": 4,
   "metadata": {},
   "outputs": [],
   "source": [
    "pagesoup = BeautifulSoup(savedpagehtml, \"html.parser\")"
   ]
  },
  {
   "cell_type": "markdown",
   "metadata": {},
   "source": [
    "Itt pedig az imént említett betűleves:"
   ]
  },
  {
   "cell_type": "code",
   "execution_count": 5,
   "metadata": {},
   "outputs": [
    {
     "data": {
      "text/plain": [
       "<!DOCTYPE html PUBLIC \"-//W3C//DTD XHTML 1.0 Transitional//EN\" \"http://www.w3.org/TR/xhtml1/DTD/xhtml1-transitional.dtd\">\n",
       "<html lang=\"hu\" xml:lang=\"hu\" xmlns=\"http://www.w3.org/1999/xhtml\">\n",
       "<head>\n",
       "<meta content=\"text/html; charset=utf-8\" http-equiv=\"content-type\"/>\n",
       "<meta content=\"hu\" http-equiv=\"content-language\"/>\n",
       "<meta content=\"no\" http-equiv=\"imagetoolbar\"/>\n",
       "<meta content=\"yes\" http-equiv=\"MSThemeCompatible\"/>\n",
       "<meta content=\"pavel@gng.cz\" name=\"Owner\"/>\n",
       "<meta content=\"all\" name=\"Robots\"/>\n",
       "<meta content=\"index, follow, snippet, archive\" name=\"Googlebot\"/>\n",
       "<meta content=\"2012 Graffitti networks\" name=\"Copyright\"/>\n",
       "<meta content=\"Graffitti networks\" name=\"Author\"/>\n",
       "<meta content=\"Graffitti networks\" name=\"Developer\"/>\n",
       "<meta content=\"true\" name=\"MSSmartTagsPreventParsing\"/>\n",
       "<link href=\"https://www.ekonyv.hu/favicon.ico\" rel=\"shortcut icon\"/>\n",
       "<title>Sci-fi | eKönyv Magyarország</title>\n",
       "<meta content=\"Sci-fi\" name=\"Description\"/>\n",
       "<meta content=\"Sci-fi\" name=\"Keywords\"/>\n",
       "<meta content=\"all,follow\" name=\"robots\"/>\n",
       "<base href=\"https://www.ekonyv.hu/\"/>\n",
       "<link href=\"css/ereading_layout.css\" rel=\"stylesheet\" type=\"text/css\"/>\n",
       "<link href=\"css/dtree.css\" rel=\"stylesheet\" type=\"text/css\"/>\n",
       "<link href=\"css/universal.css\" rel=\"stylesheet\" type=\"text/css\"/>\n",
       "<!--[if IE 6]>\n",
       "\t\t\t<link rel=\"stylesheet\" type=\"text/css\" href=\"css/ie6.css\" />\n",
       "\t\t<![endif]-->\n",
       "<link href=\"css/jquery.rating.css\" rel=\"stylesheet\" type=\"text/css\"/>\n",
       "<script src=\"js/jquery/jquery-1.3.2.min.js\" type=\"text/javascript\"></script>\n",
       "<script src=\"js/top_up-min.js\" type=\"text/javascript\"></script>\n",
       "<script src=\"js/scripts.js\" type=\"text/javascript\"></script>\n",
       "<script type=\"text/javascript\">\n",
       "\t\t  TopUp.host = \"https://www.ekonyv.hu/\";\n",
       "\t\t  TopUp.images_path = \"grafika/top_up/\";\n",
       "\t\t</script>\n",
       "<script src=\"js/dtree.js\" type=\"text/javascript\"></script>\n",
       "<script src=\"js/jquery.MetaData.js\" type=\"text/javascript\"></script>\n",
       "<script src=\"js/jquery.rating.pack.js\" type=\"text/javascript\"></script>\n",
       "<script src=\"js/jquery.web.js\" type=\"text/javascript\"></script>\n",
       "<script type=\"text/javascript\">\n",
       "\n",
       "  var _gaq = _gaq || [];\n",
       "  _gaq.push(['_setAccount', 'UA-32678032-1']);\n",
       "  _gaq.push(['_setDomainName', 'ekonyv.hu']);\n",
       "  _gaq.push(['_trackPageview']);\n",
       "\n",
       "  (function() {\n",
       "    var ga = document.createElement('script'); ga.type = 'text/javascript'; ga.async = true;\n",
       "    ga.src = ('https:' == document.location.protocol ? 'https://ssl' : 'http://www') + '.google-analytics.com/ga.js';\n",
       "    var s = document.getElementsByTagName('script')[0]; s.parentNode.insertBefore(ga, s);\n",
       "  })();\n",
       "\n",
       "</script>\n",
       "</head>\n",
       "<body>\n",
       "<script type=\"text/javascript\">\n",
       "\tvar consent_config = {\n",
       "\t\t/* css: '.consent-cookies { background-color: #f3f2f2; color: #000000; } .consent-cookies a, .consent-cookies button { color: #000000; }', */\n",
       "\t\tlan: 'cs'\n",
       "\t}\n",
       "</script>\n",
       "<script src=\"https://www.ekonyv.hu/js/cookies.js\" type=\"text/javascript\"></script>\n",
       "<a href=\"https://www.ekonyv.hu/hu/\" id=\"aLogo\" title=\"Címlap\"><img alt=\"Logo\" src=\"grafika/logo.png\"/></a>\n",
       "<div id=\"layout\">\n",
       "<div id=\"header\">\n",
       "<div id=\"accountInfo\">\n",
       "<div id=\"accountInfoContent\"><a class=\"loginShow\" href=\"#\" title=\"Belépés\">Belépés</a> | <a href=\"https://www.ekonyv.hu/hu/regisztracio\" title=\"Regisztráció\">Regisztráció</a> </div> </div>\n",
       "<div id=\"mainMenu\">\n",
       "<a href=\"https://www.ekonyv.hu/hu/kapcsolat\" title=\"Kapcsolat\">Kapcsolat</a><span class=\"menuBullet\">|</span><a href=\"http://enkiadom.hu/\" title=\"ÉN KIADOM\">ÉN KIADOM</a><span class=\"menuBullet\">|</span><a href=\"https://www.ekonyv.hu/hu/kiadoknak\" title=\"Kiadóknak\">Kiadóknak</a><span class=\"menuBullet\">|</span><a href=\"https://www.ekonyv.hu/hu/hogyan-olvassunk-ekonyveket\" title=\"Hogyan olvassunk ekönyveket\">Hogyan olvassunk ekönyveket</a><span class=\"menuBullet\">|</span><a href=\"https://www.ekonyv.hu/hu/hogyan-vasarolj\" title=\"Hogyan vásárolj?\">Hogyan vásárolj?</a> </div>\n",
       "<div id=\"subHeader\">\n",
       "<div id=\"cart\">\n",
       "<a href=\"https://www.ekonyv.hu/hu/kosar\" title=\"Kosár\"><img alt=\"\" class=\"cartImg\" src=\"grafika/cart.gif\"/> kosár: 0 <span class=\"white\"> | </span> 0,- Ft </a> </div>\n",
       "<div id=\"searchBar\">\n",
       "<form action=\"https://www.ekonyv.hu/hu/kereses\" method=\"get\">\n",
       "<input class=\"text\" name=\"searchtext\" type=\"text\" value=\"keresés\"/>\n",
       "<select name=\"searchby\">\n",
       "<option value=\"fulltext\">minden szövegben</option>\n",
       "<option value=\"nazev\">cím szerint</option>\n",
       "<option value=\"autor\">író neve szerint</option>\n",
       "<option value=\"popis\">leírás szerint</option>\n",
       "<option value=\"nakladatel\">kiadó szerint</option>\n",
       "</select>\n",
       "<input class=\"submit\" name=\"search\" type=\"submit\" value=\"keresés\"/>\n",
       "</form>\n",
       "<a href=\"https://www.ekonyv.hu/hu/reszletes-kereses\" title=\"Részletes keresés\">Részletes keresés</a> </div>\n",
       "</div>\n",
       "</div>\n",
       "<div id=\"contentLayout\">\n",
       "<div id=\"firstCol\">\n",
       "<div style=\"display:none;\"><a class=\"catBullet\" href=\"https://www.ekonyv.hu/hu/tematikak/eletmod-egeszseg?id=2\" title=\"Életmód, egészség\">Életmód, egészség</a><a class=\"mainCat\" href=\"#\">(+)</a><br/><div class=\"subdiv\" id=\"submenu-2\"><a class=\"subCat\" href=\"https://www.ekonyv.hu/hu/tematikak/eletmod-stilus-karrier?id=174\" title=\"Életmód, stílus, karrier\">Életmód, stílus, karrier</a><a class=\"subCat\" href=\"https://www.ekonyv.hu/hu/tematikak/egeszseges-eletmod?id=156\" title=\"Egészséges életmód\">Egészséges életmód</a><a class=\"subCat\" href=\"https://www.ekonyv.hu/hu/tematikak/divat?id=141\" title=\"Divat\">Divat</a><a class=\"subCat\" href=\"https://www.ekonyv.hu/hu/tematikak/wellness-fitness-joga?id=24\" title=\"Wellness, fitness, jóga\">Wellness, fitness, jóga</a><a class=\"subCat\" href=\"https://www.ekonyv.hu/hu/tematikak/termeszetgyogyaszat?id=23\" title=\"Természetgyógyászat\">Természetgyógyászat</a><a class=\"subCat\" href=\"https://www.ekonyv.hu/hu/tematikak/kozmetika-szepseg-divat?id=22\" title=\"Kozmetika, szépség, divat\">Kozmetika, szépség, divat</a><a class=\"subCat\" href=\"https://www.ekonyv.hu/hu/tematikak/egeszseges-taplakozas-dietaskonyvek?id=21\" title=\"Egészséges táplákozás, diétáskönyvek\">Egészséges táplákozás, diétáskönyvek</a></div><a class=\"catBullet\" href=\"https://www.ekonyv.hu/hu/tematikak/ezoterika?id=20\" title=\"Ezoterika\">Ezoterika</a><a class=\"mainCat\" href=\"#\">(+)</a><br/><div class=\"subdiv\" id=\"submenu-20\"><a class=\"subCat\" href=\"https://www.ekonyv.hu/hu/tematikak/okkultizmus-spiritualizmus?id=33\" title=\"Okkultizmus, spiritualizmus\">Okkultizmus, spiritualizmus</a><a class=\"subCat\" href=\"https://www.ekonyv.hu/hu/tematikak/meditacio-joga?id=32\" title=\"Meditáció, jóga\">Meditáció, jóga</a><a class=\"subCat\" href=\"https://www.ekonyv.hu/hu/tematikak/magia-boszorkanysag?id=31\" title=\"Mágia, boszorkányság\">Mágia, boszorkányság</a><a class=\"subCat\" href=\"https://www.ekonyv.hu/hu/tematikak/keleti-tanitasok?id=30\" title=\"Keleti tanítások\">Keleti tanítások</a><a class=\"subCat\" href=\"https://www.ekonyv.hu/hu/tematikak/joslas-alomfejtes-tarot?id=29\" title=\"Jóslás, álomfejtés, tarot\">Jóslás, álomfejtés, tarot</a><a class=\"subCat\" href=\"https://www.ekonyv.hu/hu/tematikak/holisztika-egeszseg?id=28\" title=\"Holisztika, egészség\">Holisztika, egészség</a><a class=\"subCat\" href=\"https://www.ekonyv.hu/hu/tematikak/feng-shui?id=27\" title=\"Feng shui\">Feng shui</a><a class=\"subCat\" href=\"https://www.ekonyv.hu/hu/tematikak/ezoteria?id=26\" title=\"Ezotéria\">Ezotéria</a><a class=\"subCat\" href=\"https://www.ekonyv.hu/hu/tematikak/asztrologia?id=25\" title=\"Asztrológia\">Asztrológia</a></div><a class=\"catBullet\" href=\"https://www.ekonyv.hu/hu/tematikak/gasztronomia?id=19\" title=\"Gasztronómia\">Gasztronómia</a><a class=\"mainCat\" href=\"#\">(+)</a><br/><div class=\"subdiv\" id=\"submenu-19\"><a class=\"subCat\" href=\"https://www.ekonyv.hu/hu/tematikak/szakacskonyvek?id=37\" title=\"Szakácskönyvek\">Szakácskönyvek</a><a class=\"subCat\" href=\"https://www.ekonyv.hu/hu/tematikak/italok?id=36\" title=\"Italok\">Italok</a><a class=\"subCat\" href=\"https://www.ekonyv.hu/hu/tematikak/gasztronomia-tortenet?id=35\" title=\"Gasztronómia-történet\">Gasztronómia-történet</a></div><a class=\"catBullet\" href=\"https://www.ekonyv.hu/hu/tematikak/gyermek-es-ifjusagi?id=18\" title=\"Gyermek és ifjúsági\">Gyermek és ifjúsági</a><a class=\"mainCat\" href=\"#\">(+)</a><br/><div class=\"subdiv\" id=\"submenu-18\"><a class=\"subCat\" href=\"https://www.ekonyv.hu/hu/tematikak/mesekonyvek?id=40\" title=\"Mesekönyvek\">Mesekönyvek</a><a class=\"subCat\" href=\"https://www.ekonyv.hu/hu/tematikak/ifjusagi-ismeretterjeszto?id=39\" title=\"Ifjúsági ismeretterjesztő\">Ifjúsági ismeretterjesztő</a><a class=\"subCat\" href=\"https://www.ekonyv.hu/hu/tematikak/ya-ifjusagi-regenyek-es-elbeszelesek?id=38\" title=\"YA, Ifjúsági regények és elbeszélések\">YA, Ifjúsági regények és elbeszélések</a></div><a class=\"catBullet\" href=\"https://www.ekonyv.hu/hu/tematikak/gyermekek-es-szulok?id=17\" title=\"Gyermekek és szülők\">Gyermekek és szülők</a><a class=\"mainCat\" href=\"#\">(+)</a><br/><div class=\"subdiv\" id=\"submenu-17\"><a class=\"subCat\" href=\"https://www.ekonyv.hu/hu/tematikak/terhesseg-es-szules?id=43\" title=\"Terhesség és szülés\">Terhesség és szülés</a><a class=\"subCat\" href=\"https://www.ekonyv.hu/hu/tematikak/kisbabak-es-kismamak?id=42\" title=\"Kisbabák és kismamák\">Kisbabák és kismamák</a><a class=\"subCat\" href=\"https://www.ekonyv.hu/hu/tematikak/gyermekneveles?id=41\" title=\"Gyermeknevelés\">Gyermeknevelés</a></div><a class=\"catBullet\" href=\"https://www.ekonyv.hu/hu/tematikak/kert-es-lakas?id=16\" title=\"Kert és lakás\">Kert és lakás</a><a class=\"mainCat\" href=\"#\">(+)</a><br/><div class=\"subdiv\" id=\"submenu-16\"><a class=\"subCat\" href=\"https://www.ekonyv.hu/hu/tematikak/otthon-lakberendezes?id=45\" title=\"Otthon, lakberendezés\">Otthon, lakberendezés</a><a class=\"subCat\" href=\"https://www.ekonyv.hu/hu/tematikak/noveny-es-kert?id=44\" title=\"Növény és kert\">Növény és kert</a></div><a class=\"catBullet\" href=\"https://www.ekonyv.hu/hu/tematikak/self-publishing?id=136\" title=\"Self Publishing\">Self Publishing</a><a class=\"mainCat\" href=\"#\">(+)</a><br/><div class=\"subdiv\" id=\"submenu-136\"><a class=\"subCat\" href=\"https://www.ekonyv.hu/hu/tematikak/szerzoi-kiadas?id=137\" title=\"Szerzői kiadás\">Szerzői kiadás</a></div><a class=\"catBullet\" href=\"https://www.ekonyv.hu/hu/tematikak/muveszet?id=15\" title=\"Művészet\">Művészet</a><a class=\"mainCat\" href=\"#\">(+)</a><br/><div class=\"subdiv\" id=\"submenu-15\"><a class=\"subCat\" href=\"https://www.ekonyv.hu/hu/tematikak/zene?id=54\" title=\"Zene\">Zene</a><a class=\"subCat\" href=\"https://www.ekonyv.hu/hu/tematikak/szobraszat?id=53\" title=\"Szobrászat\">Szobrászat</a><a class=\"subCat\" href=\"https://www.ekonyv.hu/hu/tematikak/muveszettortenet?id=52\" title=\"Művészettörténet\">Művészettörténet</a><a class=\"subCat\" href=\"https://www.ekonyv.hu/hu/tematikak/foto?id=50\" title=\"Fotó\">Fotó</a><a class=\"subCat\" href=\"https://www.ekonyv.hu/hu/tematikak/film-es-szinhaz?id=49\" title=\"Film és színház\">Film és színház</a><a class=\"subCat\" href=\"https://www.ekonyv.hu/hu/tematikak/festeszet?id=48\" title=\"Festészet\">Festészet</a><a class=\"subCat\" href=\"https://www.ekonyv.hu/hu/tematikak/epiteszet?id=47\" title=\"Épitészet\">Épitészet</a><a class=\"subCat\" href=\"https://www.ekonyv.hu/hu/tematikak/eletrajz?id=46\" title=\"Életrajz\">Életrajz</a></div><a class=\"catBullet\" href=\"https://www.ekonyv.hu/hu/tematikak/nyelvkonyv-idegen-nyelvu?id=14\" title=\"Nyelvkönyv, idegen nyelvű\">Nyelvkönyv, idegen nyelvű</a><a class=\"mainCat\" href=\"#\">(+)</a><br/><div class=\"subdiv\" id=\"submenu-14\"><a class=\"subCat\" href=\"https://www.ekonyv.hu/hu/tematikak/eszperanto-nyelvy-konyvek?id=175\" title=\"Eszperantó nyelvű könyvek\">Eszperantó nyelvű könyvek</a><a class=\"subCat\" href=\"https://www.ekonyv.hu/hu/tematikak/cseh-nyelvy-konyvek?id=170\" title=\"Cseh nyelvű könyvek\">Cseh nyelvű könyvek</a><a class=\"subCat\" href=\"https://www.ekonyv.hu/hu/tematikak/horvat-nyelvy-konyvek?id=168\" title=\"Horvát nyelvű könyvek\">Horvát nyelvű könyvek</a><a class=\"subCat\" href=\"https://www.ekonyv.hu/hu/tematikak/sved-nyelvy-konyvek?id=166\" title=\"Svéd nyelvű könyvek\">Svéd nyelvű könyvek</a><a class=\"subCat\" href=\"https://www.ekonyv.hu/hu/tematikak/dan-nyelvy-konyvek?id=164\" title=\"Dán nyelvű könyvek\">Dán nyelvű könyvek</a><a class=\"subCat\" href=\"https://www.ekonyv.hu/hu/tematikak/litvan-nyelvu-konyvek?id=162\" title=\"Litván nyelvű könyvek\">Litván nyelvű könyvek</a><a class=\"subCat\" href=\"https://www.ekonyv.hu/hu/tematikak/lett-nyelvu-konyvek?id=160\" title=\"Lett nyelvű könyvek\">Lett nyelvű könyvek</a><a class=\"subCat\" href=\"https://www.ekonyv.hu/hu/tematikak/eszt-nyelvu-konyvek?id=158\" title=\"Észt nyelvű könyvek\">Észt nyelvű könyvek</a><a class=\"subCat\" href=\"https://www.ekonyv.hu/hu/tematikak/szerb-nyelvu-konyvek?id=154\" title=\"Szerb nyelvű könyvek\">Szerb nyelvű könyvek</a><a class=\"subCat\" href=\"https://www.ekonyv.hu/hu/tematikak/holland-nyelvu-konyvek?id=152\" title=\"Holland nyelvű könyvek\">Holland nyelvű könyvek</a><a class=\"subCat\" href=\"https://www.ekonyv.hu/hu/tematikak/roman-nyelvu-konyvek?id=150\" title=\"Román nyelvű könyvek\">Román nyelvű könyvek</a><a class=\"subCat\" href=\"https://www.ekonyv.hu/hu/tematikak/lengyel-nyelvu-konyvek?id=148\" title=\"Lengyel nyelvű könyvek\">Lengyel nyelvű könyvek</a><a class=\"subCat\" href=\"https://www.ekonyv.hu/hu/tematikak/olasz-nyelvu-konyvek?id=147\" title=\"Olasz nyelvű könyvek\">Olasz nyelvű könyvek</a><a class=\"subCat\" href=\"https://www.ekonyv.hu/hu/tematikak/portugal-nyelvu-konyvek?id=146\" title=\"Portugál nyelvű könyvek\">Portugál nyelvű könyvek</a><a class=\"subCat\" href=\"https://www.ekonyv.hu/hu/tematikak/nemet-nyelvu-konyvek?id=145\" title=\"Német nyelvű könyvek\">Német nyelvű könyvek</a><a class=\"subCat\" href=\"https://www.ekonyv.hu/hu/tematikak/spanyol-nyelvu-konyvek?id=144\" title=\"Spanyol nyelvű könyvek\">Spanyol nyelvű könyvek</a><a class=\"subCat\" href=\"https://www.ekonyv.hu/hu/tematikak/francia-nyelvu-konyvek?id=143\" title=\"Francia nyelvű könyvek\">Francia nyelvű könyvek</a><a class=\"subCat\" href=\"https://www.ekonyv.hu/hu/tematikak/angol-nyelvu-konyvek?id=142\" title=\"Angol nyelvű könyvek\">Angol nyelvű könyvek</a><a class=\"subCat\" href=\"https://www.ekonyv.hu/hu/tematikak/ketnyelvu-konyvek?id=134\" title=\"Kétnyelvű könyvek\">Kétnyelvű könyvek</a></div><a class=\"catBullet\" href=\"https://www.ekonyv.hu/hu/tematikak/sport-szabadido?id=13\" title=\"Sport, szabadidő\">Sport, szabadidő</a><a class=\"mainCat\" href=\"#\">(+)</a><br/><div class=\"subdiv\" id=\"submenu-13\"><a class=\"subCat\" href=\"https://www.ekonyv.hu/hu/tematikak/hobbi?id=56\" title=\"Hobbi\">Hobbi</a><a class=\"subCat\" href=\"https://www.ekonyv.hu/hu/tematikak/sport?id=55\" title=\"Sport\">Sport</a></div><a class=\"catBullet\" href=\"https://www.ekonyv.hu/hu/tematikak/szakkonyv?id=12\" title=\"Szakkönyv\">Szakkönyv</a><a class=\"mainCat\" href=\"#\">(+)</a><br/><div class=\"subdiv\" id=\"submenu-12\"><a class=\"subCat\" href=\"https://www.ekonyv.hu/hu/tematikak/orvostudomanyok?id=60\" title=\"Orvostudományok\">Orvostudományok</a><a class=\"subCat\" href=\"https://www.ekonyv.hu/hu/tematikak/muszaki-tudomanyok?id=59\" title=\"Műszaki tudományok\">Műszaki tudományok</a><a class=\"subCat\" href=\"https://www.ekonyv.hu/hu/tematikak/lexikon-enciklopedia-szotar?id=57\" title=\"Lexikon, enciklopédia, szótár\">Lexikon, enciklopédia, szótár</a></div><a class=\"catBullet\" href=\"https://www.ekonyv.hu/hu/tematikak/szamitastechnika?id=11\" title=\"Számítástechnika\">Számítástechnika</a><a class=\"mainCat\" href=\"#\">(+)</a><br/><div class=\"subdiv\" id=\"submenu-11\"><a class=\"subCat\" href=\"https://www.ekonyv.hu/hu/tematikak/egyeb?id=70\" title=\"Egyéb\">Egyéb</a><a class=\"subCat\" href=\"https://www.ekonyv.hu/hu/tematikak/programozas?id=69\" title=\"Programozás\">Programozás</a><a class=\"subCat\" href=\"https://www.ekonyv.hu/hu/tematikak/operacios-rendszer?id=68\" title=\"Operációs rendszer\">Operációs rendszer</a><a class=\"subCat\" href=\"https://www.ekonyv.hu/hu/tematikak/iroda-es-otthon?id=67\" title=\"Iroda és otthon\">Iroda és otthon</a><a class=\"subCat\" href=\"https://www.ekonyv.hu/hu/tematikak/internet?id=66\" title=\"Internet\">Internet</a><a class=\"subCat\" href=\"https://www.ekonyv.hu/hu/tematikak/hardver?id=65\" title=\"Hardver\">Hardver</a><a class=\"subCat\" href=\"https://www.ekonyv.hu/hu/tematikak/halozat?id=64\" title=\"Hálózat\">Hálózat</a><a class=\"subCat\" href=\"https://www.ekonyv.hu/hu/tematikak/biztonsag?id=62\" title=\"Biztonság\">Biztonság</a><a class=\"subCat\" href=\"https://www.ekonyv.hu/hu/tematikak/adatbazis?id=61\" title=\"Adatbázis\">Adatbázis</a></div><a class=\"catBullet\" href=\"https://www.ekonyv.hu/hu/tematikak/szepirodalom?id=10\" title=\"Szépirodalom\">Szépirodalom</a><a class=\"mainCat\" href=\"#\">(+)</a><br/><div class=\"subdiv\" id=\"submenu-10\"><a class=\"subCat\" href=\"https://www.ekonyv.hu/hu/tematikak/eletrajz?id=139\" title=\"Életrajz\">Életrajz</a><a class=\"subCat\" href=\"https://www.ekonyv.hu/hu/tematikak/versek?id=76\" title=\"Versek\">Versek</a><a class=\"subCat\" href=\"https://www.ekonyv.hu/hu/tematikak/szinmuvek?id=75\" title=\"Színművek\">Színművek</a><a class=\"subCat\" href=\"https://www.ekonyv.hu/hu/tematikak/vilagirodalom?id=74\" title=\"Világirodalom\">Világirodalom</a><a class=\"subCat\" href=\"https://www.ekonyv.hu/hu/tematikak/magyar-irodalom?id=73\" title=\"Magyar irodalom\">Magyar irodalom</a><a class=\"subCat\" href=\"https://www.ekonyv.hu/hu/tematikak/riportkonyv-tenyirodalom?id=72\" title=\"Riportkönyv, tényirodalom\">Riportkönyv, tényirodalom</a><a class=\"subCat\" href=\"https://www.ekonyv.hu/hu/tematikak/irodalomtortenet?id=71\" title=\"Irodalomtörténet\">Irodalomtörténet</a></div><a class=\"catBullet\" href=\"https://www.ekonyv.hu/hu/tematikak/szorakoztato-irodalom?id=9\" title=\"Szórakoztató irodalom\">Szórakoztató irodalom</a><a class=\"mainCat\" href=\"#\">(+)</a><br/><div class=\"subdiv\" id=\"submenu-9\"><a class=\"subCat\" href=\"https://www.ekonyv.hu/hu/tematikak/eletrajz?id=140\" title=\"Életrajz\">Életrajz</a><a class=\"subCat\" href=\"https://www.ekonyv.hu/hu/tematikak/erotikus?id=138\" title=\"Erotikus\">Erotikus</a><a class=\"subCat\" href=\"https://www.ekonyv.hu/hu/tematikak/vampirregenyek?id=85\" title=\"Vámpírregények\">Vámpírregények</a><a class=\"subCat\" href=\"https://www.ekonyv.hu/hu/tematikak/thriller-horror?id=84\" title=\"Thriller, horror\">Thriller, horror</a><a class=\"subCat active\" href=\"https://www.ekonyv.hu/hu/tematikak/sci-fi?id=83\" title=\"Sci-fi\">Sci-fi</a><a class=\"subCat\" href=\"https://www.ekonyv.hu/hu/tematikak/romantikus?id=82\" title=\"Romantikus\">Romantikus</a><a class=\"subCat\" href=\"https://www.ekonyv.hu/hu/tematikak/krimi?id=81\" title=\"Krimi\">Krimi</a><a class=\"subCat\" href=\"https://www.ekonyv.hu/hu/tematikak/kepregeny?id=80\" title=\"Képregény\">Képregény</a><a class=\"subCat\" href=\"https://www.ekonyv.hu/hu/tematikak/kalandregeny?id=79\" title=\"Kalandregény\">Kalandregény</a><a class=\"subCat\" href=\"https://www.ekonyv.hu/hu/tematikak/humoros-szatira?id=78\" title=\"Humoros, Szatíra\">Humoros, Szatíra</a><a class=\"subCat\" href=\"https://www.ekonyv.hu/hu/tematikak/fantasy?id=77\" title=\"Fantasy\">Fantasy</a></div><a class=\"catBullet\" href=\"https://www.ekonyv.hu/hu/tematikak/tankonyv-segedkonyv?id=8\" title=\"Tankönyv, segédkönyv\">Tankönyv, segédkönyv</a><a class=\"mainCat\" href=\"#\">(+)</a><br/><div class=\"subdiv\" id=\"submenu-8\"><a class=\"subCat\" href=\"https://www.ekonyv.hu/hu/tematikak/egyeb?id=90\" title=\"Egyéb\">Egyéb</a><a class=\"subCat\" href=\"https://www.ekonyv.hu/hu/tematikak/foiskola-egyetem?id=88\" title=\"Főiskola, egyetem\">Főiskola, egyetem</a><a class=\"subCat\" href=\"https://www.ekonyv.hu/hu/tematikak/5-12-evfolyam?id=87\" title=\"5-12. évfolyam\">5-12. évfolyam</a><a class=\"subCat\" href=\"https://www.ekonyv.hu/hu/tematikak/1-4-evfolyam?id=86\" title=\"1-4. évfolyam\">1-4. évfolyam</a></div><a class=\"catBullet\" href=\"https://www.ekonyv.hu/hu/tematikak/tarsadalomtudomany?id=6\" title=\"Társadalomtudomány\">Társadalomtudomány</a><a class=\"mainCat\" href=\"#\">(+)</a><br/><div class=\"subdiv\" id=\"submenu-6\"><a class=\"subCat\" href=\"https://www.ekonyv.hu/hu/tematikak/egyeb?id=99\" title=\"Egyéb\">Egyéb</a><a class=\"subCat\" href=\"https://www.ekonyv.hu/hu/tematikak/szociologia?id=98\" title=\"Szociológia\">Szociológia</a><a class=\"subCat\" href=\"https://www.ekonyv.hu/hu/tematikak/pszichologia?id=97\" title=\"Pszichológia\">Pszichológia</a><a class=\"subCat\" href=\"https://www.ekonyv.hu/hu/tematikak/pedagogia?id=96\" title=\"Pedagógia\">Pedagógia</a><a class=\"subCat\" href=\"https://www.ekonyv.hu/hu/tematikak/nyelveszet?id=95\" title=\"Nyelvészet\">Nyelvészet</a><a class=\"subCat\" href=\"https://www.ekonyv.hu/hu/tematikak/neprajz?id=94\" title=\"Néprajz\">Néprajz</a><a class=\"subCat\" href=\"https://www.ekonyv.hu/hu/tematikak/kozgazdasag?id=93\" title=\"Közgazdaság\">Közgazdaság</a><a class=\"subCat\" href=\"https://www.ekonyv.hu/hu/tematikak/jog?id=92\" title=\"Jog\">Jog</a><a class=\"subCat\" href=\"https://www.ekonyv.hu/hu/tematikak/filozofia?id=91\" title=\"Filozófia\">Filozófia</a></div><a class=\"catBullet\" href=\"https://www.ekonyv.hu/hu/tematikak/termeszettudomany?id=7\" title=\"Természettudomány\">Természettudomány</a><a class=\"mainCat\" href=\"#\">(+)</a><br/><div class=\"subdiv\" id=\"submenu-7\"><a class=\"subCat\" href=\"https://www.ekonyv.hu/hu/tematikak/egyeb?id=107\" title=\"Egyéb\">Egyéb</a><a class=\"subCat\" href=\"https://www.ekonyv.hu/hu/tematikak/matematika?id=106\" title=\"Matematika\">Matematika</a><a class=\"subCat\" href=\"https://www.ekonyv.hu/hu/tematikak/kemia?id=105\" title=\"Kémia\">Kémia</a><a class=\"subCat\" href=\"https://www.ekonyv.hu/hu/tematikak/geologia?id=104\" title=\"Geológia\">Geológia</a><a class=\"subCat\" href=\"https://www.ekonyv.hu/hu/tematikak/foldrajz?id=103\" title=\"Földrajz\">Földrajz</a><a class=\"subCat\" href=\"https://www.ekonyv.hu/hu/tematikak/fizika?id=102\" title=\"Fizika\">Fizika</a><a class=\"subCat\" href=\"https://www.ekonyv.hu/hu/tematikak/csillagaszat?id=101\" title=\"Csillagászat\">Csillagászat</a><a class=\"subCat\" href=\"https://www.ekonyv.hu/hu/tematikak/biologia?id=100\" title=\"Biológia\">Biológia</a></div><a class=\"catBullet\" href=\"https://www.ekonyv.hu/hu/tematikak/tortenelem?id=5\" title=\"Történelem\">Történelem</a><a class=\"mainCat\" href=\"#\">(+)</a><br/><div class=\"subdiv\" id=\"submenu-5\"><a class=\"subCat\" href=\"https://www.ekonyv.hu/hu/tematikak/vilagtortenelem?id=116\" title=\"Világtörténelem\">Világtörténelem</a><a class=\"subCat\" href=\"https://www.ekonyv.hu/hu/tematikak/regeszet?id=115\" title=\"Régészet\">Régészet</a><a class=\"subCat\" href=\"https://www.ekonyv.hu/hu/tematikak/politika?id=114\" title=\"Politika\">Politika</a><a class=\"subCat\" href=\"https://www.ekonyv.hu/hu/tematikak/muvelodestortenet?id=113\" title=\"Művelődéstörténet\">Művelődéstörténet</a><a class=\"subCat\" href=\"https://www.ekonyv.hu/hu/tematikak/magyar-tortenelem?id=112\" title=\"Magyar történelem\">Magyar történelem</a><a class=\"subCat\" href=\"https://www.ekonyv.hu/hu/tematikak/heraldika-csaladtortenet?id=111\" title=\"Heraldika, családtörténet\">Heraldika, családtörténet</a><a class=\"subCat\" href=\"https://www.ekonyv.hu/hu/tematikak/helytortenet?id=110\" title=\"Helytörténet\">Helytörténet</a><a class=\"subCat\" href=\"https://www.ekonyv.hu/hu/tematikak/hadaszat?id=109\" title=\"Hadászat\">Hadászat</a><a class=\"subCat\" href=\"https://www.ekonyv.hu/hu/tematikak/eletrajzok?id=108\" title=\"Életrajzok\">Életrajzok</a></div><a class=\"catBullet\" href=\"https://www.ekonyv.hu/hu/tematikak/utazas?id=4\" title=\"Utazás\">Utazás</a><a class=\"mainCat\" href=\"#\">(+)</a><br/><div class=\"subdiv\" id=\"submenu-4\"><a class=\"subCat\" href=\"https://www.ekonyv.hu/hu/tematikak/utleirasok?id=118\" title=\"Útleírások\">Útleírások</a><a class=\"subCat\" href=\"https://www.ekonyv.hu/hu/tematikak/utikonyvek?id=117\" title=\"Útikönyvek\">Útikönyvek</a></div><a class=\"catBullet\" href=\"https://www.ekonyv.hu/hu/tematikak/uzleti-elet-karrier?id=1\" title=\"Üzleti élet, karrier\">Üzleti élet, karrier</a><a class=\"mainCat\" href=\"#\">(+)</a><br/><div class=\"subdiv\" id=\"submenu-1\"><a class=\"subCat\" href=\"https://www.ekonyv.hu/hu/tematikak/menedzsment-vezetesi-strategiak?id=124\" title=\"Menedzsment, vezetési stratégiák\">Menedzsment, vezetési stratégiák</a><a class=\"subCat\" href=\"https://www.ekonyv.hu/hu/tematikak/marketing-reklam?id=123\" title=\"Marketing, reklám\">Marketing, reklám</a><a class=\"subCat\" href=\"https://www.ekonyv.hu/hu/tematikak/kommunikacio-targyalastechnika?id=122\" title=\"Kommunikáció, tárgyalástechnika\">Kommunikáció, tárgyalástechnika</a><a class=\"subCat\" href=\"https://www.ekonyv.hu/hu/tematikak/ertekesites?id=121\" title=\"Értékesítés\">Értékesítés</a><a class=\"subCat\" href=\"https://www.ekonyv.hu/hu/tematikak/befektetes-vallalkozas?id=120\" title=\"Befektetés, vállalkozás\">Befektetés, vállalkozás</a><a class=\"subCat\" href=\"https://www.ekonyv.hu/hu/tematikak/allaskereses-karrierepites-hr?id=119\" title=\"Álláskeresés, karrierépítés, HR\">Álláskeresés, karrierépítés, HR</a></div><a class=\"catBullet\" href=\"https://www.ekonyv.hu/hu/tematikak/vallas?id=3\" title=\"Vallás\">Vallás</a><a class=\"mainCat\" href=\"#\">(+)</a><br/><div class=\"subdiv\" id=\"submenu-3\"><a class=\"subCat\" href=\"https://www.ekonyv.hu/hu/tematikak/vallastortenet?id=133\" title=\"Vallástörténet\">Vallástörténet</a><a class=\"subCat\" href=\"https://www.ekonyv.hu/hu/tematikak/mitologia?id=132\" title=\"Mitológia\">Mitológia</a><a class=\"subCat\" href=\"https://www.ekonyv.hu/hu/tematikak/keresztenyseg?id=131\" title=\"Kereszténység\">Kereszténység</a><a class=\"subCat\" href=\"https://www.ekonyv.hu/hu/tematikak/judaizmus?id=130\" title=\"Judaizmus\">Judaizmus</a><a class=\"subCat\" href=\"https://www.ekonyv.hu/hu/tematikak/iszlam?id=129\" title=\"Iszlám\">Iszlám</a><a class=\"subCat\" href=\"https://www.ekonyv.hu/hu/tematikak/hinduizmus?id=128\" title=\"Hinduizmus\">Hinduizmus</a><a class=\"subCat\" href=\"https://www.ekonyv.hu/hu/tematikak/egyeb?id=127\" title=\"Egyéb\">Egyéb</a><a class=\"subCat\" href=\"https://www.ekonyv.hu/hu/tematikak/buddhizmus?id=126\" title=\"Buddhizmus\">Buddhizmus</a><a class=\"subCat\" href=\"https://www.ekonyv.hu/hu/tematikak/a-biblia-vilaga?id=125\" title=\"A Biblia világa\">A Biblia világa</a></div></div><div class=\"box\"><div class=\"masterswitch\"></div><div class=\"boxContent\"><div class=\"catBoxContent\">\n",
       "<a class=\"highlight\" href=\"https://www.ekonyv.hu/hu/ujdonsagok\" title=\"Újdonságok\"><img alt=\"Újdonságok\" src=\"grafika/ico-novinky.gif\"/>Újdonságok</a><a class=\"highlight\" href=\"https://www.ekonyv.hu/hu/bestsellerek\" title=\"Bestsellerek\"><img alt=\"Bestsellerek\" src=\"grafika/ico-bestsellery.gif\"/>Bestsellerek</a><a class=\"highlight\" href=\"https://www.ekonyv.hu/hu/szerzok\" title=\"Szerzők\"><img alt=\"Szerzők\" src=\"grafika/ico-autor.gif\"/>Szerzők</a>\n",
       "<div class=\"alignc\"><img alt=\"hr\" src=\"grafika/mostSalesBottom.gif\"/></div>\n",
       "<div class=\"ebookSection\"><img alt=\"\" src=\"grafika/ico-dospela.png\"/>ekönyvek</div><br/>\n",
       "<script type=\"text/javascript\"><!--\n",
       "dtree1 = new dTree('dtree1');\n",
       "dtree1.config.useIcons = false;\n",
       "dtree1.config.inOrder = true;\n",
       "dtree1.config.useSelection = true;\n",
       "dtree1.config.useCookies = false;\n",
       "dtree1.add(0,-1,'');\n",
       "dtree1.add(2,0,'Életmód, egészség','https://www.ekonyv.hu/hu/tematikak/eletmod-egeszseg?id=2');\n",
       "dtree1.add(174,2,'Életmód, stílus, karrier','https://www.ekonyv.hu/hu/tematikak/eletmod-stilus-karrier?id=174');\n",
       "dtree1.add(156,2,'Egészséges életmód','https://www.ekonyv.hu/hu/tematikak/egeszseges-eletmod?id=156');\n",
       "dtree1.add(141,2,'Divat','https://www.ekonyv.hu/hu/tematikak/divat?id=141');\n",
       "dtree1.add(24,2,'Wellness, fitness, jóga','https://www.ekonyv.hu/hu/tematikak/wellness-fitness-joga?id=24');\n",
       "dtree1.add(23,2,'Természetgyógyászat','https://www.ekonyv.hu/hu/tematikak/termeszetgyogyaszat?id=23');\n",
       "dtree1.add(22,2,'Kozmetika, szépség, divat','https://www.ekonyv.hu/hu/tematikak/kozmetika-szepseg-divat?id=22');\n",
       "dtree1.add(21,2,'Egészséges táplákozás, diétáskönyvek','https://www.ekonyv.hu/hu/tematikak/egeszseges-taplakozas-dietaskonyvek?id=21');\n",
       "dtree1.add(20,0,'Ezoterika','https://www.ekonyv.hu/hu/tematikak/ezoterika?id=20');\n",
       "dtree1.add(33,20,'Okkultizmus, spiritualizmus','https://www.ekonyv.hu/hu/tematikak/okkultizmus-spiritualizmus?id=33');\n",
       "dtree1.add(32,20,'Meditáció, jóga','https://www.ekonyv.hu/hu/tematikak/meditacio-joga?id=32');\n",
       "dtree1.add(31,20,'Mágia, boszorkányság','https://www.ekonyv.hu/hu/tematikak/magia-boszorkanysag?id=31');\n",
       "dtree1.add(30,20,'Keleti tanítások','https://www.ekonyv.hu/hu/tematikak/keleti-tanitasok?id=30');\n",
       "dtree1.add(29,20,'Jóslás, álomfejtés, tarot','https://www.ekonyv.hu/hu/tematikak/joslas-alomfejtes-tarot?id=29');\n",
       "dtree1.add(28,20,'Holisztika, egészség','https://www.ekonyv.hu/hu/tematikak/holisztika-egeszseg?id=28');\n",
       "dtree1.add(27,20,'Feng shui','https://www.ekonyv.hu/hu/tematikak/feng-shui?id=27');\n",
       "dtree1.add(26,20,'Ezotéria','https://www.ekonyv.hu/hu/tematikak/ezoteria?id=26');\n",
       "dtree1.add(25,20,'Asztrológia','https://www.ekonyv.hu/hu/tematikak/asztrologia?id=25');\n",
       "dtree1.add(19,0,'Gasztronómia','https://www.ekonyv.hu/hu/tematikak/gasztronomia?id=19');\n",
       "dtree1.add(37,19,'Szakácskönyvek','https://www.ekonyv.hu/hu/tematikak/szakacskonyvek?id=37');\n",
       "dtree1.add(36,19,'Italok','https://www.ekonyv.hu/hu/tematikak/italok?id=36');\n",
       "dtree1.add(35,19,'Gasztronómia-történet','https://www.ekonyv.hu/hu/tematikak/gasztronomia-tortenet?id=35');\n",
       "dtree1.add(18,0,'Gyermek és ifjúsági','https://www.ekonyv.hu/hu/tematikak/gyermek-es-ifjusagi?id=18');\n",
       "dtree1.add(40,18,'Mesekönyvek','https://www.ekonyv.hu/hu/tematikak/mesekonyvek?id=40');\n",
       "dtree1.add(39,18,'Ifjúsági ismeretterjesztő','https://www.ekonyv.hu/hu/tematikak/ifjusagi-ismeretterjeszto?id=39');\n",
       "dtree1.add(38,18,'YA, Ifjúsági regények és elbeszélések','https://www.ekonyv.hu/hu/tematikak/ya-ifjusagi-regenyek-es-elbeszelesek?id=38');\n",
       "dtree1.add(17,0,'Gyermekek és szülők','https://www.ekonyv.hu/hu/tematikak/gyermekek-es-szulok?id=17');\n",
       "dtree1.add(43,17,'Terhesség és szülés','https://www.ekonyv.hu/hu/tematikak/terhesseg-es-szules?id=43');\n",
       "dtree1.add(42,17,'Kisbabák és kismamák','https://www.ekonyv.hu/hu/tematikak/kisbabak-es-kismamak?id=42');\n",
       "dtree1.add(41,17,'Gyermeknevelés','https://www.ekonyv.hu/hu/tematikak/gyermekneveles?id=41');\n",
       "dtree1.add(16,0,'Kert és lakás','https://www.ekonyv.hu/hu/tematikak/kert-es-lakas?id=16');\n",
       "dtree1.add(45,16,'Otthon, lakberendezés','https://www.ekonyv.hu/hu/tematikak/otthon-lakberendezes?id=45');\n",
       "dtree1.add(44,16,'Növény és kert','https://www.ekonyv.hu/hu/tematikak/noveny-es-kert?id=44');\n",
       "dtree1.add(15,0,'Művészet','https://www.ekonyv.hu/hu/tematikak/muveszet?id=15');\n",
       "dtree1.add(54,15,'Zene','https://www.ekonyv.hu/hu/tematikak/zene?id=54');\n",
       "dtree1.add(53,15,'Szobrászat','https://www.ekonyv.hu/hu/tematikak/szobraszat?id=53');\n",
       "dtree1.add(52,15,'Művészettörténet','https://www.ekonyv.hu/hu/tematikak/muveszettortenet?id=52');\n",
       "dtree1.add(50,15,'Fotó','https://www.ekonyv.hu/hu/tematikak/foto?id=50');\n",
       "dtree1.add(49,15,'Film és színház','https://www.ekonyv.hu/hu/tematikak/film-es-szinhaz?id=49');\n",
       "dtree1.add(48,15,'Festészet','https://www.ekonyv.hu/hu/tematikak/festeszet?id=48');\n",
       "dtree1.add(47,15,'Épitészet','https://www.ekonyv.hu/hu/tematikak/epiteszet?id=47');\n",
       "dtree1.add(46,15,'Életrajz','https://www.ekonyv.hu/hu/tematikak/eletrajz?id=46');\n",
       "dtree1.add(14,0,'Nyelvkönyv, idegen nyelvű','https://www.ekonyv.hu/hu/tematikak/nyelvkonyv-idegen-nyelvu?id=14');\n",
       "dtree1.add(175,14,'Eszperantó nyelvű könyvek','https://www.ekonyv.hu/hu/tematikak/eszperanto-nyelvy-konyvek?id=175');\n",
       "dtree1.add(170,14,'Cseh nyelvű könyvek','https://www.ekonyv.hu/hu/tematikak/cseh-nyelvy-konyvek?id=170');\n",
       "dtree1.add(168,14,'Horvát nyelvű könyvek','https://www.ekonyv.hu/hu/tematikak/horvat-nyelvy-konyvek?id=168');\n",
       "dtree1.add(166,14,'Svéd nyelvű könyvek','https://www.ekonyv.hu/hu/tematikak/sved-nyelvy-konyvek?id=166');\n",
       "dtree1.add(164,14,'Dán nyelvű könyvek','https://www.ekonyv.hu/hu/tematikak/dan-nyelvy-konyvek?id=164');\n",
       "dtree1.add(162,14,'Litván nyelvű könyvek','https://www.ekonyv.hu/hu/tematikak/litvan-nyelvu-konyvek?id=162');\n",
       "dtree1.add(160,14,'Lett nyelvű könyvek','https://www.ekonyv.hu/hu/tematikak/lett-nyelvu-konyvek?id=160');\n",
       "dtree1.add(158,14,'Észt nyelvű könyvek','https://www.ekonyv.hu/hu/tematikak/eszt-nyelvu-konyvek?id=158');\n",
       "dtree1.add(154,14,'Szerb nyelvű könyvek','https://www.ekonyv.hu/hu/tematikak/szerb-nyelvu-konyvek?id=154');\n",
       "dtree1.add(152,14,'Holland nyelvű könyvek','https://www.ekonyv.hu/hu/tematikak/holland-nyelvu-konyvek?id=152');\n",
       "dtree1.add(150,14,'Román nyelvű könyvek','https://www.ekonyv.hu/hu/tematikak/roman-nyelvu-konyvek?id=150');\n",
       "dtree1.add(148,14,'Lengyel nyelvű könyvek','https://www.ekonyv.hu/hu/tematikak/lengyel-nyelvu-konyvek?id=148');\n",
       "dtree1.add(147,14,'Olasz nyelvű könyvek','https://www.ekonyv.hu/hu/tematikak/olasz-nyelvu-konyvek?id=147');\n",
       "dtree1.add(146,14,'Portugál nyelvű könyvek','https://www.ekonyv.hu/hu/tematikak/portugal-nyelvu-konyvek?id=146');\n",
       "dtree1.add(145,14,'Német nyelvű könyvek','https://www.ekonyv.hu/hu/tematikak/nemet-nyelvu-konyvek?id=145');\n",
       "dtree1.add(144,14,'Spanyol nyelvű könyvek','https://www.ekonyv.hu/hu/tematikak/spanyol-nyelvu-konyvek?id=144');\n",
       "dtree1.add(143,14,'Francia nyelvű könyvek','https://www.ekonyv.hu/hu/tematikak/francia-nyelvu-konyvek?id=143');\n",
       "dtree1.add(142,14,'Angol nyelvű könyvek','https://www.ekonyv.hu/hu/tematikak/angol-nyelvu-konyvek?id=142');\n",
       "dtree1.add(134,14,'Kétnyelvű könyvek','https://www.ekonyv.hu/hu/tematikak/ketnyelvu-konyvek?id=134');\n",
       "dtree1.add(13,0,'Sport, szabadidő','https://www.ekonyv.hu/hu/tematikak/sport-szabadido?id=13');\n",
       "dtree1.add(56,13,'Hobbi','https://www.ekonyv.hu/hu/tematikak/hobbi?id=56');\n",
       "dtree1.add(55,13,'Sport','https://www.ekonyv.hu/hu/tematikak/sport?id=55');\n",
       "dtree1.add(12,0,'Szakkönyv','https://www.ekonyv.hu/hu/tematikak/szakkonyv?id=12');\n",
       "dtree1.add(60,12,'Orvostudományok','https://www.ekonyv.hu/hu/tematikak/orvostudomanyok?id=60');\n",
       "dtree1.add(59,12,'Műszaki tudományok','https://www.ekonyv.hu/hu/tematikak/muszaki-tudomanyok?id=59');\n",
       "dtree1.add(57,12,'Lexikon, enciklopédia, szótár','https://www.ekonyv.hu/hu/tematikak/lexikon-enciklopedia-szotar?id=57');\n",
       "dtree1.add(11,0,'Számítástechnika','https://www.ekonyv.hu/hu/tematikak/szamitastechnika?id=11');\n",
       "dtree1.add(70,11,'Egyéb','https://www.ekonyv.hu/hu/tematikak/egyeb?id=70');\n",
       "dtree1.add(69,11,'Programozás','https://www.ekonyv.hu/hu/tematikak/programozas?id=69');\n",
       "dtree1.add(68,11,'Operációs rendszer','https://www.ekonyv.hu/hu/tematikak/operacios-rendszer?id=68');\n",
       "dtree1.add(67,11,'Iroda és otthon','https://www.ekonyv.hu/hu/tematikak/iroda-es-otthon?id=67');\n",
       "dtree1.add(66,11,'Internet','https://www.ekonyv.hu/hu/tematikak/internet?id=66');\n",
       "dtree1.add(65,11,'Hardver','https://www.ekonyv.hu/hu/tematikak/hardver?id=65');\n",
       "dtree1.add(64,11,'Hálózat','https://www.ekonyv.hu/hu/tematikak/halozat?id=64');\n",
       "dtree1.add(62,11,'Biztonság','https://www.ekonyv.hu/hu/tematikak/biztonsag?id=62');\n",
       "dtree1.add(61,11,'Adatbázis','https://www.ekonyv.hu/hu/tematikak/adatbazis?id=61');\n",
       "dtree1.add(10,0,'Szépirodalom','https://www.ekonyv.hu/hu/tematikak/szepirodalom?id=10');\n",
       "dtree1.add(139,10,'Életrajz','https://www.ekonyv.hu/hu/tematikak/eletrajz?id=139');\n",
       "dtree1.add(76,10,'Versek','https://www.ekonyv.hu/hu/tematikak/versek?id=76');\n",
       "dtree1.add(75,10,'Színművek','https://www.ekonyv.hu/hu/tematikak/szinmuvek?id=75');\n",
       "dtree1.add(74,10,'Világirodalom','https://www.ekonyv.hu/hu/tematikak/vilagirodalom?id=74');\n",
       "dtree1.add(73,10,'Magyar irodalom','https://www.ekonyv.hu/hu/tematikak/magyar-irodalom?id=73');\n",
       "dtree1.add(72,10,'Riportkönyv, tényirodalom','https://www.ekonyv.hu/hu/tematikak/riportkonyv-tenyirodalom?id=72');\n",
       "dtree1.add(71,10,'Irodalomtörténet','https://www.ekonyv.hu/hu/tematikak/irodalomtortenet?id=71');\n",
       "dtree1.add(9,0,'Szórakoztató irodalom','https://www.ekonyv.hu/hu/tematikak/szorakoztato-irodalom?id=9');\n",
       "dtree1.add(140,9,'Életrajz','https://www.ekonyv.hu/hu/tematikak/eletrajz?id=140');\n",
       "dtree1.add(138,9,'Erotikus','https://www.ekonyv.hu/hu/tematikak/erotikus?id=138');\n",
       "dtree1.add(85,9,'Vámpírregények','https://www.ekonyv.hu/hu/tematikak/vampirregenyek?id=85');\n",
       "dtree1.add(84,9,'Thriller, horror','https://www.ekonyv.hu/hu/tematikak/thriller-horror?id=84');\n",
       "dtree1.add(83,9,'Sci-fi','https://www.ekonyv.hu/hu/tematikak/sci-fi?id=83');\n",
       "dtree1.add(82,9,'Romantikus','https://www.ekonyv.hu/hu/tematikak/romantikus?id=82');\n",
       "dtree1.add(81,9,'Krimi','https://www.ekonyv.hu/hu/tematikak/krimi?id=81');\n",
       "dtree1.add(80,9,'Képregény','https://www.ekonyv.hu/hu/tematikak/kepregeny?id=80');\n",
       "dtree1.add(79,9,'Kalandregény','https://www.ekonyv.hu/hu/tematikak/kalandregeny?id=79');\n",
       "dtree1.add(78,9,'Humoros, Szatíra','https://www.ekonyv.hu/hu/tematikak/humoros-szatira?id=78');\n",
       "dtree1.add(77,9,'Fantasy','https://www.ekonyv.hu/hu/tematikak/fantasy?id=77');\n",
       "dtree1.add(8,0,'Tankönyv, segédkönyv','https://www.ekonyv.hu/hu/tematikak/tankonyv-segedkonyv?id=8');\n",
       "dtree1.add(90,8,'Egyéb','https://www.ekonyv.hu/hu/tematikak/egyeb?id=90');\n",
       "dtree1.add(88,8,'Főiskola, egyetem','https://www.ekonyv.hu/hu/tematikak/foiskola-egyetem?id=88');\n",
       "dtree1.add(87,8,'5-12. évfolyam','https://www.ekonyv.hu/hu/tematikak/5-12-evfolyam?id=87');\n",
       "dtree1.add(86,8,'1-4. évfolyam','https://www.ekonyv.hu/hu/tematikak/1-4-evfolyam?id=86');\n",
       "dtree1.add(6,0,'Társadalomtudomány','https://www.ekonyv.hu/hu/tematikak/tarsadalomtudomany?id=6');\n",
       "dtree1.add(99,6,'Egyéb','https://www.ekonyv.hu/hu/tematikak/egyeb?id=99');\n",
       "dtree1.add(98,6,'Szociológia','https://www.ekonyv.hu/hu/tematikak/szociologia?id=98');\n",
       "dtree1.add(97,6,'Pszichológia','https://www.ekonyv.hu/hu/tematikak/pszichologia?id=97');\n",
       "dtree1.add(96,6,'Pedagógia','https://www.ekonyv.hu/hu/tematikak/pedagogia?id=96');\n",
       "dtree1.add(95,6,'Nyelvészet','https://www.ekonyv.hu/hu/tematikak/nyelveszet?id=95');\n",
       "dtree1.add(94,6,'Néprajz','https://www.ekonyv.hu/hu/tematikak/neprajz?id=94');\n",
       "dtree1.add(93,6,'Közgazdaság','https://www.ekonyv.hu/hu/tematikak/kozgazdasag?id=93');\n",
       "dtree1.add(92,6,'Jog','https://www.ekonyv.hu/hu/tematikak/jog?id=92');\n",
       "dtree1.add(91,6,'Filozófia','https://www.ekonyv.hu/hu/tematikak/filozofia?id=91');\n",
       "dtree1.add(7,0,'Természettudomány','https://www.ekonyv.hu/hu/tematikak/termeszettudomany?id=7');\n",
       "dtree1.add(107,7,'Egyéb','https://www.ekonyv.hu/hu/tematikak/egyeb?id=107');\n",
       "dtree1.add(106,7,'Matematika','https://www.ekonyv.hu/hu/tematikak/matematika?id=106');\n",
       "dtree1.add(105,7,'Kémia','https://www.ekonyv.hu/hu/tematikak/kemia?id=105');\n",
       "dtree1.add(104,7,'Geológia','https://www.ekonyv.hu/hu/tematikak/geologia?id=104');\n",
       "dtree1.add(103,7,'Földrajz','https://www.ekonyv.hu/hu/tematikak/foldrajz?id=103');\n",
       "dtree1.add(102,7,'Fizika','https://www.ekonyv.hu/hu/tematikak/fizika?id=102');\n",
       "dtree1.add(101,7,'Csillagászat','https://www.ekonyv.hu/hu/tematikak/csillagaszat?id=101');\n",
       "dtree1.add(100,7,'Biológia','https://www.ekonyv.hu/hu/tematikak/biologia?id=100');\n",
       "dtree1.add(5,0,'Történelem','https://www.ekonyv.hu/hu/tematikak/tortenelem?id=5');\n",
       "dtree1.add(116,5,'Világtörténelem','https://www.ekonyv.hu/hu/tematikak/vilagtortenelem?id=116');\n",
       "dtree1.add(115,5,'Régészet','https://www.ekonyv.hu/hu/tematikak/regeszet?id=115');\n",
       "dtree1.add(114,5,'Politika','https://www.ekonyv.hu/hu/tematikak/politika?id=114');\n",
       "dtree1.add(113,5,'Művelődéstörténet','https://www.ekonyv.hu/hu/tematikak/muvelodestortenet?id=113');\n",
       "dtree1.add(112,5,'Magyar történelem','https://www.ekonyv.hu/hu/tematikak/magyar-tortenelem?id=112');\n",
       "dtree1.add(111,5,'Heraldika, családtörténet','https://www.ekonyv.hu/hu/tematikak/heraldika-csaladtortenet?id=111');\n",
       "dtree1.add(110,5,'Helytörténet','https://www.ekonyv.hu/hu/tematikak/helytortenet?id=110');\n",
       "dtree1.add(109,5,'Hadászat','https://www.ekonyv.hu/hu/tematikak/hadaszat?id=109');\n",
       "dtree1.add(108,5,'Életrajzok','https://www.ekonyv.hu/hu/tematikak/eletrajzok?id=108');\n",
       "dtree1.add(4,0,'Utazás','https://www.ekonyv.hu/hu/tematikak/utazas?id=4');\n",
       "dtree1.add(118,4,'Útleírások','https://www.ekonyv.hu/hu/tematikak/utleirasok?id=118');\n",
       "dtree1.add(117,4,'Útikönyvek','https://www.ekonyv.hu/hu/tematikak/utikonyvek?id=117');\n",
       "dtree1.add(1,0,'Üzleti élet, karrier','https://www.ekonyv.hu/hu/tematikak/uzleti-elet-karrier?id=1');\n",
       "dtree1.add(124,1,'Menedzsment, vezetési stratégiák','https://www.ekonyv.hu/hu/tematikak/menedzsment-vezetesi-strategiak?id=124');\n",
       "dtree1.add(123,1,'Marketing, reklám','https://www.ekonyv.hu/hu/tematikak/marketing-reklam?id=123');\n",
       "dtree1.add(122,1,'Kommunikáció, tárgyalástechnika','https://www.ekonyv.hu/hu/tematikak/kommunikacio-targyalastechnika?id=122');\n",
       "dtree1.add(121,1,'Értékesítés','https://www.ekonyv.hu/hu/tematikak/ertekesites?id=121');\n",
       "dtree1.add(120,1,'Befektetés, vállalkozás','https://www.ekonyv.hu/hu/tematikak/befektetes-vallalkozas?id=120');\n",
       "dtree1.add(119,1,'Álláskeresés, karrierépítés, HR','https://www.ekonyv.hu/hu/tematikak/allaskereses-karrierepites-hr?id=119');\n",
       "dtree1.add(3,0,'Vallás','https://www.ekonyv.hu/hu/tematikak/vallas?id=3');\n",
       "dtree1.add(133,3,'Vallástörténet','https://www.ekonyv.hu/hu/tematikak/vallastortenet?id=133');\n",
       "dtree1.add(132,3,'Mitológia','https://www.ekonyv.hu/hu/tematikak/mitologia?id=132');\n",
       "dtree1.add(131,3,'Kereszténység','https://www.ekonyv.hu/hu/tematikak/keresztenyseg?id=131');\n",
       "dtree1.add(130,3,'Judaizmus','https://www.ekonyv.hu/hu/tematikak/judaizmus?id=130');\n",
       "dtree1.add(129,3,'Iszlám','https://www.ekonyv.hu/hu/tematikak/iszlam?id=129');\n",
       "dtree1.add(128,3,'Hinduizmus','https://www.ekonyv.hu/hu/tematikak/hinduizmus?id=128');\n",
       "dtree1.add(127,3,'Egyéb','https://www.ekonyv.hu/hu/tematikak/egyeb?id=127');\n",
       "dtree1.add(126,3,'Buddhizmus','https://www.ekonyv.hu/hu/tematikak/buddhizmus?id=126');\n",
       "dtree1.add(125,3,'A Biblia világa','https://www.ekonyv.hu/hu/tematikak/a-biblia-vilaga?id=125');\n",
       "document.write(dtree1);\n",
       "dtree1.openTo(83,true);\n",
       "-->\n",
       "</script>\n",
       "</div><div class=\"clearer\"> </div>\n",
       "</div><div class=\"boxBottom\"></div></div><div class=\"box\"><div class=\"boxTop\"><p>Kiemelt ekönyv</p></div><div class=\"boxContent\"><div style=\"text-align:center;\"><div class=\"highlightEbook\"><div class=\"imgSpace\"><a href=\"https://www.ekonyv.hu/hu/konyv-reszletei/orokolt-sors?eid=64121\" title=\"Örökölt sors\"><img alt=\"Örökölt sors\" src=\"kiado/data/images/ebooks/64121_normal.jpg\"/></a></div><div class=\"highTop\"><a class=\"titul\" href=\"https://www.ekonyv.hu/hu/konyv-reszletei/orokolt-sors?eid=64121\" title=\"Örökölt sors\">Örökölt sors</a><br/><a class=\"author\" href=\"https://www.ekonyv.hu/hu/szerzok?name=Orvos-T%C3%B3th+No%C3%A9mi\" title=\"Orvos-Tóth Noémi\">Orvos-Tóth Noémi</a></div><strong class=\"price\">ekönyv: 2 350,- Ft</strong><br/>\n",
       "</div></div><div class=\"clearer\"> </div>\n",
       "</div><div class=\"boxBottom\"></div></div><div class=\"facebookBanner\">\n",
       "<iframe allowtransparency=\"true\" frameborder=\"0\" scrolling=\"no\" src=\"https://www.facebook.com/plugins/likebox.php?href=http://www.facebook.com/pages/Ek%C3%B6nyvhu-web%C3%A1ruh%C3%A1z/325046327573945&amp;width=200&amp;height=86&amp;colorscheme=light&amp;show_faces=false&amp;border_color&amp;stream=false&amp;header=false\" style=\"border:none; overflow:hidden; width:200px; height:86px;\"></iframe>\n",
       "</div>\n",
       "</div>\n",
       "<div id=\"secondCol\">\n",
       "<div class=\"pad\">\n",
       "<div class=\"centerBox\"><div class=\"centerBoxTop\"><h1>Szórakoztató irodalom | Sci-fi</h1></div><div class=\"centerBoxContent\"><div class=\"centerBoxPad\"><div class=\"strankovaciBox\"><form class=\"razeni\" method=\"get\"><input name=\"id\" type=\"hidden\" value=\"83\"/>Rendezés: <select name=\"razeni\" onchange=\"submit();\"><option value=\"nazev\">név</option><option value=\"cena\">ár</option><option value=\"popularita\">népszerűség</option><option selected=\"selected\" value=\"datum\">dátum</option></select></form><form class=\"polozekNaStranku\" method=\"post\">ekönyvek oldalanként <select name=\"polozek_na_stranku\" onchange=\"submit();\"><option value=\"8\">8</option><option selected=\"selected\" value=\"16\">16</option><option value=\"64\">64</option></select></form><div class=\"clearer\"> </div>\n",
       "<div class=\"strankovani\"><a class=\"pagenumber active\" href=\"/hu/tematikak/sci-fi?id=83&amp;str=1\" title=\"1. oldal\">1</a> <a class=\"pagenumber\" href=\"/hu/tematikak/sci-fi?id=83&amp;str=2\" title=\"2. oldal\">2</a> <a class=\"pagenumber\" href=\"/hu/tematikak/sci-fi?id=83&amp;str=3\" title=\"3. oldal\">3</a> <a class=\"pagenumber\" href=\"/hu/tematikak/sci-fi?id=83&amp;str=4\" title=\"4. oldal\">4</a> <a class=\"pagenumber\" href=\"/hu/tematikak/sci-fi?id=83&amp;str=5\" title=\"5. oldal\">5</a> <a href=\"/hu/tematikak/sci-fi?id=83&amp;str=2\" title=\"következő\">következő</a> <span class=\"green\">|</span> <a href=\"/hu/tematikak/sci-fi?id=83&amp;str=39\" title=\"utolsó oldal\"><img alt=\"utolsó oldal\" src=\"grafika/arrow-last.gif\"/></a> <span class=\"black\">[1 - 16 <span class=\"green\">|</span> 620] </span>  </div></div><div class=\"clearer\"> </div>\n",
       "<div class=\"bookList\"><div class=\"imgSpace\"><a href=\"https://www.ekonyv.hu/hu/konyv-reszletei/virtualis-mennyorszag?eid=64715\" title=\"Virtuális mennyország\"><img alt=\"Virtuális mennyország\" src=\"kiado/data/images/ebooks/64715_normal.jpg\"/></a></div><div class=\"bookListText\"><div class=\"title\"><a class=\"titul bold\" href=\"https://www.ekonyv.hu/hu/konyv-reszletei/virtualis-mennyorszag?eid=64715\" title=\"Virtuális mennyország\">Virtuális mennyország</a><br/>Szerző: <a class=\"author\" href=\"https://www.ekonyv.hu/hu/szerzok?name=Kir%C3%A1ly+M%C3%A1rk\" title=\"Király Márk\">Király Márk</a></div><p class=\"short_desc\">Csak egy normális, klisékkel teli életre vágytál, szerelemre és hogy mindig legyen egy cukormentes Pepsi a hűtőben. Próbálod a víz felett tartani a fejed <a class=\"vice\" href=\"https://www.ekonyv.hu/hu/konyv-reszletei/virtualis-mennyorszag?eid=64715\" title=\"Virtuális mennyország\">...[több]...</a></p><form action=\"https://www.ekonyv.hu/hu/kosar\" class=\"koupitZeSeznamu\" method=\"post\"><input name=\"koupit[64715]\" type=\"submit\" value=\"\"/></form><strong class=\"price\">ekönyv: 699,- Ft</strong> </div><div class=\"clearer\"> </div>\n",
       "</div><div class=\"bookList\"><div class=\"imgSpace\"><a href=\"https://www.ekonyv.hu/hu/konyv-reszletei/ragadozo-varosok?eid=64167\" title=\"Ragadozó városok\"><img alt=\"Ragadozó városok\" src=\"kiado/data/images/ebooks/64167_normal.jpg\"/></a></div><div class=\"bookListText\"><div class=\"title\"><a class=\"titul bold\" href=\"https://www.ekonyv.hu/hu/konyv-reszletei/ragadozo-varosok?eid=64167\" title=\"Ragadozó városok\">Ragadozó városok</a><br/>Szerző: <a class=\"author\" href=\"https://www.ekonyv.hu/hu/szerzok?name=Philip+Reeve\" title=\"Philip Reeve\">Philip Reeve</a></div><p class=\"short_desc\">A távoli jövőben a kevés megmaradt erőforrásért komoly harcot vívó városok hatalmas mozgó gépezetekké alakultak. A vadászmezőkön a nagyobb városok kiseb <a class=\"vice\" href=\"https://www.ekonyv.hu/hu/konyv-reszletei/ragadozo-varosok?eid=64167\" title=\"Ragadozó városok\">...[több]...</a></p><form action=\"https://www.ekonyv.hu/hu/kosar\" class=\"koupitZeSeznamu\" method=\"post\"><input name=\"koupit[64167]\" type=\"submit\" value=\"\"/></form><strong class=\"price\">ekönyv: 2 767,- Ft</strong> </div><div class=\"clearer\"> </div>\n",
       "</div><div class=\"clearer\"> </div>\n",
       "<div class=\"evenList\"><div class=\"bookList even\"><div class=\"imgSpace\"><a href=\"https://www.ekonyv.hu/hu/konyv-reszletei/az-utolso-haboru?eid=63859\" title=\"Az utolsó háború\"><img alt=\"Az utolsó háború\" src=\"kiado/data/images/ebooks/63859_normal.jpg\"/></a></div><div class=\"bookListText\"><div class=\"title\"><a class=\"titul bold\" href=\"https://www.ekonyv.hu/hu/konyv-reszletei/az-utolso-haboru?eid=63859\" title=\"Az utolsó háború\">Az utolsó háború</a><br/>Szerző: <a class=\"author\" href=\"https://www.ekonyv.hu/hu/szerzok?name=Kir+Bulicsov\" title=\"Kir Bulicsov\">Kir Bulicsov</a></div><p class=\"short_desc\">A Szegezsa teherszállító űrhajó, Pavlis doktorral a fedélzetén, váratlanul parancsot kap arra, hogy utasokat vegyen fel, azután változtassa meg útirán <a class=\"vice\" href=\"https://www.ekonyv.hu/hu/konyv-reszletei/az-utolso-haboru?eid=63859\" title=\"Az utolsó háború\">...[több]...</a></p><form action=\"https://www.ekonyv.hu/hu/kosar\" class=\"koupitZeSeznamu\" method=\"post\"><input name=\"koupit[63859]\" type=\"submit\" value=\"\"/></form><strong class=\"price\">ekönyv: 2 690,- Ft</strong> </div><div class=\"clearer\"> </div>\n",
       "</div><div class=\"bookList even\"><div class=\"imgSpace\"><a href=\"https://www.ekonyv.hu/hu/konyv-reszletei/s-t-a-l-k-e-r--kiket-a-zona-egybekotott--?eid=63857\" title=\"S.T.A.L.K.E.R. - Kiket a Zóna egybekötött...\"><img alt=\"S.T.A.L.K.E.R. - Kiket a Zóna egybekötött...\" src=\"kiado/data/images/ebooks/63857_normal.jpg\"/></a></div><div class=\"bookListText\"><div class=\"title\"><a class=\"titul bold\" href=\"https://www.ekonyv.hu/hu/konyv-reszletei/s-t-a-l-k-e-r--kiket-a-zona-egybekotott--?eid=63857\" title=\"S.T.A.L.K.E.R. - Kiket a Zóna egybekötött...\">S.T.A.L.K.E.R. - Kiket a Zóna egybekötött...</a><br/>Szerző: <a class=\"author\" href=\"https://www.ekonyv.hu/hu/szerzok?name=Roman+Kulikov+%E2%80%93+Jezsi+Tumanovszki\" title=\"Roman Kulikov – Jezsi Tumanovszki\">Roman Kulikov – Jezsi Tumanovszki</a></div><p class=\"short_desc\">A Zóna nem kedveli a turistákat, de azokat, akiket befogadott, nem engedi el olyan egyszerűen. A Kova néven ismert stalker egyszer csak úgy határozott, vis <a class=\"vice\" href=\"https://www.ekonyv.hu/hu/konyv-reszletei/s-t-a-l-k-e-r--kiket-a-zona-egybekotott--?eid=63857\" title=\"S.T.A.L.K.E.R. - Kiket a Zóna egybekötött...\">...[több]...</a></p><form action=\"https://www.ekonyv.hu/hu/kosar\" class=\"koupitZeSeznamu\" method=\"post\"><input name=\"koupit[63857]\" type=\"submit\" value=\"\"/></form><strong class=\"price\">ekönyv: 2 790,- Ft</strong> </div><div class=\"clearer\"> </div>\n",
       "</div><div class=\"clearer\"> </div>\n",
       "</div><div class=\"bookList\"><div class=\"imgSpace\"><a href=\"https://www.ekonyv.hu/hu/konyv-reszletei/nehez-istennek-lenni?eid=63855\" title=\"Nehéz Istennek lenni\"><img alt=\"Nehéz Istennek lenni\" src=\"kiado/data/images/ebooks/63855_normal.jpg\"/></a></div><div class=\"bookListText\"><div class=\"title\"><a class=\"titul bold\" href=\"https://www.ekonyv.hu/hu/konyv-reszletei/nehez-istennek-lenni?eid=63855\" title=\"Nehéz Istennek lenni\">Nehéz Istennek lenni</a><br/>Szerző: <a class=\"author\" href=\"https://www.ekonyv.hu/hu/szerzok?name=Arkagyij+Sztrugackij+-++Borisz+Sztrugackij\" title=\"Arkagyij Sztrugackij -  Borisz Sztrugackij\">Arkagyij Sztrugackij -  Borisz Sztrugackij</a></div><p class=\"short_desc\">Egy 2134-ben fölfedezett bolygó Arkanar nevű országában, a távoli Földről érkezett progresszorok élnek a bolygólakók között. Feladatuk, hogy minden  <a class=\"vice\" href=\"https://www.ekonyv.hu/hu/konyv-reszletei/nehez-istennek-lenni?eid=63855\" title=\"Nehéz Istennek lenni\">...[több]...</a></p><form action=\"https://www.ekonyv.hu/hu/kosar\" class=\"koupitZeSeznamu\" method=\"post\"><input name=\"koupit[63855]\" type=\"submit\" value=\"\"/></form><strong class=\"price\">ekönyv: 2 490,- Ft</strong> </div><div class=\"clearer\"> </div>\n",
       "</div><div class=\"bookList\"><div class=\"imgSpace\"><a href=\"https://www.ekonyv.hu/hu/konyv-reszletei/uj-hunnia-2039--ysok-utjan?eid=63093\" title=\"Új-Hunnia 2039 - Ősök útján\"><img alt=\"Új-Hunnia 2039 - Ősök útján\" src=\"kiado/data/images/ebooks/63093_normal.jpg\"/></a></div><div class=\"bookListText\"><div class=\"title\"><a class=\"titul bold\" href=\"https://www.ekonyv.hu/hu/konyv-reszletei/uj-hunnia-2039--ysok-utjan?eid=63093\" title=\"Új-Hunnia 2039 - Ősök útján\">Új-Hunnia 2039 - Ősök útján</a><br/>Szerző: <a class=\"author\" href=\"https://www.ekonyv.hu/hu/szerzok?name=Petes++G%C3%A1bor\" title=\"Petes  Gábor\">Petes  Gábor</a></div><p class=\"short_desc\">„Nem az a kérdés, hogy lesz-e valaha is világjárvány a földön, hanem az, hogy mikor.\"(WHO)<br/> <br/>„Az ősi sámán hitvilág ütközik a technoló <a class=\"vice\" href=\"https://www.ekonyv.hu/hu/konyv-reszletei/uj-hunnia-2039--ysok-utjan?eid=63093\" title=\"Új-Hunnia 2039 - Ősök útján\">...[több]...</a></p><form action=\"https://www.ekonyv.hu/hu/kosar\" class=\"koupitZeSeznamu\" method=\"post\"><input name=\"koupit[63093]\" type=\"submit\" value=\"\"/></form><strong class=\"price\">ekönyv: 2 490,- Ft</strong> </div><div class=\"clearer\"> </div>\n",
       "</div><div class=\"clearer\"> </div>\n",
       "<div class=\"evenList\"><div class=\"bookList even\"><div class=\"imgSpace\"><a href=\"https://www.ekonyv.hu/hu/konyv-reszletei/a-perdide-arvaja?eid=63051\" title=\"A perdide árvája\"><img alt=\"A perdide árvája\" src=\"kiado/data/images/ebooks/63051_normal.jpg\"/></a></div><div class=\"bookListText\"><div class=\"title\"><a class=\"titul bold\" href=\"https://www.ekonyv.hu/hu/konyv-reszletei/a-perdide-arvaja?eid=63051\" title=\"A perdide árvája\">A perdide árvája</a><br/>Szerző: <a class=\"author\" href=\"https://www.ekonyv.hu/hu/szerzok?name=Stefan++Wul\" title=\"Stefan  Wul\">Stefan  Wul</a></div><p class=\"short_desc\">Stefan Wul lenyűgözően izgalmas sci-fi története 1958-ban jelent meg. Középpontjában egy kisfiú áll, aki szülei halála után árván marad a távoli  <a class=\"vice\" href=\"https://www.ekonyv.hu/hu/konyv-reszletei/a-perdide-arvaja?eid=63051\" title=\"A perdide árvája\">...[több]...</a></p><form action=\"https://www.ekonyv.hu/hu/kosar\" class=\"koupitZeSeznamu\" method=\"post\"><input name=\"koupit[63051]\" type=\"submit\" value=\"\"/></form><strong class=\"price\">ekönyv: 2 090,- Ft</strong> </div><div class=\"clearer\"> </div>\n",
       "</div><div class=\"bookList even\"><div class=\"imgSpace\"><a href=\"https://www.ekonyv.hu/hu/konyv-reszletei/galaktika-361?eid=63047\" title=\"Galaktika 361\"><img alt=\"Galaktika 361\" src=\"kiado/data/images/ebooks/63047_normal.jpg\"/></a></div><div class=\"bookListText\"><div class=\"title\"><a class=\"titul bold\" href=\"https://www.ekonyv.hu/hu/konyv-reszletei/galaktika-361?eid=63047\" title=\"Galaktika 361\">Galaktika 361</a><br/>Szerző: <a class=\"author\" href=\"https://www.ekonyv.hu/hu/szerzok?name=Mund++Katalin+%28f%C5%91szerk.%29\" title=\"Mund  Katalin (főszerk.)\">Mund  Katalin (főszerk.)</a></div><p class=\"short_desc\">Galaktika magazin augusztusi száma Richard Chwedyk Nebula-díjas kisregényének, „A szauruszok és a tojás\"-nak befejező részével indul. Urbánszki Lászl <a class=\"vice\" href=\"https://www.ekonyv.hu/hu/konyv-reszletei/galaktika-361?eid=63047\" title=\"Galaktika 361\">...[több]...</a></p><form action=\"https://www.ekonyv.hu/hu/kosar\" class=\"koupitZeSeznamu\" method=\"post\"><input name=\"koupit[63047]\" type=\"submit\" value=\"\"/></form><strong class=\"price\">ekönyv: 1 150,- Ft</strong> </div><div class=\"clearer\"> </div>\n",
       "</div><div class=\"clearer\"> </div>\n",
       "</div><div class=\"bookList\"><div class=\"imgSpace\"><a href=\"https://www.ekonyv.hu/hu/konyv-reszletei/galaktika-360?eid=63045\" title=\"Galaktika 360\"><img alt=\"Galaktika 360\" src=\"kiado/data/images/ebooks/63045_normal.jpg\"/></a></div><div class=\"bookListText\"><div class=\"title\"><a class=\"titul bold\" href=\"https://www.ekonyv.hu/hu/konyv-reszletei/galaktika-360?eid=63045\" title=\"Galaktika 360\">Galaktika 360</a><br/>Szerző: <a class=\"author\" href=\"https://www.ekonyv.hu/hu/szerzok?name=Mund++Katalin+%28f%C5%91szerk.%29\" title=\"Mund  Katalin (főszerk.)\">Mund  Katalin (főszerk.)</a></div><p class=\"short_desc\">Galaktika magazin augusztusi száma Richard Chwedyk Nebula-díjas kisregényének, „A szauruszok és a tojás\"-nak befejező részével indul. Urbánszki Lászl <a class=\"vice\" href=\"https://www.ekonyv.hu/hu/konyv-reszletei/galaktika-360?eid=63045\" title=\"Galaktika 360\">...[több]...</a></p><form action=\"https://www.ekonyv.hu/hu/kosar\" class=\"koupitZeSeznamu\" method=\"post\"><input name=\"koupit[63045]\" type=\"submit\" value=\"\"/></form><strong class=\"price\">ekönyv: 1 150,- Ft</strong> </div><div class=\"clearer\"> </div>\n",
       "</div><div class=\"bookList\"><div class=\"imgSpace\"><a href=\"https://www.ekonyv.hu/hu/konyv-reszletei/tania-az-ausztral-pokol?eid=63021\" title=\"Tania, az Ausztrál pokol\"><img alt=\"Tania, az Ausztrál pokol\" src=\"kiado/data/images/ebooks/63021_normal.jpg\"/></a></div><div class=\"bookListText\"><div class=\"title\"><a class=\"titul bold\" href=\"https://www.ekonyv.hu/hu/konyv-reszletei/tania-az-ausztral-pokol?eid=63021\" title=\"Tania, az Ausztrál pokol\">Tania, az Ausztrál pokol</a><br/>Szerző: <a class=\"author\" href=\"https://www.ekonyv.hu/hu/szerzok?name=C.C.+Brown\" title=\"C.C. Brown\">C.C. Brown</a></div><p class=\"short_desc\">Almási Tania az esküvőjére készülődik, miközben sógora, Robert elrabolja. Egy börtönhajón ébred, és tudatosul benne az út során, hogy nincs menekvés s <a class=\"vice\" href=\"https://www.ekonyv.hu/hu/konyv-reszletei/tania-az-ausztral-pokol?eid=63021\" title=\"Tania, az Ausztrál pokol\">...[több]...</a></p><form action=\"https://www.ekonyv.hu/hu/kosar\" class=\"koupitZeSeznamu\" method=\"post\"><input name=\"koupit[63021]\" type=\"submit\" value=\"\"/></form><strong class=\"price\">ekönyv: 2 199,- Ft</strong> </div><div class=\"clearer\"> </div>\n",
       "</div><div class=\"clearer\"> </div>\n",
       "<div class=\"evenList\"><div class=\"bookList even\"><div class=\"imgSpace\"><a href=\"https://www.ekonyv.hu/hu/konyv-reszletei/frankenstein?eid=62929\" title=\"Frankenstein\"><img alt=\"Frankenstein\" src=\"kiado/data/images/ebooks/62929_normal.jpg\"/></a></div><div class=\"bookListText\"><div class=\"title\"><a class=\"titul bold\" href=\"https://www.ekonyv.hu/hu/konyv-reszletei/frankenstein?eid=62929\" title=\"Frankenstein\">Frankenstein</a><br/>Szerző: <a class=\"author\" href=\"https://www.ekonyv.hu/hu/szerzok?name=Mary+Shelley\" title=\"Mary Shelley\">Mary Shelley</a></div><p class=\"short_desc\">Mary Shelley tizennyolc évesen, egy lidércnyomás hatására találta ki rémtörténetét egy baráti költői versenyre. A versenyt megnyerte, ezzel pedig teremtm <a class=\"vice\" href=\"https://www.ekonyv.hu/hu/konyv-reszletei/frankenstein?eid=62929\" title=\"Frankenstein\">...[több]...</a></p><form action=\"https://www.ekonyv.hu/hu/kosar\" class=\"koupitZeSeznamu\" method=\"post\"><input name=\"koupit[62929]\" type=\"submit\" value=\"\"/></form><strong class=\"price\">ekönyv: 1 799,- Ft</strong> </div><div class=\"clearer\"> </div>\n",
       "</div><div class=\"bookList even\"><div class=\"imgSpace\"><a href=\"https://www.ekonyv.hu/hu/konyv-reszletei/2061-harmadik-yrodisszeia?eid=62891\" title=\"2061. Harmadik űrodisszeia\"><img alt=\"2061. Harmadik űrodisszeia\" src=\"kiado/data/images/ebooks/62891_normal.jpg\"/></a></div><div class=\"bookListText\"><div class=\"title\"><a class=\"titul bold\" href=\"https://www.ekonyv.hu/hu/konyv-reszletei/2061-harmadik-yrodisszeia?eid=62891\" title=\"2061. Harmadik űrodisszeia\">2061. Harmadik űrodisszeia</a><br/>Szerző: <a class=\"author\" href=\"https://www.ekonyv.hu/hu/szerzok?name=Arthur+C.++Clarke\" title=\"Arthur C.  Clarke\">Arthur C.  Clarke</a></div><p class=\"short_desc\">Évtizedek teltek el a holdi Monolit és a földönkívüli szupercivilizáció felfedezése óta. Bolygóink egén azóta két nap világít, és a Jupiter egyi <a class=\"vice\" href=\"https://www.ekonyv.hu/hu/konyv-reszletei/2061-harmadik-yrodisszeia?eid=62891\" title=\"2061. Harmadik űrodisszeia\">...[több]...</a></p><form action=\"https://www.ekonyv.hu/hu/kosar\" class=\"koupitZeSeznamu\" method=\"post\"><input name=\"koupit[62891]\" type=\"submit\" value=\"\"/></form><strong class=\"price\">ekönyv: 2 790,- Ft</strong> </div><div class=\"clearer\"> </div>\n",
       "</div><div class=\"clearer\"> </div>\n",
       "</div><div class=\"bookList\"><div class=\"imgSpace\"><a href=\"https://www.ekonyv.hu/hu/konyv-reszletei/s-t-a-l-k-e-r--kihalt-mezyk?eid=62889\" title=\"S.T.A.L.K.E.R. - Kihalt mezők\"><img alt=\"S.T.A.L.K.E.R. - Kihalt mezők\" src=\"kiado/data/images/ebooks/62889_normal.jpg\"/></a></div><div class=\"bookListText\"><div class=\"title\"><a class=\"titul bold\" href=\"https://www.ekonyv.hu/hu/konyv-reszletei/s-t-a-l-k-e-r--kihalt-mezyk?eid=62889\" title=\"S.T.A.L.K.E.R. - Kihalt mezők\">S.T.A.L.K.E.R. - Kihalt mezők</a><br/>Szerző: <a class=\"author\" href=\"https://www.ekonyv.hu/hu/szerzok?name=Alekszej++Kalugin\" title=\"Alekszej  Kalugin\">Alekszej  Kalugin</a></div><p class=\"short_desc\">Jaeger, a tapasztalt stalker még csak elképzelni se tudta, hogy a csapat, akiket átvezetett a Kihalt Mezőkön, gyáván otthagyja, hogy törött lábbal, nyomo <a class=\"vice\" href=\"https://www.ekonyv.hu/hu/konyv-reszletei/s-t-a-l-k-e-r--kihalt-mezyk?eid=62889\" title=\"S.T.A.L.K.E.R. - Kihalt mezők\">...[több]...</a></p><form action=\"https://www.ekonyv.hu/hu/kosar\" class=\"koupitZeSeznamu\" method=\"post\"><input name=\"koupit[62889]\" type=\"submit\" value=\"\"/></form><strong class=\"price\">ekönyv: 2 790,- Ft</strong> </div><div class=\"clearer\"> </div>\n",
       "</div><div class=\"bookList\"><div class=\"imgSpace\"><a href=\"https://www.ekonyv.hu/hu/konyv-reszletei/pokoli-gepezetek?eid=62839\" title=\"Pokoli gépezetek\"><img alt=\"Pokoli gépezetek\" src=\"kiado/data/images/ebooks/62839_normal.jpg\"/></a></div><div class=\"bookListText\"><div class=\"title\"><a class=\"titul bold\" href=\"https://www.ekonyv.hu/hu/konyv-reszletei/pokoli-gepezetek?eid=62839\" title=\"Pokoli gépezetek\">Pokoli gépezetek</a><br/>Szerző: <a class=\"author\" href=\"https://www.ekonyv.hu/hu/szerzok?name=Philip+Reeve\" title=\"Philip Reeve\">Philip Reeve</a></div><p class=\"short_desc\">Anchorage óriási hajtóművei elhallgattak.<br/>A város nem a jeges pusztákat járja már, hanem letelepedett az egykor Amerikának nevezett területen. A csalá <a class=\"vice\" href=\"https://www.ekonyv.hu/hu/konyv-reszletei/pokoli-gepezetek?eid=62839\" title=\"Pokoli gépezetek\">...[több]...</a></p><form action=\"https://www.ekonyv.hu/hu/kosar\" class=\"koupitZeSeznamu\" method=\"post\"><input name=\"koupit[62839]\" type=\"submit\" value=\"\"/></form><strong class=\"price\">ekönyv: 2 992,- Ft</strong> </div><div class=\"clearer\"> </div>\n",
       "</div><div class=\"clearer\"> </div>\n",
       "<div class=\"evenList\"><div class=\"bookList even\"><div class=\"imgSpace\"><a href=\"https://www.ekonyv.hu/hu/konyv-reszletei/oculus?eid=62793\" title=\"Oculus\"><img alt=\"Oculus\" src=\"kiado/data/images/ebooks/62793_normal.jpg\"/></a></div><div class=\"bookListText\"><div class=\"title\"><a class=\"titul bold\" href=\"https://www.ekonyv.hu/hu/konyv-reszletei/oculus?eid=62793\" title=\"Oculus\">Oculus</a><br/>Szerző: <a class=\"author\" href=\"https://www.ekonyv.hu/hu/szerzok?name=A.+M.+Aranth\" title=\"A. M. Aranth\">A. M. Aranth</a></div><p class=\"short_desc\">Mit ​tennél, ha tudnád, hogy egy napon elveszíted a nevedet, a családodat, a barátaidat, a jogaidat és jó pénzért egy vak Idős tudós mellé adnak o <a class=\"vice\" href=\"https://www.ekonyv.hu/hu/konyv-reszletei/oculus?eid=62793\" title=\"Oculus\">...[több]...</a></p><form action=\"https://www.ekonyv.hu/hu/kosar\" class=\"koupitZeSeznamu\" method=\"post\"><input name=\"koupit[62793]\" type=\"submit\" value=\"\"/></form><strong class=\"price\">ekönyv: 2 495,- Ft</strong> </div><div class=\"clearer\"> </div>\n",
       "</div><div class=\"bookList even\"><div class=\"imgSpace\"><a href=\"https://www.ekonyv.hu/hu/konyv-reszletei/vegtelen-vetites?eid=62777\" title=\"Végtelen vetítés\"><img alt=\"Végtelen vetítés\" src=\"kiado/data/images/ebooks/62777_normal.jpg\"/></a></div><div class=\"bookListText\"><div class=\"title\"><a class=\"titul bold\" href=\"https://www.ekonyv.hu/hu/konyv-reszletei/vegtelen-vetites?eid=62777\" title=\"Végtelen vetítés\">Végtelen vetítés</a><br/>Szerző: <a class=\"author\" href=\"https://www.ekonyv.hu/hu/szerzok?name=Carlos+Chernov\" title=\"Carlos Chernov\">Carlos Chernov</a></div><p class=\"short_desc\">Kétszáz évvel a Földet átalakító nagy klímakatasztrófa után a túlélők között sokáig dúló háború erőszakos, totalitárius társadalmat hoz létre. A vil <a class=\"vice\" href=\"https://www.ekonyv.hu/hu/konyv-reszletei/vegtelen-vetites?eid=62777\" title=\"Végtelen vetítés\">...[több]...</a></p><form action=\"https://www.ekonyv.hu/hu/kosar\" class=\"koupitZeSeznamu\" method=\"post\"><input name=\"koupit[62777]\" type=\"submit\" value=\"\"/></form><strong class=\"price\">ekönyv: 2 490,- Ft</strong> </div><div class=\"clearer\"> </div>\n",
       "</div><div class=\"clearer\"> </div>\n",
       "</div><div class=\"clearer\"> </div>\n",
       "<br/>\n",
       "<div class=\"strankovaciBox\"><div class=\"strankovani\"><a class=\"pagenumber active\" href=\"/hu/tematikak/sci-fi?id=83&amp;str=1\" title=\"1. oldal\">1</a> <a class=\"pagenumber\" href=\"/hu/tematikak/sci-fi?id=83&amp;str=2\" title=\"2. oldal\">2</a> <a class=\"pagenumber\" href=\"/hu/tematikak/sci-fi?id=83&amp;str=3\" title=\"3. oldal\">3</a> <a class=\"pagenumber\" href=\"/hu/tematikak/sci-fi?id=83&amp;str=4\" title=\"4. oldal\">4</a> <a class=\"pagenumber\" href=\"/hu/tematikak/sci-fi?id=83&amp;str=5\" title=\"5. oldal\">5</a> <a href=\"/hu/tematikak/sci-fi?id=83&amp;str=2\" title=\"következő\">következő</a> <span class=\"green\">|</span> <a href=\"/hu/tematikak/sci-fi?id=83&amp;str=39\" title=\"utolsó oldal\"><img alt=\"utolsó oldal\" src=\"grafika/arrow-last.gif\"/></a> <span class=\"black\">[1 - 16 <span class=\"green\">|</span> 620] </span>  </div></div></div></div><div class=\"centerBoxBottom\"></div></div> </div>\n",
       "</div><div id=\"thirdCol\">\n",
       "<div class=\"box cleanbox\"><div class=\"boxTopEmpty cleanboxTopEmpty\"></div><div class=\"boxContent cleanboxContent\"><div class=\"mostSales\">\n",
       "<div class=\"imgSpace\">\n",
       "<a href=\"https://www.ekonyv.hu/hu/konyv-reszletei/a-lanynevelde-2--riva-nyverek-sorozat?eid=64257\" title=\"A lánynevelde 2. - Riva nővérek-sorozat\"><img alt=\"A lánynevelde 2. - Riva nővérek-sorozat\" src=\"kiado/data/images/ebooks/64257_small.jpg\"/></a>\n",
       "</div>\n",
       "<div class=\"textSpace\">\n",
       "<a class=\"titul\" href=\"https://www.ekonyv.hu/hu/konyv-reszletei/a-lanynevelde-2--riva-nyverek-sorozat?eid=64257\" title=\"A lánynevelde 2. - Riva nővérek-sorozat\">A lánynevelde 2. - Riva nővérek-sorozat</a><br/>\n",
       "<a class=\"author\" href=\"https://www.ekonyv.hu/hu/szerzok?name=R.+Kel%C3%A9nyi++Angelika\" title=\"R. Kelényi  Angelika\">R. Kelényi  Angelika</a><br/>\n",
       "<div class=\"price\">ekönyv: 2 999,- Ft</div>\n",
       "</div>\n",
       "<div class=\"clearer\"> </div>\n",
       "</div><div class=\"mostSales\">\n",
       "<div class=\"imgSpace\">\n",
       "<a href=\"https://www.ekonyv.hu/hu/konyv-reszletei/ordogi-joslatok--egy-tudos-elyrejelzesei-es-intelmei-az-emberiseghez?eid=62907\" title=\"Ördögi jóslatok - Egy tudós előrejelzései és intelmei az emberiséghez\"><img alt=\"Ördögi jóslatok - Egy tudós előrejelzései és intelmei az emberiséghez\" src=\"kiado/data/images/ebooks/62907_small.jpg\"/></a>\n",
       "</div>\n",
       "<div class=\"textSpace\">\n",
       "<a class=\"titul\" href=\"https://www.ekonyv.hu/hu/konyv-reszletei/ordogi-joslatok--egy-tudos-elyrejelzesei-es-intelmei-az-emberiseghez?eid=62907\" title=\"Ördögi jóslatok - Egy tudós előrejelzései és intelmei az emberiséghez\">Ördögi jóslatok - Egy tudós előrejelzései és intelmei az emberiséghez</a><br/>\n",
       "<a class=\"author\" href=\"https://www.ekonyv.hu/hu/szerzok?name=Jord%C3%A1n++Ferenc\" title=\"Jordán  Ferenc\">Jordán  Ferenc</a><br/>\n",
       "<div class=\"price\">ekönyv: 990,- Ft</div>\n",
       "</div>\n",
       "<div class=\"clearer\"> </div>\n",
       "</div><div class=\"mostSales\">\n",
       "<div class=\"imgSpace\">\n",
       "<a href=\"https://www.ekonyv.hu/hu/konyv-reszletei/jade-varos?eid=63915\" title=\"Jáde város\"><img alt=\"Jáde város\" src=\"kiado/data/images/ebooks/63915_small.jpg\"/></a>\n",
       "</div>\n",
       "<div class=\"textSpace\">\n",
       "<a class=\"titul\" href=\"https://www.ekonyv.hu/hu/konyv-reszletei/jade-varos?eid=63915\" title=\"Jáde város\">Jáde város</a><br/>\n",
       "<a class=\"author\" href=\"https://www.ekonyv.hu/hu/szerzok?name=Fonda++Lee\" title=\"Fonda  Lee\">Fonda  Lee</a><br/>\n",
       "<div class=\"price\">ekönyv: 2 474,- Ft</div>\n",
       "</div>\n",
       "<div class=\"clearer\"> </div>\n",
       "</div><div class=\"mostSales\">\n",
       "<div class=\"imgSpace\">\n",
       "<a href=\"https://www.ekonyv.hu/hu/konyv-reszletei/a-lelek-testeryl?eid=63941\" title=\"A lélek testéről\"><img alt=\"A lélek testéről\" src=\"kiado/data/images/ebooks/63941_small.jpg\"/></a>\n",
       "</div>\n",
       "<div class=\"textSpace\">\n",
       "<a class=\"titul\" href=\"https://www.ekonyv.hu/hu/konyv-reszletei/a-lelek-testeryl?eid=63941\" title=\"A lélek testéről\">A lélek testéről</a><br/>\n",
       "<a class=\"author\" href=\"https://www.ekonyv.hu/hu/szerzok?name=Ljudmila+Ulickaja\" title=\"Ljudmila Ulickaja\">Ljudmila Ulickaja</a><br/>\n",
       "<div class=\"price\">ekönyv: 1 999,- Ft</div>\n",
       "</div>\n",
       "<div class=\"clearer\"> </div>\n",
       "</div><div class=\"mostSales\">\n",
       "<div class=\"imgSpace\">\n",
       "<a href=\"https://www.ekonyv.hu/hu/konyv-reszletei/lazar-evangeliuma--apokrif-tortenelmi-remlatomas?eid=63101\" title=\"Lázár evangéliuma - Apokrif történelmi rémlátomás\"><img alt=\"Lázár evangéliuma - Apokrif történelmi rémlátomás\" src=\"kiado/data/images/ebooks/63101_small.jpg\"/></a>\n",
       "</div>\n",
       "<div class=\"textSpace\">\n",
       "<a class=\"titul\" href=\"https://www.ekonyv.hu/hu/konyv-reszletei/lazar-evangeliuma--apokrif-tortenelmi-remlatomas?eid=63101\" title=\"Lázár evangéliuma - Apokrif történelmi rémlátomás\">Lázár evangéliuma - Apokrif történelmi rémlátomás</a><br/>\n",
       "<a class=\"author\" href=\"https://www.ekonyv.hu/hu/szerzok?name=B%C3%ADr%C3%B3+Szabolcs\" title=\"Bíró Szabolcs\">Bíró Szabolcs</a><br/>\n",
       "<div class=\"price\">ekönyv: 2 799,- Ft</div>\n",
       "</div>\n",
       "<div class=\"clearer\"> </div>\n",
       "</div><div class=\"mostSales\">\n",
       "<div class=\"imgSpace\">\n",
       "<a href=\"https://www.ekonyv.hu/hu/konyv-reszletei/unortodox--a-masik-ut?eid=64243\" title=\"Unortodox - A másik út\"><img alt=\"Unortodox - A másik út\" src=\"kiado/data/images/ebooks/64243_small.jpg\"/></a>\n",
       "</div>\n",
       "<div class=\"textSpace\">\n",
       "<a class=\"titul\" href=\"https://www.ekonyv.hu/hu/konyv-reszletei/unortodox--a-masik-ut?eid=64243\" title=\"Unortodox - A másik út\">Unortodox - A másik út</a><br/>\n",
       "<a class=\"author\" href=\"https://www.ekonyv.hu/hu/szerzok?name=Deborah++Feldman\" title=\"Deborah  Feldman\">Deborah  Feldman</a><br/>\n",
       "<div class=\"price\">ekönyv: 2 599,- Ft</div>\n",
       "</div>\n",
       "<div class=\"clearer\"> </div>\n",
       "</div><div class=\"mostSales\">\n",
       "<div class=\"imgSpace\">\n",
       "<a href=\"https://www.ekonyv.hu/hu/konyv-reszletei/szex--a-psziche-labirintusaban?eid=64123\" title=\"Szex - A psziché labirintusában\"><img alt=\"Szex - A psziché labirintusában\" src=\"kiado/data/images/ebooks/64123_small.jpg\"/></a>\n",
       "</div>\n",
       "<div class=\"textSpace\">\n",
       "<a class=\"titul\" href=\"https://www.ekonyv.hu/hu/konyv-reszletei/szex--a-psziche-labirintusaban?eid=64123\" title=\"Szex - A psziché labirintusában\">Szex - A psziché labirintusában</a><br/>\n",
       "<a class=\"author\" href=\"https://www.ekonyv.hu/hu/szerzok?name=Hevesi+Krisztina\" title=\"Hevesi Krisztina\">Hevesi Krisztina</a><br/>\n",
       "<div class=\"price\">ekönyv: 2 210,- Ft</div>\n",
       "</div>\n",
       "<div class=\"clearer\"> </div>\n",
       "</div><div class=\"mostSales last\">\n",
       "<div class=\"imgSpace\">\n",
       "<a href=\"https://www.ekonyv.hu/hu/konyv-reszletei/horthy-miklos--a-kormanyzo-es-felelyssege-1920-1945?eid=63865\" title=\"Horthy Miklós - A kormányzó és felelőssége 1920-1945\"><img alt=\"Horthy Miklós - A kormányzó és felelőssége 1920-1945\" src=\"kiado/data/images/ebooks/63865_small.jpg\"/></a>\n",
       "</div>\n",
       "<div class=\"textSpace\">\n",
       "<a class=\"titul\" href=\"https://www.ekonyv.hu/hu/konyv-reszletei/horthy-miklos--a-kormanyzo-es-felelyssege-1920-1945?eid=63865\" title=\"Horthy Miklós - A kormányzó és felelőssége 1920-1945\">Horthy Miklós - A kormányzó és felelőssége 1920-1945</a><br/>\n",
       "<a class=\"author\" href=\"https://www.ekonyv.hu/hu/szerzok?name=Ungv%C3%A1ry+Kriszti%C3%A1n\" title=\"Ungváry Krisztián\">Ungváry Krisztián</a><br/>\n",
       "<div class=\"price\">ekönyv: 1 992,- Ft</div>\n",
       "</div>\n",
       "<div class=\"clearer\"> </div>\n",
       "</div><div class=\"clearer\"> </div>\n",
       "</div><div class=\"boxBottom cleanboxBottom\"></div></div> </div>\n",
       "<div class=\"clearer\"> </div>\n",
       "<div id=\"wholeCol\">\n",
       "<div id=\"footer\">\n",
       "<strong><a href=\"https://www.ekonyv.hu/hu/magunkrol\" title=\"Magunkról\">Magunkról</a></strong> | <strong><a href=\"https://www.ekonyv.hu/hu/uzletszabalyzat\" title=\"Üzletszabályzat\">Üzletszabályzat</a></strong> | <strong><a href=\"https://www.ekonyv.hu/hu/sajtokozlemenyek\" title=\"Sajtóközlemények\">Sajtóközlemények</a></strong> | <strong><a href=\"https://www.ekonyv.hu/hu/adatvedelmi-szabalyzat\" title=\"Adatvédelmi szabályzat\">Adatvédelmi szabályzat</a></strong> | <strong><a href=\"https://www.ekonyv.hu/hu/ajandekutalvany\" title=\"Ajándékutalvány\">Ajándékutalvány</a></strong> </div>\n",
       "<div id=\"footerCopyright\">\n",
       "<strong>© 2012 <a href=\"http://www.ereading.cz\" target=\"_blank\" title=\"eReading\">eReading.cz</a></strong> | developed by <a href=\"http://www.gng.cz\" target=\"_blank\" title=\"Graffitti Networks Grafix\">Graffitti Networks Grafix</a>\n",
       "</div>\n",
       "</div>\n",
       "</div> <!-- contentLayout -->\n",
       "</div> <!-- layout -->\n",
       "<div id=\"loginBoxBackground\"> </div><div id=\"loginBox\"><h2>Profilom</h2><div class=\"loginContent\"><form action=\"https://www.ekonyv.hu/hu/tematikak/sci-fi?id=83\" method=\"post\">E-mail: <input class=\"text\" name=\"login\" type=\"text\"/><br/>Jelszó: <input class=\"text\" name=\"heslo\" type=\"password\"/><br/><input class=\"submit\" name=\"log_in\" type=\"submit\" value=\"Belépés\"/><br/><input class=\"check\" name=\"natrvalo\" style=\"cursor:help;\" title=\"Po zaškrtnutí se na tomto počítači vždy po otevření portálu eReading.cz provede automatické přihlášení k Vašemu účtu. Z bezpečnostních důvodů nepoužívejte automatické přihlášení u počítačů, ke kterým má přístup více uživatelů.\" type=\"checkbox\"/><span style=\"cursor:help;\" title=\"Po zaškrtnutí se na tomto počítači vždy po otevření portálu eReading.cz provede automatické přihlášení k Vašemu účtu. Z bezpečnostních důvodů nepoužívejte automatické přihlášení u počítačů, ke kterým má přístup více uživatelů.\">Emlékezzen rám</span> <hr/><a href=\"https://www.ekonyv.hu/hu/regisztracio\" title=\"Új felhasználó regisztrálása\">Új felhasználó regisztrálása</a><br/><a href=\"https://www.ekonyv.hu/hu/jelszo-emlekezteto\" title=\"Jelszó emlékeztető\">Jelszó emlékeztető</a><br/><hr/></form><div class=\"clearer\"> </div>\n",
       "</div><div class=\"alignr\"><br/><a class=\"loginHide\" href=\"https://www.ekonyv.hu/hu/regisztracio\" title=\"bezár\"><img alt=\"bezár\" src=\"grafika/button-close.gif\"/></a></div></div>\n",
       "<script type=\"text/javascript\">\n",
       "      TopUp.addPresets({\n",
       "        \".onlineCtecka input\": {\n",
       "          shaded: 1, overlayClose: 1\n",
       "        },\n",
       "        \".cteckyPic a\": {\n",
       "          effect: \"clip\",\n",
       "          overlayClose: 1\n",
       "        }\n",
       "        \n",
       "      });\n",
       "    </script>\n",
       "</body>\n",
       "</html>"
      ]
     },
     "execution_count": 5,
     "metadata": {},
     "output_type": "execute_result"
    }
   ],
   "source": [
    "pagesoup"
   ]
  },
  {
   "cell_type": "markdown",
   "metadata": {},
   "source": [
    " "
   ]
  },
  {
   "cell_type": "markdown",
   "metadata": {},
   "source": [
    " "
   ]
  },
  {
   "cell_type": "markdown",
   "metadata": {},
   "source": [
    "# 303 .find()"
   ]
  },
  {
   "cell_type": "markdown",
   "metadata": {},
   "source": [
    "A .find() funkciónak két bemeneti érték adható meg amit a find utánni zárójelbe kell beírni vesszőkkel elválasztva, első helyre a tag nevét, második helyre pedig be tudjuk rakni a nyító tag egyik tulajdonságát például hogy mi a tag class-e vagy id-ja, ez alapján is azonosítva hogy melyik fog kelleni nekünk, például:"
   ]
  },
  {
   "cell_type": "code",
   "execution_count": 12,
   "metadata": {},
   "outputs": [
    {
     "data": {
      "text/plain": [
       "<div class=\"centerBoxContent\"><div class=\"centerBoxPad\"><div class=\"strankovaciBox\"><form class=\"razeni\" method=\"get\"><input name=\"id\" type=\"hidden\" value=\"83\"/>Rendezés: <select name=\"razeni\" onchange=\"submit();\"><option value=\"nazev\">név</option><option value=\"cena\">ár</option><option value=\"popularita\">népszerűség</option><option selected=\"selected\" value=\"datum\">dátum</option></select></form><form class=\"polozekNaStranku\" method=\"post\">ekönyvek oldalanként <select name=\"polozek_na_stranku\" onchange=\"submit();\"><option value=\"8\">8</option><option selected=\"selected\" value=\"16\">16</option><option value=\"64\">64</option></select></form><div class=\"clearer\"> </div>\n",
       "<div class=\"strankovani\"><a class=\"pagenumber active\" href=\"/hu/tematikak/sci-fi?id=83&amp;str=1\" title=\"1. oldal\">1</a> <a class=\"pagenumber\" href=\"/hu/tematikak/sci-fi?id=83&amp;str=2\" title=\"2. oldal\">2</a> <a class=\"pagenumber\" href=\"/hu/tematikak/sci-fi?id=83&amp;str=3\" title=\"3. oldal\">3</a> <a class=\"pagenumber\" href=\"/hu/tematikak/sci-fi?id=83&amp;str=4\" title=\"4. oldal\">4</a> <a class=\"pagenumber\" href=\"/hu/tematikak/sci-fi?id=83&amp;str=5\" title=\"5. oldal\">5</a> <a href=\"/hu/tematikak/sci-fi?id=83&amp;str=2\" title=\"következő\">következő</a> <span class=\"green\">|</span> <a href=\"/hu/tematikak/sci-fi?id=83&amp;str=39\" title=\"utolsó oldal\"><img alt=\"utolsó oldal\" src=\"grafika/arrow-last.gif\"/></a> <span class=\"black\">[1 - 16 <span class=\"green\">|</span> 620] </span>  </div></div><div class=\"clearer\"> </div>\n",
       "<div class=\"bookList\"><div class=\"imgSpace\"><a href=\"https://www.ekonyv.hu/hu/konyv-reszletei/virtualis-mennyorszag?eid=64715\" title=\"Virtuális mennyország\"><img alt=\"Virtuális mennyország\" src=\"kiado/data/images/ebooks/64715_normal.jpg\"/></a></div><div class=\"bookListText\"><div class=\"title\"><a class=\"titul bold\" href=\"https://www.ekonyv.hu/hu/konyv-reszletei/virtualis-mennyorszag?eid=64715\" title=\"Virtuális mennyország\">Virtuális mennyország</a><br/>Szerző: <a class=\"author\" href=\"https://www.ekonyv.hu/hu/szerzok?name=Kir%C3%A1ly+M%C3%A1rk\" title=\"Király Márk\">Király Márk</a></div><p class=\"short_desc\">Csak egy normális, klisékkel teli életre vágytál, szerelemre és hogy mindig legyen egy cukormentes Pepsi a hűtőben. Próbálod a víz felett tartani a fejed <a class=\"vice\" href=\"https://www.ekonyv.hu/hu/konyv-reszletei/virtualis-mennyorszag?eid=64715\" title=\"Virtuális mennyország\">...[több]...</a></p><form action=\"https://www.ekonyv.hu/hu/kosar\" class=\"koupitZeSeznamu\" method=\"post\"><input name=\"koupit[64715]\" type=\"submit\" value=\"\"/></form><strong class=\"price\">ekönyv: 699,- Ft</strong> </div><div class=\"clearer\"> </div>\n",
       "</div><div class=\"bookList\"><div class=\"imgSpace\"><a href=\"https://www.ekonyv.hu/hu/konyv-reszletei/ragadozo-varosok?eid=64167\" title=\"Ragadozó városok\"><img alt=\"Ragadozó városok\" src=\"kiado/data/images/ebooks/64167_normal.jpg\"/></a></div><div class=\"bookListText\"><div class=\"title\"><a class=\"titul bold\" href=\"https://www.ekonyv.hu/hu/konyv-reszletei/ragadozo-varosok?eid=64167\" title=\"Ragadozó városok\">Ragadozó városok</a><br/>Szerző: <a class=\"author\" href=\"https://www.ekonyv.hu/hu/szerzok?name=Philip+Reeve\" title=\"Philip Reeve\">Philip Reeve</a></div><p class=\"short_desc\">A távoli jövőben a kevés megmaradt erőforrásért komoly harcot vívó városok hatalmas mozgó gépezetekké alakultak. A vadászmezőkön a nagyobb városok kiseb <a class=\"vice\" href=\"https://www.ekonyv.hu/hu/konyv-reszletei/ragadozo-varosok?eid=64167\" title=\"Ragadozó városok\">...[több]...</a></p><form action=\"https://www.ekonyv.hu/hu/kosar\" class=\"koupitZeSeznamu\" method=\"post\"><input name=\"koupit[64167]\" type=\"submit\" value=\"\"/></form><strong class=\"price\">ekönyv: 2 767,- Ft</strong> </div><div class=\"clearer\"> </div>\n",
       "</div><div class=\"clearer\"> </div>\n",
       "<div class=\"evenList\"><div class=\"bookList even\"><div class=\"imgSpace\"><a href=\"https://www.ekonyv.hu/hu/konyv-reszletei/az-utolso-haboru?eid=63859\" title=\"Az utolsó háború\"><img alt=\"Az utolsó háború\" src=\"kiado/data/images/ebooks/63859_normal.jpg\"/></a></div><div class=\"bookListText\"><div class=\"title\"><a class=\"titul bold\" href=\"https://www.ekonyv.hu/hu/konyv-reszletei/az-utolso-haboru?eid=63859\" title=\"Az utolsó háború\">Az utolsó háború</a><br/>Szerző: <a class=\"author\" href=\"https://www.ekonyv.hu/hu/szerzok?name=Kir+Bulicsov\" title=\"Kir Bulicsov\">Kir Bulicsov</a></div><p class=\"short_desc\">A Szegezsa teherszállító űrhajó, Pavlis doktorral a fedélzetén, váratlanul parancsot kap arra, hogy utasokat vegyen fel, azután változtassa meg útirán <a class=\"vice\" href=\"https://www.ekonyv.hu/hu/konyv-reszletei/az-utolso-haboru?eid=63859\" title=\"Az utolsó háború\">...[több]...</a></p><form action=\"https://www.ekonyv.hu/hu/kosar\" class=\"koupitZeSeznamu\" method=\"post\"><input name=\"koupit[63859]\" type=\"submit\" value=\"\"/></form><strong class=\"price\">ekönyv: 2 690,- Ft</strong> </div><div class=\"clearer\"> </div>\n",
       "</div><div class=\"bookList even\"><div class=\"imgSpace\"><a href=\"https://www.ekonyv.hu/hu/konyv-reszletei/s-t-a-l-k-e-r--kiket-a-zona-egybekotott--?eid=63857\" title=\"S.T.A.L.K.E.R. - Kiket a Zóna egybekötött...\"><img alt=\"S.T.A.L.K.E.R. - Kiket a Zóna egybekötött...\" src=\"kiado/data/images/ebooks/63857_normal.jpg\"/></a></div><div class=\"bookListText\"><div class=\"title\"><a class=\"titul bold\" href=\"https://www.ekonyv.hu/hu/konyv-reszletei/s-t-a-l-k-e-r--kiket-a-zona-egybekotott--?eid=63857\" title=\"S.T.A.L.K.E.R. - Kiket a Zóna egybekötött...\">S.T.A.L.K.E.R. - Kiket a Zóna egybekötött...</a><br/>Szerző: <a class=\"author\" href=\"https://www.ekonyv.hu/hu/szerzok?name=Roman+Kulikov+%E2%80%93+Jezsi+Tumanovszki\" title=\"Roman Kulikov – Jezsi Tumanovszki\">Roman Kulikov – Jezsi Tumanovszki</a></div><p class=\"short_desc\">A Zóna nem kedveli a turistákat, de azokat, akiket befogadott, nem engedi el olyan egyszerűen. A Kova néven ismert stalker egyszer csak úgy határozott, vis <a class=\"vice\" href=\"https://www.ekonyv.hu/hu/konyv-reszletei/s-t-a-l-k-e-r--kiket-a-zona-egybekotott--?eid=63857\" title=\"S.T.A.L.K.E.R. - Kiket a Zóna egybekötött...\">...[több]...</a></p><form action=\"https://www.ekonyv.hu/hu/kosar\" class=\"koupitZeSeznamu\" method=\"post\"><input name=\"koupit[63857]\" type=\"submit\" value=\"\"/></form><strong class=\"price\">ekönyv: 2 790,- Ft</strong> </div><div class=\"clearer\"> </div>\n",
       "</div><div class=\"clearer\"> </div>\n",
       "</div><div class=\"bookList\"><div class=\"imgSpace\"><a href=\"https://www.ekonyv.hu/hu/konyv-reszletei/nehez-istennek-lenni?eid=63855\" title=\"Nehéz Istennek lenni\"><img alt=\"Nehéz Istennek lenni\" src=\"kiado/data/images/ebooks/63855_normal.jpg\"/></a></div><div class=\"bookListText\"><div class=\"title\"><a class=\"titul bold\" href=\"https://www.ekonyv.hu/hu/konyv-reszletei/nehez-istennek-lenni?eid=63855\" title=\"Nehéz Istennek lenni\">Nehéz Istennek lenni</a><br/>Szerző: <a class=\"author\" href=\"https://www.ekonyv.hu/hu/szerzok?name=Arkagyij+Sztrugackij+-++Borisz+Sztrugackij\" title=\"Arkagyij Sztrugackij -  Borisz Sztrugackij\">Arkagyij Sztrugackij -  Borisz Sztrugackij</a></div><p class=\"short_desc\">Egy 2134-ben fölfedezett bolygó Arkanar nevű országában, a távoli Földről érkezett progresszorok élnek a bolygólakók között. Feladatuk, hogy minden  <a class=\"vice\" href=\"https://www.ekonyv.hu/hu/konyv-reszletei/nehez-istennek-lenni?eid=63855\" title=\"Nehéz Istennek lenni\">...[több]...</a></p><form action=\"https://www.ekonyv.hu/hu/kosar\" class=\"koupitZeSeznamu\" method=\"post\"><input name=\"koupit[63855]\" type=\"submit\" value=\"\"/></form><strong class=\"price\">ekönyv: 2 490,- Ft</strong> </div><div class=\"clearer\"> </div>\n",
       "</div><div class=\"bookList\"><div class=\"imgSpace\"><a href=\"https://www.ekonyv.hu/hu/konyv-reszletei/uj-hunnia-2039--ysok-utjan?eid=63093\" title=\"Új-Hunnia 2039 - Ősök útján\"><img alt=\"Új-Hunnia 2039 - Ősök útján\" src=\"kiado/data/images/ebooks/63093_normal.jpg\"/></a></div><div class=\"bookListText\"><div class=\"title\"><a class=\"titul bold\" href=\"https://www.ekonyv.hu/hu/konyv-reszletei/uj-hunnia-2039--ysok-utjan?eid=63093\" title=\"Új-Hunnia 2039 - Ősök útján\">Új-Hunnia 2039 - Ősök útján</a><br/>Szerző: <a class=\"author\" href=\"https://www.ekonyv.hu/hu/szerzok?name=Petes++G%C3%A1bor\" title=\"Petes  Gábor\">Petes  Gábor</a></div><p class=\"short_desc\">„Nem az a kérdés, hogy lesz-e valaha is világjárvány a földön, hanem az, hogy mikor.\"(WHO)<br/> <br/>„Az ősi sámán hitvilág ütközik a technoló <a class=\"vice\" href=\"https://www.ekonyv.hu/hu/konyv-reszletei/uj-hunnia-2039--ysok-utjan?eid=63093\" title=\"Új-Hunnia 2039 - Ősök útján\">...[több]...</a></p><form action=\"https://www.ekonyv.hu/hu/kosar\" class=\"koupitZeSeznamu\" method=\"post\"><input name=\"koupit[63093]\" type=\"submit\" value=\"\"/></form><strong class=\"price\">ekönyv: 2 490,- Ft</strong> </div><div class=\"clearer\"> </div>\n",
       "</div><div class=\"clearer\"> </div>\n",
       "<div class=\"evenList\"><div class=\"bookList even\"><div class=\"imgSpace\"><a href=\"https://www.ekonyv.hu/hu/konyv-reszletei/a-perdide-arvaja?eid=63051\" title=\"A perdide árvája\"><img alt=\"A perdide árvája\" src=\"kiado/data/images/ebooks/63051_normal.jpg\"/></a></div><div class=\"bookListText\"><div class=\"title\"><a class=\"titul bold\" href=\"https://www.ekonyv.hu/hu/konyv-reszletei/a-perdide-arvaja?eid=63051\" title=\"A perdide árvája\">A perdide árvája</a><br/>Szerző: <a class=\"author\" href=\"https://www.ekonyv.hu/hu/szerzok?name=Stefan++Wul\" title=\"Stefan  Wul\">Stefan  Wul</a></div><p class=\"short_desc\">Stefan Wul lenyűgözően izgalmas sci-fi története 1958-ban jelent meg. Középpontjában egy kisfiú áll, aki szülei halála után árván marad a távoli  <a class=\"vice\" href=\"https://www.ekonyv.hu/hu/konyv-reszletei/a-perdide-arvaja?eid=63051\" title=\"A perdide árvája\">...[több]...</a></p><form action=\"https://www.ekonyv.hu/hu/kosar\" class=\"koupitZeSeznamu\" method=\"post\"><input name=\"koupit[63051]\" type=\"submit\" value=\"\"/></form><strong class=\"price\">ekönyv: 2 090,- Ft</strong> </div><div class=\"clearer\"> </div>\n",
       "</div><div class=\"bookList even\"><div class=\"imgSpace\"><a href=\"https://www.ekonyv.hu/hu/konyv-reszletei/galaktika-361?eid=63047\" title=\"Galaktika 361\"><img alt=\"Galaktika 361\" src=\"kiado/data/images/ebooks/63047_normal.jpg\"/></a></div><div class=\"bookListText\"><div class=\"title\"><a class=\"titul bold\" href=\"https://www.ekonyv.hu/hu/konyv-reszletei/galaktika-361?eid=63047\" title=\"Galaktika 361\">Galaktika 361</a><br/>Szerző: <a class=\"author\" href=\"https://www.ekonyv.hu/hu/szerzok?name=Mund++Katalin+%28f%C5%91szerk.%29\" title=\"Mund  Katalin (főszerk.)\">Mund  Katalin (főszerk.)</a></div><p class=\"short_desc\">Galaktika magazin augusztusi száma Richard Chwedyk Nebula-díjas kisregényének, „A szauruszok és a tojás\"-nak befejező részével indul. Urbánszki Lászl <a class=\"vice\" href=\"https://www.ekonyv.hu/hu/konyv-reszletei/galaktika-361?eid=63047\" title=\"Galaktika 361\">...[több]...</a></p><form action=\"https://www.ekonyv.hu/hu/kosar\" class=\"koupitZeSeznamu\" method=\"post\"><input name=\"koupit[63047]\" type=\"submit\" value=\"\"/></form><strong class=\"price\">ekönyv: 1 150,- Ft</strong> </div><div class=\"clearer\"> </div>\n",
       "</div><div class=\"clearer\"> </div>\n",
       "</div><div class=\"bookList\"><div class=\"imgSpace\"><a href=\"https://www.ekonyv.hu/hu/konyv-reszletei/galaktika-360?eid=63045\" title=\"Galaktika 360\"><img alt=\"Galaktika 360\" src=\"kiado/data/images/ebooks/63045_normal.jpg\"/></a></div><div class=\"bookListText\"><div class=\"title\"><a class=\"titul bold\" href=\"https://www.ekonyv.hu/hu/konyv-reszletei/galaktika-360?eid=63045\" title=\"Galaktika 360\">Galaktika 360</a><br/>Szerző: <a class=\"author\" href=\"https://www.ekonyv.hu/hu/szerzok?name=Mund++Katalin+%28f%C5%91szerk.%29\" title=\"Mund  Katalin (főszerk.)\">Mund  Katalin (főszerk.)</a></div><p class=\"short_desc\">Galaktika magazin augusztusi száma Richard Chwedyk Nebula-díjas kisregényének, „A szauruszok és a tojás\"-nak befejező részével indul. Urbánszki Lászl <a class=\"vice\" href=\"https://www.ekonyv.hu/hu/konyv-reszletei/galaktika-360?eid=63045\" title=\"Galaktika 360\">...[több]...</a></p><form action=\"https://www.ekonyv.hu/hu/kosar\" class=\"koupitZeSeznamu\" method=\"post\"><input name=\"koupit[63045]\" type=\"submit\" value=\"\"/></form><strong class=\"price\">ekönyv: 1 150,- Ft</strong> </div><div class=\"clearer\"> </div>\n",
       "</div><div class=\"bookList\"><div class=\"imgSpace\"><a href=\"https://www.ekonyv.hu/hu/konyv-reszletei/tania-az-ausztral-pokol?eid=63021\" title=\"Tania, az Ausztrál pokol\"><img alt=\"Tania, az Ausztrál pokol\" src=\"kiado/data/images/ebooks/63021_normal.jpg\"/></a></div><div class=\"bookListText\"><div class=\"title\"><a class=\"titul bold\" href=\"https://www.ekonyv.hu/hu/konyv-reszletei/tania-az-ausztral-pokol?eid=63021\" title=\"Tania, az Ausztrál pokol\">Tania, az Ausztrál pokol</a><br/>Szerző: <a class=\"author\" href=\"https://www.ekonyv.hu/hu/szerzok?name=C.C.+Brown\" title=\"C.C. Brown\">C.C. Brown</a></div><p class=\"short_desc\">Almási Tania az esküvőjére készülődik, miközben sógora, Robert elrabolja. Egy börtönhajón ébred, és tudatosul benne az út során, hogy nincs menekvés s <a class=\"vice\" href=\"https://www.ekonyv.hu/hu/konyv-reszletei/tania-az-ausztral-pokol?eid=63021\" title=\"Tania, az Ausztrál pokol\">...[több]...</a></p><form action=\"https://www.ekonyv.hu/hu/kosar\" class=\"koupitZeSeznamu\" method=\"post\"><input name=\"koupit[63021]\" type=\"submit\" value=\"\"/></form><strong class=\"price\">ekönyv: 2 199,- Ft</strong> </div><div class=\"clearer\"> </div>\n",
       "</div><div class=\"clearer\"> </div>\n",
       "<div class=\"evenList\"><div class=\"bookList even\"><div class=\"imgSpace\"><a href=\"https://www.ekonyv.hu/hu/konyv-reszletei/frankenstein?eid=62929\" title=\"Frankenstein\"><img alt=\"Frankenstein\" src=\"kiado/data/images/ebooks/62929_normal.jpg\"/></a></div><div class=\"bookListText\"><div class=\"title\"><a class=\"titul bold\" href=\"https://www.ekonyv.hu/hu/konyv-reszletei/frankenstein?eid=62929\" title=\"Frankenstein\">Frankenstein</a><br/>Szerző: <a class=\"author\" href=\"https://www.ekonyv.hu/hu/szerzok?name=Mary+Shelley\" title=\"Mary Shelley\">Mary Shelley</a></div><p class=\"short_desc\">Mary Shelley tizennyolc évesen, egy lidércnyomás hatására találta ki rémtörténetét egy baráti költői versenyre. A versenyt megnyerte, ezzel pedig teremtm <a class=\"vice\" href=\"https://www.ekonyv.hu/hu/konyv-reszletei/frankenstein?eid=62929\" title=\"Frankenstein\">...[több]...</a></p><form action=\"https://www.ekonyv.hu/hu/kosar\" class=\"koupitZeSeznamu\" method=\"post\"><input name=\"koupit[62929]\" type=\"submit\" value=\"\"/></form><strong class=\"price\">ekönyv: 1 799,- Ft</strong> </div><div class=\"clearer\"> </div>\n",
       "</div><div class=\"bookList even\"><div class=\"imgSpace\"><a href=\"https://www.ekonyv.hu/hu/konyv-reszletei/2061-harmadik-yrodisszeia?eid=62891\" title=\"2061. Harmadik űrodisszeia\"><img alt=\"2061. Harmadik űrodisszeia\" src=\"kiado/data/images/ebooks/62891_normal.jpg\"/></a></div><div class=\"bookListText\"><div class=\"title\"><a class=\"titul bold\" href=\"https://www.ekonyv.hu/hu/konyv-reszletei/2061-harmadik-yrodisszeia?eid=62891\" title=\"2061. Harmadik űrodisszeia\">2061. Harmadik űrodisszeia</a><br/>Szerző: <a class=\"author\" href=\"https://www.ekonyv.hu/hu/szerzok?name=Arthur+C.++Clarke\" title=\"Arthur C.  Clarke\">Arthur C.  Clarke</a></div><p class=\"short_desc\">Évtizedek teltek el a holdi Monolit és a földönkívüli szupercivilizáció felfedezése óta. Bolygóink egén azóta két nap világít, és a Jupiter egyi <a class=\"vice\" href=\"https://www.ekonyv.hu/hu/konyv-reszletei/2061-harmadik-yrodisszeia?eid=62891\" title=\"2061. Harmadik űrodisszeia\">...[több]...</a></p><form action=\"https://www.ekonyv.hu/hu/kosar\" class=\"koupitZeSeznamu\" method=\"post\"><input name=\"koupit[62891]\" type=\"submit\" value=\"\"/></form><strong class=\"price\">ekönyv: 2 790,- Ft</strong> </div><div class=\"clearer\"> </div>\n",
       "</div><div class=\"clearer\"> </div>\n",
       "</div><div class=\"bookList\"><div class=\"imgSpace\"><a href=\"https://www.ekonyv.hu/hu/konyv-reszletei/s-t-a-l-k-e-r--kihalt-mezyk?eid=62889\" title=\"S.T.A.L.K.E.R. - Kihalt mezők\"><img alt=\"S.T.A.L.K.E.R. - Kihalt mezők\" src=\"kiado/data/images/ebooks/62889_normal.jpg\"/></a></div><div class=\"bookListText\"><div class=\"title\"><a class=\"titul bold\" href=\"https://www.ekonyv.hu/hu/konyv-reszletei/s-t-a-l-k-e-r--kihalt-mezyk?eid=62889\" title=\"S.T.A.L.K.E.R. - Kihalt mezők\">S.T.A.L.K.E.R. - Kihalt mezők</a><br/>Szerző: <a class=\"author\" href=\"https://www.ekonyv.hu/hu/szerzok?name=Alekszej++Kalugin\" title=\"Alekszej  Kalugin\">Alekszej  Kalugin</a></div><p class=\"short_desc\">Jaeger, a tapasztalt stalker még csak elképzelni se tudta, hogy a csapat, akiket átvezetett a Kihalt Mezőkön, gyáván otthagyja, hogy törött lábbal, nyomo <a class=\"vice\" href=\"https://www.ekonyv.hu/hu/konyv-reszletei/s-t-a-l-k-e-r--kihalt-mezyk?eid=62889\" title=\"S.T.A.L.K.E.R. - Kihalt mezők\">...[több]...</a></p><form action=\"https://www.ekonyv.hu/hu/kosar\" class=\"koupitZeSeznamu\" method=\"post\"><input name=\"koupit[62889]\" type=\"submit\" value=\"\"/></form><strong class=\"price\">ekönyv: 2 790,- Ft</strong> </div><div class=\"clearer\"> </div>\n",
       "</div><div class=\"bookList\"><div class=\"imgSpace\"><a href=\"https://www.ekonyv.hu/hu/konyv-reszletei/pokoli-gepezetek?eid=62839\" title=\"Pokoli gépezetek\"><img alt=\"Pokoli gépezetek\" src=\"kiado/data/images/ebooks/62839_normal.jpg\"/></a></div><div class=\"bookListText\"><div class=\"title\"><a class=\"titul bold\" href=\"https://www.ekonyv.hu/hu/konyv-reszletei/pokoli-gepezetek?eid=62839\" title=\"Pokoli gépezetek\">Pokoli gépezetek</a><br/>Szerző: <a class=\"author\" href=\"https://www.ekonyv.hu/hu/szerzok?name=Philip+Reeve\" title=\"Philip Reeve\">Philip Reeve</a></div><p class=\"short_desc\">Anchorage óriási hajtóművei elhallgattak.<br/>A város nem a jeges pusztákat járja már, hanem letelepedett az egykor Amerikának nevezett területen. A csalá <a class=\"vice\" href=\"https://www.ekonyv.hu/hu/konyv-reszletei/pokoli-gepezetek?eid=62839\" title=\"Pokoli gépezetek\">...[több]...</a></p><form action=\"https://www.ekonyv.hu/hu/kosar\" class=\"koupitZeSeznamu\" method=\"post\"><input name=\"koupit[62839]\" type=\"submit\" value=\"\"/></form><strong class=\"price\">ekönyv: 2 992,- Ft</strong> </div><div class=\"clearer\"> </div>\n",
       "</div><div class=\"clearer\"> </div>\n",
       "<div class=\"evenList\"><div class=\"bookList even\"><div class=\"imgSpace\"><a href=\"https://www.ekonyv.hu/hu/konyv-reszletei/oculus?eid=62793\" title=\"Oculus\"><img alt=\"Oculus\" src=\"kiado/data/images/ebooks/62793_normal.jpg\"/></a></div><div class=\"bookListText\"><div class=\"title\"><a class=\"titul bold\" href=\"https://www.ekonyv.hu/hu/konyv-reszletei/oculus?eid=62793\" title=\"Oculus\">Oculus</a><br/>Szerző: <a class=\"author\" href=\"https://www.ekonyv.hu/hu/szerzok?name=A.+M.+Aranth\" title=\"A. M. Aranth\">A. M. Aranth</a></div><p class=\"short_desc\">Mit ​tennél, ha tudnád, hogy egy napon elveszíted a nevedet, a családodat, a barátaidat, a jogaidat és jó pénzért egy vak Idős tudós mellé adnak o <a class=\"vice\" href=\"https://www.ekonyv.hu/hu/konyv-reszletei/oculus?eid=62793\" title=\"Oculus\">...[több]...</a></p><form action=\"https://www.ekonyv.hu/hu/kosar\" class=\"koupitZeSeznamu\" method=\"post\"><input name=\"koupit[62793]\" type=\"submit\" value=\"\"/></form><strong class=\"price\">ekönyv: 2 495,- Ft</strong> </div><div class=\"clearer\"> </div>\n",
       "</div><div class=\"bookList even\"><div class=\"imgSpace\"><a href=\"https://www.ekonyv.hu/hu/konyv-reszletei/vegtelen-vetites?eid=62777\" title=\"Végtelen vetítés\"><img alt=\"Végtelen vetítés\" src=\"kiado/data/images/ebooks/62777_normal.jpg\"/></a></div><div class=\"bookListText\"><div class=\"title\"><a class=\"titul bold\" href=\"https://www.ekonyv.hu/hu/konyv-reszletei/vegtelen-vetites?eid=62777\" title=\"Végtelen vetítés\">Végtelen vetítés</a><br/>Szerző: <a class=\"author\" href=\"https://www.ekonyv.hu/hu/szerzok?name=Carlos+Chernov\" title=\"Carlos Chernov\">Carlos Chernov</a></div><p class=\"short_desc\">Kétszáz évvel a Földet átalakító nagy klímakatasztrófa után a túlélők között sokáig dúló háború erőszakos, totalitárius társadalmat hoz létre. A vil <a class=\"vice\" href=\"https://www.ekonyv.hu/hu/konyv-reszletei/vegtelen-vetites?eid=62777\" title=\"Végtelen vetítés\">...[több]...</a></p><form action=\"https://www.ekonyv.hu/hu/kosar\" class=\"koupitZeSeznamu\" method=\"post\"><input name=\"koupit[62777]\" type=\"submit\" value=\"\"/></form><strong class=\"price\">ekönyv: 2 490,- Ft</strong> </div><div class=\"clearer\"> </div>\n",
       "</div><div class=\"clearer\"> </div>\n",
       "</div><div class=\"clearer\"> </div>\n",
       "<br/>\n",
       "<div class=\"strankovaciBox\"><div class=\"strankovani\"><a class=\"pagenumber active\" href=\"/hu/tematikak/sci-fi?id=83&amp;str=1\" title=\"1. oldal\">1</a> <a class=\"pagenumber\" href=\"/hu/tematikak/sci-fi?id=83&amp;str=2\" title=\"2. oldal\">2</a> <a class=\"pagenumber\" href=\"/hu/tematikak/sci-fi?id=83&amp;str=3\" title=\"3. oldal\">3</a> <a class=\"pagenumber\" href=\"/hu/tematikak/sci-fi?id=83&amp;str=4\" title=\"4. oldal\">4</a> <a class=\"pagenumber\" href=\"/hu/tematikak/sci-fi?id=83&amp;str=5\" title=\"5. oldal\">5</a> <a href=\"/hu/tematikak/sci-fi?id=83&amp;str=2\" title=\"következő\">következő</a> <span class=\"green\">|</span> <a href=\"/hu/tematikak/sci-fi?id=83&amp;str=39\" title=\"utolsó oldal\"><img alt=\"utolsó oldal\" src=\"grafika/arrow-last.gif\"/></a> <span class=\"black\">[1 - 16 <span class=\"green\">|</span> 620] </span>  </div></div></div></div>"
      ]
     },
     "execution_count": 12,
     "metadata": {},
     "output_type": "execute_result"
    }
   ],
   "source": [
    "konyvlista = pagesoup.find(\"div\",{\"class\":\"centerBoxContent\"})\n",
    "konyvlista"
   ]
  },
  {
   "cell_type": "markdown",
   "metadata": {},
   "source": [
    "Ahogy láthatjuk itt is (A fenti HTML kód elejé) ez azt a taget keresi meg és húzza be a tartalmát ahol ezt találja:"
   ]
  },
  {
   "cell_type": "raw",
   "metadata": {},
   "source": [
    "<div class=\"centerBoxContent\">"
   ]
  },
  {
   "cell_type": "markdown",
   "metadata": {},
   "source": [
    "Illetve megkeresi ennek a tagnek a záró párját és áthúzza a kettő közti tartalmat"
   ]
  },
  {
   "cell_type": "markdown",
   "metadata": {},
   "source": [
    "Amennyiben egy másik tagre szeretnénk rákeresni így csak az idézőjelek közti részt kell lecserélni a fenti példából."
   ]
  },
  {
   "cell_type": "markdown",
   "metadata": {},
   "source": [
    "Néha megtörténik hogy egyes weboldalakon a tageknek nincsenek tulajdonságai. Főleg régi oldalakon látható ez a jelenség amit a 90-es évek óta nem frissítettek kinézetben/struktúrában pl: Sedar, itt a második bemeneti értéket el tudjuk hagyni, tehát csak tag nevet adunk meg a find() funkciónak, ebben az esetben viszont az összes egyező taget berakja egy string változóba ami nagyon nehezen kezelhető lesz, ha minden egyes egyezést szeretnénk letárolni külön (listába), akkor a következő részben lévő .findAll() funkciót kell alkalmaznunk."
   ]
  },
  {
   "cell_type": "code",
   "execution_count": 10,
   "metadata": {},
   "outputs": [
    {
     "data": {
      "text/plain": [
       "<div id=\"layout\">\n",
       "<div id=\"header\">\n",
       "<div id=\"accountInfo\">\n",
       "<div id=\"accountInfoContent\"><a class=\"loginShow\" href=\"#\" title=\"Belépés\">Belépés</a> | <a href=\"https://www.ekonyv.hu/hu/regisztracio\" title=\"Regisztráció\">Regisztráció</a> </div> </div>\n",
       "<div id=\"mainMenu\">\n",
       "<a href=\"https://www.ekonyv.hu/hu/kapcsolat\" title=\"Kapcsolat\">Kapcsolat</a><span class=\"menuBullet\">|</span><a href=\"http://enkiadom.hu/\" title=\"ÉN KIADOM\">ÉN KIADOM</a><span class=\"menuBullet\">|</span><a href=\"https://www.ekonyv.hu/hu/kiadoknak\" title=\"Kiadóknak\">Kiadóknak</a><span class=\"menuBullet\">|</span><a href=\"https://www.ekonyv.hu/hu/hogyan-olvassunk-ekonyveket\" title=\"Hogyan olvassunk ekönyveket\">Hogyan olvassunk ekönyveket</a><span class=\"menuBullet\">|</span><a href=\"https://www.ekonyv.hu/hu/hogyan-vasarolj\" title=\"Hogyan vásárolj?\">Hogyan vásárolj?</a> </div>\n",
       "<div id=\"subHeader\">\n",
       "<div id=\"cart\">\n",
       "<a href=\"https://www.ekonyv.hu/hu/kosar\" title=\"Kosár\"><img alt=\"\" class=\"cartImg\" src=\"grafika/cart.gif\"/> kosár: 0 <span class=\"white\"> | </span> 0,- Ft </a> </div>\n",
       "<div id=\"searchBar\">\n",
       "<form action=\"https://www.ekonyv.hu/hu/kereses\" method=\"get\">\n",
       "<input class=\"text\" name=\"searchtext\" type=\"text\" value=\"keresés\"/>\n",
       "<select name=\"searchby\">\n",
       "<option value=\"fulltext\">minden szövegben</option>\n",
       "<option value=\"nazev\">cím szerint</option>\n",
       "<option value=\"autor\">író neve szerint</option>\n",
       "<option value=\"popis\">leírás szerint</option>\n",
       "<option value=\"nakladatel\">kiadó szerint</option>\n",
       "</select>\n",
       "<input class=\"submit\" name=\"search\" type=\"submit\" value=\"keresés\"/>\n",
       "</form>\n",
       "<a href=\"https://www.ekonyv.hu/hu/reszletes-kereses\" title=\"Részletes keresés\">Részletes keresés</a> </div>\n",
       "</div>\n",
       "</div>\n",
       "<div id=\"contentLayout\">\n",
       "<div id=\"firstCol\">\n",
       "<div style=\"display:none;\"><a class=\"catBullet\" href=\"https://www.ekonyv.hu/hu/tematikak/eletmod-egeszseg?id=2\" title=\"Életmód, egészség\">Életmód, egészség</a><a class=\"mainCat\" href=\"#\">(+)</a><br/><div class=\"subdiv\" id=\"submenu-2\"><a class=\"subCat\" href=\"https://www.ekonyv.hu/hu/tematikak/eletmod-stilus-karrier?id=174\" title=\"Életmód, stílus, karrier\">Életmód, stílus, karrier</a><a class=\"subCat\" href=\"https://www.ekonyv.hu/hu/tematikak/egeszseges-eletmod?id=156\" title=\"Egészséges életmód\">Egészséges életmód</a><a class=\"subCat\" href=\"https://www.ekonyv.hu/hu/tematikak/divat?id=141\" title=\"Divat\">Divat</a><a class=\"subCat\" href=\"https://www.ekonyv.hu/hu/tematikak/wellness-fitness-joga?id=24\" title=\"Wellness, fitness, jóga\">Wellness, fitness, jóga</a><a class=\"subCat\" href=\"https://www.ekonyv.hu/hu/tematikak/termeszetgyogyaszat?id=23\" title=\"Természetgyógyászat\">Természetgyógyászat</a><a class=\"subCat\" href=\"https://www.ekonyv.hu/hu/tematikak/kozmetika-szepseg-divat?id=22\" title=\"Kozmetika, szépség, divat\">Kozmetika, szépség, divat</a><a class=\"subCat\" href=\"https://www.ekonyv.hu/hu/tematikak/egeszseges-taplakozas-dietaskonyvek?id=21\" title=\"Egészséges táplákozás, diétáskönyvek\">Egészséges táplákozás, diétáskönyvek</a></div><a class=\"catBullet\" href=\"https://www.ekonyv.hu/hu/tematikak/ezoterika?id=20\" title=\"Ezoterika\">Ezoterika</a><a class=\"mainCat\" href=\"#\">(+)</a><br/><div class=\"subdiv\" id=\"submenu-20\"><a class=\"subCat\" href=\"https://www.ekonyv.hu/hu/tematikak/okkultizmus-spiritualizmus?id=33\" title=\"Okkultizmus, spiritualizmus\">Okkultizmus, spiritualizmus</a><a class=\"subCat\" href=\"https://www.ekonyv.hu/hu/tematikak/meditacio-joga?id=32\" title=\"Meditáció, jóga\">Meditáció, jóga</a><a class=\"subCat\" href=\"https://www.ekonyv.hu/hu/tematikak/magia-boszorkanysag?id=31\" title=\"Mágia, boszorkányság\">Mágia, boszorkányság</a><a class=\"subCat\" href=\"https://www.ekonyv.hu/hu/tematikak/keleti-tanitasok?id=30\" title=\"Keleti tanítások\">Keleti tanítások</a><a class=\"subCat\" href=\"https://www.ekonyv.hu/hu/tematikak/joslas-alomfejtes-tarot?id=29\" title=\"Jóslás, álomfejtés, tarot\">Jóslás, álomfejtés, tarot</a><a class=\"subCat\" href=\"https://www.ekonyv.hu/hu/tematikak/holisztika-egeszseg?id=28\" title=\"Holisztika, egészség\">Holisztika, egészség</a><a class=\"subCat\" href=\"https://www.ekonyv.hu/hu/tematikak/feng-shui?id=27\" title=\"Feng shui\">Feng shui</a><a class=\"subCat\" href=\"https://www.ekonyv.hu/hu/tematikak/ezoteria?id=26\" title=\"Ezotéria\">Ezotéria</a><a class=\"subCat\" href=\"https://www.ekonyv.hu/hu/tematikak/asztrologia?id=25\" title=\"Asztrológia\">Asztrológia</a></div><a class=\"catBullet\" href=\"https://www.ekonyv.hu/hu/tematikak/gasztronomia?id=19\" title=\"Gasztronómia\">Gasztronómia</a><a class=\"mainCat\" href=\"#\">(+)</a><br/><div class=\"subdiv\" id=\"submenu-19\"><a class=\"subCat\" href=\"https://www.ekonyv.hu/hu/tematikak/szakacskonyvek?id=37\" title=\"Szakácskönyvek\">Szakácskönyvek</a><a class=\"subCat\" href=\"https://www.ekonyv.hu/hu/tematikak/italok?id=36\" title=\"Italok\">Italok</a><a class=\"subCat\" href=\"https://www.ekonyv.hu/hu/tematikak/gasztronomia-tortenet?id=35\" title=\"Gasztronómia-történet\">Gasztronómia-történet</a></div><a class=\"catBullet\" href=\"https://www.ekonyv.hu/hu/tematikak/gyermek-es-ifjusagi?id=18\" title=\"Gyermek és ifjúsági\">Gyermek és ifjúsági</a><a class=\"mainCat\" href=\"#\">(+)</a><br/><div class=\"subdiv\" id=\"submenu-18\"><a class=\"subCat\" href=\"https://www.ekonyv.hu/hu/tematikak/mesekonyvek?id=40\" title=\"Mesekönyvek\">Mesekönyvek</a><a class=\"subCat\" href=\"https://www.ekonyv.hu/hu/tematikak/ifjusagi-ismeretterjeszto?id=39\" title=\"Ifjúsági ismeretterjesztő\">Ifjúsági ismeretterjesztő</a><a class=\"subCat\" href=\"https://www.ekonyv.hu/hu/tematikak/ya-ifjusagi-regenyek-es-elbeszelesek?id=38\" title=\"YA, Ifjúsági regények és elbeszélések\">YA, Ifjúsági regények és elbeszélések</a></div><a class=\"catBullet\" href=\"https://www.ekonyv.hu/hu/tematikak/gyermekek-es-szulok?id=17\" title=\"Gyermekek és szülők\">Gyermekek és szülők</a><a class=\"mainCat\" href=\"#\">(+)</a><br/><div class=\"subdiv\" id=\"submenu-17\"><a class=\"subCat\" href=\"https://www.ekonyv.hu/hu/tematikak/terhesseg-es-szules?id=43\" title=\"Terhesség és szülés\">Terhesség és szülés</a><a class=\"subCat\" href=\"https://www.ekonyv.hu/hu/tematikak/kisbabak-es-kismamak?id=42\" title=\"Kisbabák és kismamák\">Kisbabák és kismamák</a><a class=\"subCat\" href=\"https://www.ekonyv.hu/hu/tematikak/gyermekneveles?id=41\" title=\"Gyermeknevelés\">Gyermeknevelés</a></div><a class=\"catBullet\" href=\"https://www.ekonyv.hu/hu/tematikak/kert-es-lakas?id=16\" title=\"Kert és lakás\">Kert és lakás</a><a class=\"mainCat\" href=\"#\">(+)</a><br/><div class=\"subdiv\" id=\"submenu-16\"><a class=\"subCat\" href=\"https://www.ekonyv.hu/hu/tematikak/otthon-lakberendezes?id=45\" title=\"Otthon, lakberendezés\">Otthon, lakberendezés</a><a class=\"subCat\" href=\"https://www.ekonyv.hu/hu/tematikak/noveny-es-kert?id=44\" title=\"Növény és kert\">Növény és kert</a></div><a class=\"catBullet\" href=\"https://www.ekonyv.hu/hu/tematikak/self-publishing?id=136\" title=\"Self Publishing\">Self Publishing</a><a class=\"mainCat\" href=\"#\">(+)</a><br/><div class=\"subdiv\" id=\"submenu-136\"><a class=\"subCat\" href=\"https://www.ekonyv.hu/hu/tematikak/szerzoi-kiadas?id=137\" title=\"Szerzői kiadás\">Szerzői kiadás</a></div><a class=\"catBullet\" href=\"https://www.ekonyv.hu/hu/tematikak/muveszet?id=15\" title=\"Művészet\">Művészet</a><a class=\"mainCat\" href=\"#\">(+)</a><br/><div class=\"subdiv\" id=\"submenu-15\"><a class=\"subCat\" href=\"https://www.ekonyv.hu/hu/tematikak/zene?id=54\" title=\"Zene\">Zene</a><a class=\"subCat\" href=\"https://www.ekonyv.hu/hu/tematikak/szobraszat?id=53\" title=\"Szobrászat\">Szobrászat</a><a class=\"subCat\" href=\"https://www.ekonyv.hu/hu/tematikak/muveszettortenet?id=52\" title=\"Művészettörténet\">Művészettörténet</a><a class=\"subCat\" href=\"https://www.ekonyv.hu/hu/tematikak/foto?id=50\" title=\"Fotó\">Fotó</a><a class=\"subCat\" href=\"https://www.ekonyv.hu/hu/tematikak/film-es-szinhaz?id=49\" title=\"Film és színház\">Film és színház</a><a class=\"subCat\" href=\"https://www.ekonyv.hu/hu/tematikak/festeszet?id=48\" title=\"Festészet\">Festészet</a><a class=\"subCat\" href=\"https://www.ekonyv.hu/hu/tematikak/epiteszet?id=47\" title=\"Épitészet\">Épitészet</a><a class=\"subCat\" href=\"https://www.ekonyv.hu/hu/tematikak/eletrajz?id=46\" title=\"Életrajz\">Életrajz</a></div><a class=\"catBullet\" href=\"https://www.ekonyv.hu/hu/tematikak/nyelvkonyv-idegen-nyelvu?id=14\" title=\"Nyelvkönyv, idegen nyelvű\">Nyelvkönyv, idegen nyelvű</a><a class=\"mainCat\" href=\"#\">(+)</a><br/><div class=\"subdiv\" id=\"submenu-14\"><a class=\"subCat\" href=\"https://www.ekonyv.hu/hu/tematikak/eszperanto-nyelvy-konyvek?id=175\" title=\"Eszperantó nyelvű könyvek\">Eszperantó nyelvű könyvek</a><a class=\"subCat\" href=\"https://www.ekonyv.hu/hu/tematikak/cseh-nyelvy-konyvek?id=170\" title=\"Cseh nyelvű könyvek\">Cseh nyelvű könyvek</a><a class=\"subCat\" href=\"https://www.ekonyv.hu/hu/tematikak/horvat-nyelvy-konyvek?id=168\" title=\"Horvát nyelvű könyvek\">Horvát nyelvű könyvek</a><a class=\"subCat\" href=\"https://www.ekonyv.hu/hu/tematikak/sved-nyelvy-konyvek?id=166\" title=\"Svéd nyelvű könyvek\">Svéd nyelvű könyvek</a><a class=\"subCat\" href=\"https://www.ekonyv.hu/hu/tematikak/dan-nyelvy-konyvek?id=164\" title=\"Dán nyelvű könyvek\">Dán nyelvű könyvek</a><a class=\"subCat\" href=\"https://www.ekonyv.hu/hu/tematikak/litvan-nyelvu-konyvek?id=162\" title=\"Litván nyelvű könyvek\">Litván nyelvű könyvek</a><a class=\"subCat\" href=\"https://www.ekonyv.hu/hu/tematikak/lett-nyelvu-konyvek?id=160\" title=\"Lett nyelvű könyvek\">Lett nyelvű könyvek</a><a class=\"subCat\" href=\"https://www.ekonyv.hu/hu/tematikak/eszt-nyelvu-konyvek?id=158\" title=\"Észt nyelvű könyvek\">Észt nyelvű könyvek</a><a class=\"subCat\" href=\"https://www.ekonyv.hu/hu/tematikak/szerb-nyelvu-konyvek?id=154\" title=\"Szerb nyelvű könyvek\">Szerb nyelvű könyvek</a><a class=\"subCat\" href=\"https://www.ekonyv.hu/hu/tematikak/holland-nyelvu-konyvek?id=152\" title=\"Holland nyelvű könyvek\">Holland nyelvű könyvek</a><a class=\"subCat\" href=\"https://www.ekonyv.hu/hu/tematikak/roman-nyelvu-konyvek?id=150\" title=\"Román nyelvű könyvek\">Román nyelvű könyvek</a><a class=\"subCat\" href=\"https://www.ekonyv.hu/hu/tematikak/lengyel-nyelvu-konyvek?id=148\" title=\"Lengyel nyelvű könyvek\">Lengyel nyelvű könyvek</a><a class=\"subCat\" href=\"https://www.ekonyv.hu/hu/tematikak/olasz-nyelvu-konyvek?id=147\" title=\"Olasz nyelvű könyvek\">Olasz nyelvű könyvek</a><a class=\"subCat\" href=\"https://www.ekonyv.hu/hu/tematikak/portugal-nyelvu-konyvek?id=146\" title=\"Portugál nyelvű könyvek\">Portugál nyelvű könyvek</a><a class=\"subCat\" href=\"https://www.ekonyv.hu/hu/tematikak/nemet-nyelvu-konyvek?id=145\" title=\"Német nyelvű könyvek\">Német nyelvű könyvek</a><a class=\"subCat\" href=\"https://www.ekonyv.hu/hu/tematikak/spanyol-nyelvu-konyvek?id=144\" title=\"Spanyol nyelvű könyvek\">Spanyol nyelvű könyvek</a><a class=\"subCat\" href=\"https://www.ekonyv.hu/hu/tematikak/francia-nyelvu-konyvek?id=143\" title=\"Francia nyelvű könyvek\">Francia nyelvű könyvek</a><a class=\"subCat\" href=\"https://www.ekonyv.hu/hu/tematikak/angol-nyelvu-konyvek?id=142\" title=\"Angol nyelvű könyvek\">Angol nyelvű könyvek</a><a class=\"subCat\" href=\"https://www.ekonyv.hu/hu/tematikak/ketnyelvu-konyvek?id=134\" title=\"Kétnyelvű könyvek\">Kétnyelvű könyvek</a></div><a class=\"catBullet\" href=\"https://www.ekonyv.hu/hu/tematikak/sport-szabadido?id=13\" title=\"Sport, szabadidő\">Sport, szabadidő</a><a class=\"mainCat\" href=\"#\">(+)</a><br/><div class=\"subdiv\" id=\"submenu-13\"><a class=\"subCat\" href=\"https://www.ekonyv.hu/hu/tematikak/hobbi?id=56\" title=\"Hobbi\">Hobbi</a><a class=\"subCat\" href=\"https://www.ekonyv.hu/hu/tematikak/sport?id=55\" title=\"Sport\">Sport</a></div><a class=\"catBullet\" href=\"https://www.ekonyv.hu/hu/tematikak/szakkonyv?id=12\" title=\"Szakkönyv\">Szakkönyv</a><a class=\"mainCat\" href=\"#\">(+)</a><br/><div class=\"subdiv\" id=\"submenu-12\"><a class=\"subCat\" href=\"https://www.ekonyv.hu/hu/tematikak/orvostudomanyok?id=60\" title=\"Orvostudományok\">Orvostudományok</a><a class=\"subCat\" href=\"https://www.ekonyv.hu/hu/tematikak/muszaki-tudomanyok?id=59\" title=\"Műszaki tudományok\">Műszaki tudományok</a><a class=\"subCat\" href=\"https://www.ekonyv.hu/hu/tematikak/lexikon-enciklopedia-szotar?id=57\" title=\"Lexikon, enciklopédia, szótár\">Lexikon, enciklopédia, szótár</a></div><a class=\"catBullet\" href=\"https://www.ekonyv.hu/hu/tematikak/szamitastechnika?id=11\" title=\"Számítástechnika\">Számítástechnika</a><a class=\"mainCat\" href=\"#\">(+)</a><br/><div class=\"subdiv\" id=\"submenu-11\"><a class=\"subCat\" href=\"https://www.ekonyv.hu/hu/tematikak/egyeb?id=70\" title=\"Egyéb\">Egyéb</a><a class=\"subCat\" href=\"https://www.ekonyv.hu/hu/tematikak/programozas?id=69\" title=\"Programozás\">Programozás</a><a class=\"subCat\" href=\"https://www.ekonyv.hu/hu/tematikak/operacios-rendszer?id=68\" title=\"Operációs rendszer\">Operációs rendszer</a><a class=\"subCat\" href=\"https://www.ekonyv.hu/hu/tematikak/iroda-es-otthon?id=67\" title=\"Iroda és otthon\">Iroda és otthon</a><a class=\"subCat\" href=\"https://www.ekonyv.hu/hu/tematikak/internet?id=66\" title=\"Internet\">Internet</a><a class=\"subCat\" href=\"https://www.ekonyv.hu/hu/tematikak/hardver?id=65\" title=\"Hardver\">Hardver</a><a class=\"subCat\" href=\"https://www.ekonyv.hu/hu/tematikak/halozat?id=64\" title=\"Hálózat\">Hálózat</a><a class=\"subCat\" href=\"https://www.ekonyv.hu/hu/tematikak/biztonsag?id=62\" title=\"Biztonság\">Biztonság</a><a class=\"subCat\" href=\"https://www.ekonyv.hu/hu/tematikak/adatbazis?id=61\" title=\"Adatbázis\">Adatbázis</a></div><a class=\"catBullet\" href=\"https://www.ekonyv.hu/hu/tematikak/szepirodalom?id=10\" title=\"Szépirodalom\">Szépirodalom</a><a class=\"mainCat\" href=\"#\">(+)</a><br/><div class=\"subdiv\" id=\"submenu-10\"><a class=\"subCat\" href=\"https://www.ekonyv.hu/hu/tematikak/eletrajz?id=139\" title=\"Életrajz\">Életrajz</a><a class=\"subCat\" href=\"https://www.ekonyv.hu/hu/tematikak/versek?id=76\" title=\"Versek\">Versek</a><a class=\"subCat\" href=\"https://www.ekonyv.hu/hu/tematikak/szinmuvek?id=75\" title=\"Színművek\">Színművek</a><a class=\"subCat\" href=\"https://www.ekonyv.hu/hu/tematikak/vilagirodalom?id=74\" title=\"Világirodalom\">Világirodalom</a><a class=\"subCat\" href=\"https://www.ekonyv.hu/hu/tematikak/magyar-irodalom?id=73\" title=\"Magyar irodalom\">Magyar irodalom</a><a class=\"subCat\" href=\"https://www.ekonyv.hu/hu/tematikak/riportkonyv-tenyirodalom?id=72\" title=\"Riportkönyv, tényirodalom\">Riportkönyv, tényirodalom</a><a class=\"subCat\" href=\"https://www.ekonyv.hu/hu/tematikak/irodalomtortenet?id=71\" title=\"Irodalomtörténet\">Irodalomtörténet</a></div><a class=\"catBullet\" href=\"https://www.ekonyv.hu/hu/tematikak/szorakoztato-irodalom?id=9\" title=\"Szórakoztató irodalom\">Szórakoztató irodalom</a><a class=\"mainCat\" href=\"#\">(+)</a><br/><div class=\"subdiv\" id=\"submenu-9\"><a class=\"subCat\" href=\"https://www.ekonyv.hu/hu/tematikak/eletrajz?id=140\" title=\"Életrajz\">Életrajz</a><a class=\"subCat\" href=\"https://www.ekonyv.hu/hu/tematikak/erotikus?id=138\" title=\"Erotikus\">Erotikus</a><a class=\"subCat\" href=\"https://www.ekonyv.hu/hu/tematikak/vampirregenyek?id=85\" title=\"Vámpírregények\">Vámpírregények</a><a class=\"subCat\" href=\"https://www.ekonyv.hu/hu/tematikak/thriller-horror?id=84\" title=\"Thriller, horror\">Thriller, horror</a><a class=\"subCat active\" href=\"https://www.ekonyv.hu/hu/tematikak/sci-fi?id=83\" title=\"Sci-fi\">Sci-fi</a><a class=\"subCat\" href=\"https://www.ekonyv.hu/hu/tematikak/romantikus?id=82\" title=\"Romantikus\">Romantikus</a><a class=\"subCat\" href=\"https://www.ekonyv.hu/hu/tematikak/krimi?id=81\" title=\"Krimi\">Krimi</a><a class=\"subCat\" href=\"https://www.ekonyv.hu/hu/tematikak/kepregeny?id=80\" title=\"Képregény\">Képregény</a><a class=\"subCat\" href=\"https://www.ekonyv.hu/hu/tematikak/kalandregeny?id=79\" title=\"Kalandregény\">Kalandregény</a><a class=\"subCat\" href=\"https://www.ekonyv.hu/hu/tematikak/humoros-szatira?id=78\" title=\"Humoros, Szatíra\">Humoros, Szatíra</a><a class=\"subCat\" href=\"https://www.ekonyv.hu/hu/tematikak/fantasy?id=77\" title=\"Fantasy\">Fantasy</a></div><a class=\"catBullet\" href=\"https://www.ekonyv.hu/hu/tematikak/tankonyv-segedkonyv?id=8\" title=\"Tankönyv, segédkönyv\">Tankönyv, segédkönyv</a><a class=\"mainCat\" href=\"#\">(+)</a><br/><div class=\"subdiv\" id=\"submenu-8\"><a class=\"subCat\" href=\"https://www.ekonyv.hu/hu/tematikak/egyeb?id=90\" title=\"Egyéb\">Egyéb</a><a class=\"subCat\" href=\"https://www.ekonyv.hu/hu/tematikak/foiskola-egyetem?id=88\" title=\"Főiskola, egyetem\">Főiskola, egyetem</a><a class=\"subCat\" href=\"https://www.ekonyv.hu/hu/tematikak/5-12-evfolyam?id=87\" title=\"5-12. évfolyam\">5-12. évfolyam</a><a class=\"subCat\" href=\"https://www.ekonyv.hu/hu/tematikak/1-4-evfolyam?id=86\" title=\"1-4. évfolyam\">1-4. évfolyam</a></div><a class=\"catBullet\" href=\"https://www.ekonyv.hu/hu/tematikak/tarsadalomtudomany?id=6\" title=\"Társadalomtudomány\">Társadalomtudomány</a><a class=\"mainCat\" href=\"#\">(+)</a><br/><div class=\"subdiv\" id=\"submenu-6\"><a class=\"subCat\" href=\"https://www.ekonyv.hu/hu/tematikak/egyeb?id=99\" title=\"Egyéb\">Egyéb</a><a class=\"subCat\" href=\"https://www.ekonyv.hu/hu/tematikak/szociologia?id=98\" title=\"Szociológia\">Szociológia</a><a class=\"subCat\" href=\"https://www.ekonyv.hu/hu/tematikak/pszichologia?id=97\" title=\"Pszichológia\">Pszichológia</a><a class=\"subCat\" href=\"https://www.ekonyv.hu/hu/tematikak/pedagogia?id=96\" title=\"Pedagógia\">Pedagógia</a><a class=\"subCat\" href=\"https://www.ekonyv.hu/hu/tematikak/nyelveszet?id=95\" title=\"Nyelvészet\">Nyelvészet</a><a class=\"subCat\" href=\"https://www.ekonyv.hu/hu/tematikak/neprajz?id=94\" title=\"Néprajz\">Néprajz</a><a class=\"subCat\" href=\"https://www.ekonyv.hu/hu/tematikak/kozgazdasag?id=93\" title=\"Közgazdaság\">Közgazdaság</a><a class=\"subCat\" href=\"https://www.ekonyv.hu/hu/tematikak/jog?id=92\" title=\"Jog\">Jog</a><a class=\"subCat\" href=\"https://www.ekonyv.hu/hu/tematikak/filozofia?id=91\" title=\"Filozófia\">Filozófia</a></div><a class=\"catBullet\" href=\"https://www.ekonyv.hu/hu/tematikak/termeszettudomany?id=7\" title=\"Természettudomány\">Természettudomány</a><a class=\"mainCat\" href=\"#\">(+)</a><br/><div class=\"subdiv\" id=\"submenu-7\"><a class=\"subCat\" href=\"https://www.ekonyv.hu/hu/tematikak/egyeb?id=107\" title=\"Egyéb\">Egyéb</a><a class=\"subCat\" href=\"https://www.ekonyv.hu/hu/tematikak/matematika?id=106\" title=\"Matematika\">Matematika</a><a class=\"subCat\" href=\"https://www.ekonyv.hu/hu/tematikak/kemia?id=105\" title=\"Kémia\">Kémia</a><a class=\"subCat\" href=\"https://www.ekonyv.hu/hu/tematikak/geologia?id=104\" title=\"Geológia\">Geológia</a><a class=\"subCat\" href=\"https://www.ekonyv.hu/hu/tematikak/foldrajz?id=103\" title=\"Földrajz\">Földrajz</a><a class=\"subCat\" href=\"https://www.ekonyv.hu/hu/tematikak/fizika?id=102\" title=\"Fizika\">Fizika</a><a class=\"subCat\" href=\"https://www.ekonyv.hu/hu/tematikak/csillagaszat?id=101\" title=\"Csillagászat\">Csillagászat</a><a class=\"subCat\" href=\"https://www.ekonyv.hu/hu/tematikak/biologia?id=100\" title=\"Biológia\">Biológia</a></div><a class=\"catBullet\" href=\"https://www.ekonyv.hu/hu/tematikak/tortenelem?id=5\" title=\"Történelem\">Történelem</a><a class=\"mainCat\" href=\"#\">(+)</a><br/><div class=\"subdiv\" id=\"submenu-5\"><a class=\"subCat\" href=\"https://www.ekonyv.hu/hu/tematikak/vilagtortenelem?id=116\" title=\"Világtörténelem\">Világtörténelem</a><a class=\"subCat\" href=\"https://www.ekonyv.hu/hu/tematikak/regeszet?id=115\" title=\"Régészet\">Régészet</a><a class=\"subCat\" href=\"https://www.ekonyv.hu/hu/tematikak/politika?id=114\" title=\"Politika\">Politika</a><a class=\"subCat\" href=\"https://www.ekonyv.hu/hu/tematikak/muvelodestortenet?id=113\" title=\"Művelődéstörténet\">Művelődéstörténet</a><a class=\"subCat\" href=\"https://www.ekonyv.hu/hu/tematikak/magyar-tortenelem?id=112\" title=\"Magyar történelem\">Magyar történelem</a><a class=\"subCat\" href=\"https://www.ekonyv.hu/hu/tematikak/heraldika-csaladtortenet?id=111\" title=\"Heraldika, családtörténet\">Heraldika, családtörténet</a><a class=\"subCat\" href=\"https://www.ekonyv.hu/hu/tematikak/helytortenet?id=110\" title=\"Helytörténet\">Helytörténet</a><a class=\"subCat\" href=\"https://www.ekonyv.hu/hu/tematikak/hadaszat?id=109\" title=\"Hadászat\">Hadászat</a><a class=\"subCat\" href=\"https://www.ekonyv.hu/hu/tematikak/eletrajzok?id=108\" title=\"Életrajzok\">Életrajzok</a></div><a class=\"catBullet\" href=\"https://www.ekonyv.hu/hu/tematikak/utazas?id=4\" title=\"Utazás\">Utazás</a><a class=\"mainCat\" href=\"#\">(+)</a><br/><div class=\"subdiv\" id=\"submenu-4\"><a class=\"subCat\" href=\"https://www.ekonyv.hu/hu/tematikak/utleirasok?id=118\" title=\"Útleírások\">Útleírások</a><a class=\"subCat\" href=\"https://www.ekonyv.hu/hu/tematikak/utikonyvek?id=117\" title=\"Útikönyvek\">Útikönyvek</a></div><a class=\"catBullet\" href=\"https://www.ekonyv.hu/hu/tematikak/uzleti-elet-karrier?id=1\" title=\"Üzleti élet, karrier\">Üzleti élet, karrier</a><a class=\"mainCat\" href=\"#\">(+)</a><br/><div class=\"subdiv\" id=\"submenu-1\"><a class=\"subCat\" href=\"https://www.ekonyv.hu/hu/tematikak/menedzsment-vezetesi-strategiak?id=124\" title=\"Menedzsment, vezetési stratégiák\">Menedzsment, vezetési stratégiák</a><a class=\"subCat\" href=\"https://www.ekonyv.hu/hu/tematikak/marketing-reklam?id=123\" title=\"Marketing, reklám\">Marketing, reklám</a><a class=\"subCat\" href=\"https://www.ekonyv.hu/hu/tematikak/kommunikacio-targyalastechnika?id=122\" title=\"Kommunikáció, tárgyalástechnika\">Kommunikáció, tárgyalástechnika</a><a class=\"subCat\" href=\"https://www.ekonyv.hu/hu/tematikak/ertekesites?id=121\" title=\"Értékesítés\">Értékesítés</a><a class=\"subCat\" href=\"https://www.ekonyv.hu/hu/tematikak/befektetes-vallalkozas?id=120\" title=\"Befektetés, vállalkozás\">Befektetés, vállalkozás</a><a class=\"subCat\" href=\"https://www.ekonyv.hu/hu/tematikak/allaskereses-karrierepites-hr?id=119\" title=\"Álláskeresés, karrierépítés, HR\">Álláskeresés, karrierépítés, HR</a></div><a class=\"catBullet\" href=\"https://www.ekonyv.hu/hu/tematikak/vallas?id=3\" title=\"Vallás\">Vallás</a><a class=\"mainCat\" href=\"#\">(+)</a><br/><div class=\"subdiv\" id=\"submenu-3\"><a class=\"subCat\" href=\"https://www.ekonyv.hu/hu/tematikak/vallastortenet?id=133\" title=\"Vallástörténet\">Vallástörténet</a><a class=\"subCat\" href=\"https://www.ekonyv.hu/hu/tematikak/mitologia?id=132\" title=\"Mitológia\">Mitológia</a><a class=\"subCat\" href=\"https://www.ekonyv.hu/hu/tematikak/keresztenyseg?id=131\" title=\"Kereszténység\">Kereszténység</a><a class=\"subCat\" href=\"https://www.ekonyv.hu/hu/tematikak/judaizmus?id=130\" title=\"Judaizmus\">Judaizmus</a><a class=\"subCat\" href=\"https://www.ekonyv.hu/hu/tematikak/iszlam?id=129\" title=\"Iszlám\">Iszlám</a><a class=\"subCat\" href=\"https://www.ekonyv.hu/hu/tematikak/hinduizmus?id=128\" title=\"Hinduizmus\">Hinduizmus</a><a class=\"subCat\" href=\"https://www.ekonyv.hu/hu/tematikak/egyeb?id=127\" title=\"Egyéb\">Egyéb</a><a class=\"subCat\" href=\"https://www.ekonyv.hu/hu/tematikak/buddhizmus?id=126\" title=\"Buddhizmus\">Buddhizmus</a><a class=\"subCat\" href=\"https://www.ekonyv.hu/hu/tematikak/a-biblia-vilaga?id=125\" title=\"A Biblia világa\">A Biblia világa</a></div></div><div class=\"box\"><div class=\"masterswitch\"></div><div class=\"boxContent\"><div class=\"catBoxContent\">\n",
       "<a class=\"highlight\" href=\"https://www.ekonyv.hu/hu/ujdonsagok\" title=\"Újdonságok\"><img alt=\"Újdonságok\" src=\"grafika/ico-novinky.gif\"/>Újdonságok</a><a class=\"highlight\" href=\"https://www.ekonyv.hu/hu/bestsellerek\" title=\"Bestsellerek\"><img alt=\"Bestsellerek\" src=\"grafika/ico-bestsellery.gif\"/>Bestsellerek</a><a class=\"highlight\" href=\"https://www.ekonyv.hu/hu/szerzok\" title=\"Szerzők\"><img alt=\"Szerzők\" src=\"grafika/ico-autor.gif\"/>Szerzők</a>\n",
       "<div class=\"alignc\"><img alt=\"hr\" src=\"grafika/mostSalesBottom.gif\"/></div>\n",
       "<div class=\"ebookSection\"><img alt=\"\" src=\"grafika/ico-dospela.png\"/>ekönyvek</div><br/>\n",
       "<script type=\"text/javascript\"><!--\n",
       "dtree1 = new dTree('dtree1');\n",
       "dtree1.config.useIcons = false;\n",
       "dtree1.config.inOrder = true;\n",
       "dtree1.config.useSelection = true;\n",
       "dtree1.config.useCookies = false;\n",
       "dtree1.add(0,-1,'');\n",
       "dtree1.add(2,0,'Életmód, egészség','https://www.ekonyv.hu/hu/tematikak/eletmod-egeszseg?id=2');\n",
       "dtree1.add(174,2,'Életmód, stílus, karrier','https://www.ekonyv.hu/hu/tematikak/eletmod-stilus-karrier?id=174');\n",
       "dtree1.add(156,2,'Egészséges életmód','https://www.ekonyv.hu/hu/tematikak/egeszseges-eletmod?id=156');\n",
       "dtree1.add(141,2,'Divat','https://www.ekonyv.hu/hu/tematikak/divat?id=141');\n",
       "dtree1.add(24,2,'Wellness, fitness, jóga','https://www.ekonyv.hu/hu/tematikak/wellness-fitness-joga?id=24');\n",
       "dtree1.add(23,2,'Természetgyógyászat','https://www.ekonyv.hu/hu/tematikak/termeszetgyogyaszat?id=23');\n",
       "dtree1.add(22,2,'Kozmetika, szépség, divat','https://www.ekonyv.hu/hu/tematikak/kozmetika-szepseg-divat?id=22');\n",
       "dtree1.add(21,2,'Egészséges táplákozás, diétáskönyvek','https://www.ekonyv.hu/hu/tematikak/egeszseges-taplakozas-dietaskonyvek?id=21');\n",
       "dtree1.add(20,0,'Ezoterika','https://www.ekonyv.hu/hu/tematikak/ezoterika?id=20');\n",
       "dtree1.add(33,20,'Okkultizmus, spiritualizmus','https://www.ekonyv.hu/hu/tematikak/okkultizmus-spiritualizmus?id=33');\n",
       "dtree1.add(32,20,'Meditáció, jóga','https://www.ekonyv.hu/hu/tematikak/meditacio-joga?id=32');\n",
       "dtree1.add(31,20,'Mágia, boszorkányság','https://www.ekonyv.hu/hu/tematikak/magia-boszorkanysag?id=31');\n",
       "dtree1.add(30,20,'Keleti tanítások','https://www.ekonyv.hu/hu/tematikak/keleti-tanitasok?id=30');\n",
       "dtree1.add(29,20,'Jóslás, álomfejtés, tarot','https://www.ekonyv.hu/hu/tematikak/joslas-alomfejtes-tarot?id=29');\n",
       "dtree1.add(28,20,'Holisztika, egészség','https://www.ekonyv.hu/hu/tematikak/holisztika-egeszseg?id=28');\n",
       "dtree1.add(27,20,'Feng shui','https://www.ekonyv.hu/hu/tematikak/feng-shui?id=27');\n",
       "dtree1.add(26,20,'Ezotéria','https://www.ekonyv.hu/hu/tematikak/ezoteria?id=26');\n",
       "dtree1.add(25,20,'Asztrológia','https://www.ekonyv.hu/hu/tematikak/asztrologia?id=25');\n",
       "dtree1.add(19,0,'Gasztronómia','https://www.ekonyv.hu/hu/tematikak/gasztronomia?id=19');\n",
       "dtree1.add(37,19,'Szakácskönyvek','https://www.ekonyv.hu/hu/tematikak/szakacskonyvek?id=37');\n",
       "dtree1.add(36,19,'Italok','https://www.ekonyv.hu/hu/tematikak/italok?id=36');\n",
       "dtree1.add(35,19,'Gasztronómia-történet','https://www.ekonyv.hu/hu/tematikak/gasztronomia-tortenet?id=35');\n",
       "dtree1.add(18,0,'Gyermek és ifjúsági','https://www.ekonyv.hu/hu/tematikak/gyermek-es-ifjusagi?id=18');\n",
       "dtree1.add(40,18,'Mesekönyvek','https://www.ekonyv.hu/hu/tematikak/mesekonyvek?id=40');\n",
       "dtree1.add(39,18,'Ifjúsági ismeretterjesztő','https://www.ekonyv.hu/hu/tematikak/ifjusagi-ismeretterjeszto?id=39');\n",
       "dtree1.add(38,18,'YA, Ifjúsági regények és elbeszélések','https://www.ekonyv.hu/hu/tematikak/ya-ifjusagi-regenyek-es-elbeszelesek?id=38');\n",
       "dtree1.add(17,0,'Gyermekek és szülők','https://www.ekonyv.hu/hu/tematikak/gyermekek-es-szulok?id=17');\n",
       "dtree1.add(43,17,'Terhesség és szülés','https://www.ekonyv.hu/hu/tematikak/terhesseg-es-szules?id=43');\n",
       "dtree1.add(42,17,'Kisbabák és kismamák','https://www.ekonyv.hu/hu/tematikak/kisbabak-es-kismamak?id=42');\n",
       "dtree1.add(41,17,'Gyermeknevelés','https://www.ekonyv.hu/hu/tematikak/gyermekneveles?id=41');\n",
       "dtree1.add(16,0,'Kert és lakás','https://www.ekonyv.hu/hu/tematikak/kert-es-lakas?id=16');\n",
       "dtree1.add(45,16,'Otthon, lakberendezés','https://www.ekonyv.hu/hu/tematikak/otthon-lakberendezes?id=45');\n",
       "dtree1.add(44,16,'Növény és kert','https://www.ekonyv.hu/hu/tematikak/noveny-es-kert?id=44');\n",
       "dtree1.add(15,0,'Művészet','https://www.ekonyv.hu/hu/tematikak/muveszet?id=15');\n",
       "dtree1.add(54,15,'Zene','https://www.ekonyv.hu/hu/tematikak/zene?id=54');\n",
       "dtree1.add(53,15,'Szobrászat','https://www.ekonyv.hu/hu/tematikak/szobraszat?id=53');\n",
       "dtree1.add(52,15,'Művészettörténet','https://www.ekonyv.hu/hu/tematikak/muveszettortenet?id=52');\n",
       "dtree1.add(50,15,'Fotó','https://www.ekonyv.hu/hu/tematikak/foto?id=50');\n",
       "dtree1.add(49,15,'Film és színház','https://www.ekonyv.hu/hu/tematikak/film-es-szinhaz?id=49');\n",
       "dtree1.add(48,15,'Festészet','https://www.ekonyv.hu/hu/tematikak/festeszet?id=48');\n",
       "dtree1.add(47,15,'Épitészet','https://www.ekonyv.hu/hu/tematikak/epiteszet?id=47');\n",
       "dtree1.add(46,15,'Életrajz','https://www.ekonyv.hu/hu/tematikak/eletrajz?id=46');\n",
       "dtree1.add(14,0,'Nyelvkönyv, idegen nyelvű','https://www.ekonyv.hu/hu/tematikak/nyelvkonyv-idegen-nyelvu?id=14');\n",
       "dtree1.add(175,14,'Eszperantó nyelvű könyvek','https://www.ekonyv.hu/hu/tematikak/eszperanto-nyelvy-konyvek?id=175');\n",
       "dtree1.add(170,14,'Cseh nyelvű könyvek','https://www.ekonyv.hu/hu/tematikak/cseh-nyelvy-konyvek?id=170');\n",
       "dtree1.add(168,14,'Horvát nyelvű könyvek','https://www.ekonyv.hu/hu/tematikak/horvat-nyelvy-konyvek?id=168');\n",
       "dtree1.add(166,14,'Svéd nyelvű könyvek','https://www.ekonyv.hu/hu/tematikak/sved-nyelvy-konyvek?id=166');\n",
       "dtree1.add(164,14,'Dán nyelvű könyvek','https://www.ekonyv.hu/hu/tematikak/dan-nyelvy-konyvek?id=164');\n",
       "dtree1.add(162,14,'Litván nyelvű könyvek','https://www.ekonyv.hu/hu/tematikak/litvan-nyelvu-konyvek?id=162');\n",
       "dtree1.add(160,14,'Lett nyelvű könyvek','https://www.ekonyv.hu/hu/tematikak/lett-nyelvu-konyvek?id=160');\n",
       "dtree1.add(158,14,'Észt nyelvű könyvek','https://www.ekonyv.hu/hu/tematikak/eszt-nyelvu-konyvek?id=158');\n",
       "dtree1.add(154,14,'Szerb nyelvű könyvek','https://www.ekonyv.hu/hu/tematikak/szerb-nyelvu-konyvek?id=154');\n",
       "dtree1.add(152,14,'Holland nyelvű könyvek','https://www.ekonyv.hu/hu/tematikak/holland-nyelvu-konyvek?id=152');\n",
       "dtree1.add(150,14,'Román nyelvű könyvek','https://www.ekonyv.hu/hu/tematikak/roman-nyelvu-konyvek?id=150');\n",
       "dtree1.add(148,14,'Lengyel nyelvű könyvek','https://www.ekonyv.hu/hu/tematikak/lengyel-nyelvu-konyvek?id=148');\n",
       "dtree1.add(147,14,'Olasz nyelvű könyvek','https://www.ekonyv.hu/hu/tematikak/olasz-nyelvu-konyvek?id=147');\n",
       "dtree1.add(146,14,'Portugál nyelvű könyvek','https://www.ekonyv.hu/hu/tematikak/portugal-nyelvu-konyvek?id=146');\n",
       "dtree1.add(145,14,'Német nyelvű könyvek','https://www.ekonyv.hu/hu/tematikak/nemet-nyelvu-konyvek?id=145');\n",
       "dtree1.add(144,14,'Spanyol nyelvű könyvek','https://www.ekonyv.hu/hu/tematikak/spanyol-nyelvu-konyvek?id=144');\n",
       "dtree1.add(143,14,'Francia nyelvű könyvek','https://www.ekonyv.hu/hu/tematikak/francia-nyelvu-konyvek?id=143');\n",
       "dtree1.add(142,14,'Angol nyelvű könyvek','https://www.ekonyv.hu/hu/tematikak/angol-nyelvu-konyvek?id=142');\n",
       "dtree1.add(134,14,'Kétnyelvű könyvek','https://www.ekonyv.hu/hu/tematikak/ketnyelvu-konyvek?id=134');\n",
       "dtree1.add(13,0,'Sport, szabadidő','https://www.ekonyv.hu/hu/tematikak/sport-szabadido?id=13');\n",
       "dtree1.add(56,13,'Hobbi','https://www.ekonyv.hu/hu/tematikak/hobbi?id=56');\n",
       "dtree1.add(55,13,'Sport','https://www.ekonyv.hu/hu/tematikak/sport?id=55');\n",
       "dtree1.add(12,0,'Szakkönyv','https://www.ekonyv.hu/hu/tematikak/szakkonyv?id=12');\n",
       "dtree1.add(60,12,'Orvostudományok','https://www.ekonyv.hu/hu/tematikak/orvostudomanyok?id=60');\n",
       "dtree1.add(59,12,'Műszaki tudományok','https://www.ekonyv.hu/hu/tematikak/muszaki-tudomanyok?id=59');\n",
       "dtree1.add(57,12,'Lexikon, enciklopédia, szótár','https://www.ekonyv.hu/hu/tematikak/lexikon-enciklopedia-szotar?id=57');\n",
       "dtree1.add(11,0,'Számítástechnika','https://www.ekonyv.hu/hu/tematikak/szamitastechnika?id=11');\n",
       "dtree1.add(70,11,'Egyéb','https://www.ekonyv.hu/hu/tematikak/egyeb?id=70');\n",
       "dtree1.add(69,11,'Programozás','https://www.ekonyv.hu/hu/tematikak/programozas?id=69');\n",
       "dtree1.add(68,11,'Operációs rendszer','https://www.ekonyv.hu/hu/tematikak/operacios-rendszer?id=68');\n",
       "dtree1.add(67,11,'Iroda és otthon','https://www.ekonyv.hu/hu/tematikak/iroda-es-otthon?id=67');\n",
       "dtree1.add(66,11,'Internet','https://www.ekonyv.hu/hu/tematikak/internet?id=66');\n",
       "dtree1.add(65,11,'Hardver','https://www.ekonyv.hu/hu/tematikak/hardver?id=65');\n",
       "dtree1.add(64,11,'Hálózat','https://www.ekonyv.hu/hu/tematikak/halozat?id=64');\n",
       "dtree1.add(62,11,'Biztonság','https://www.ekonyv.hu/hu/tematikak/biztonsag?id=62');\n",
       "dtree1.add(61,11,'Adatbázis','https://www.ekonyv.hu/hu/tematikak/adatbazis?id=61');\n",
       "dtree1.add(10,0,'Szépirodalom','https://www.ekonyv.hu/hu/tematikak/szepirodalom?id=10');\n",
       "dtree1.add(139,10,'Életrajz','https://www.ekonyv.hu/hu/tematikak/eletrajz?id=139');\n",
       "dtree1.add(76,10,'Versek','https://www.ekonyv.hu/hu/tematikak/versek?id=76');\n",
       "dtree1.add(75,10,'Színművek','https://www.ekonyv.hu/hu/tematikak/szinmuvek?id=75');\n",
       "dtree1.add(74,10,'Világirodalom','https://www.ekonyv.hu/hu/tematikak/vilagirodalom?id=74');\n",
       "dtree1.add(73,10,'Magyar irodalom','https://www.ekonyv.hu/hu/tematikak/magyar-irodalom?id=73');\n",
       "dtree1.add(72,10,'Riportkönyv, tényirodalom','https://www.ekonyv.hu/hu/tematikak/riportkonyv-tenyirodalom?id=72');\n",
       "dtree1.add(71,10,'Irodalomtörténet','https://www.ekonyv.hu/hu/tematikak/irodalomtortenet?id=71');\n",
       "dtree1.add(9,0,'Szórakoztató irodalom','https://www.ekonyv.hu/hu/tematikak/szorakoztato-irodalom?id=9');\n",
       "dtree1.add(140,9,'Életrajz','https://www.ekonyv.hu/hu/tematikak/eletrajz?id=140');\n",
       "dtree1.add(138,9,'Erotikus','https://www.ekonyv.hu/hu/tematikak/erotikus?id=138');\n",
       "dtree1.add(85,9,'Vámpírregények','https://www.ekonyv.hu/hu/tematikak/vampirregenyek?id=85');\n",
       "dtree1.add(84,9,'Thriller, horror','https://www.ekonyv.hu/hu/tematikak/thriller-horror?id=84');\n",
       "dtree1.add(83,9,'Sci-fi','https://www.ekonyv.hu/hu/tematikak/sci-fi?id=83');\n",
       "dtree1.add(82,9,'Romantikus','https://www.ekonyv.hu/hu/tematikak/romantikus?id=82');\n",
       "dtree1.add(81,9,'Krimi','https://www.ekonyv.hu/hu/tematikak/krimi?id=81');\n",
       "dtree1.add(80,9,'Képregény','https://www.ekonyv.hu/hu/tematikak/kepregeny?id=80');\n",
       "dtree1.add(79,9,'Kalandregény','https://www.ekonyv.hu/hu/tematikak/kalandregeny?id=79');\n",
       "dtree1.add(78,9,'Humoros, Szatíra','https://www.ekonyv.hu/hu/tematikak/humoros-szatira?id=78');\n",
       "dtree1.add(77,9,'Fantasy','https://www.ekonyv.hu/hu/tematikak/fantasy?id=77');\n",
       "dtree1.add(8,0,'Tankönyv, segédkönyv','https://www.ekonyv.hu/hu/tematikak/tankonyv-segedkonyv?id=8');\n",
       "dtree1.add(90,8,'Egyéb','https://www.ekonyv.hu/hu/tematikak/egyeb?id=90');\n",
       "dtree1.add(88,8,'Főiskola, egyetem','https://www.ekonyv.hu/hu/tematikak/foiskola-egyetem?id=88');\n",
       "dtree1.add(87,8,'5-12. évfolyam','https://www.ekonyv.hu/hu/tematikak/5-12-evfolyam?id=87');\n",
       "dtree1.add(86,8,'1-4. évfolyam','https://www.ekonyv.hu/hu/tematikak/1-4-evfolyam?id=86');\n",
       "dtree1.add(6,0,'Társadalomtudomány','https://www.ekonyv.hu/hu/tematikak/tarsadalomtudomany?id=6');\n",
       "dtree1.add(99,6,'Egyéb','https://www.ekonyv.hu/hu/tematikak/egyeb?id=99');\n",
       "dtree1.add(98,6,'Szociológia','https://www.ekonyv.hu/hu/tematikak/szociologia?id=98');\n",
       "dtree1.add(97,6,'Pszichológia','https://www.ekonyv.hu/hu/tematikak/pszichologia?id=97');\n",
       "dtree1.add(96,6,'Pedagógia','https://www.ekonyv.hu/hu/tematikak/pedagogia?id=96');\n",
       "dtree1.add(95,6,'Nyelvészet','https://www.ekonyv.hu/hu/tematikak/nyelveszet?id=95');\n",
       "dtree1.add(94,6,'Néprajz','https://www.ekonyv.hu/hu/tematikak/neprajz?id=94');\n",
       "dtree1.add(93,6,'Közgazdaság','https://www.ekonyv.hu/hu/tematikak/kozgazdasag?id=93');\n",
       "dtree1.add(92,6,'Jog','https://www.ekonyv.hu/hu/tematikak/jog?id=92');\n",
       "dtree1.add(91,6,'Filozófia','https://www.ekonyv.hu/hu/tematikak/filozofia?id=91');\n",
       "dtree1.add(7,0,'Természettudomány','https://www.ekonyv.hu/hu/tematikak/termeszettudomany?id=7');\n",
       "dtree1.add(107,7,'Egyéb','https://www.ekonyv.hu/hu/tematikak/egyeb?id=107');\n",
       "dtree1.add(106,7,'Matematika','https://www.ekonyv.hu/hu/tematikak/matematika?id=106');\n",
       "dtree1.add(105,7,'Kémia','https://www.ekonyv.hu/hu/tematikak/kemia?id=105');\n",
       "dtree1.add(104,7,'Geológia','https://www.ekonyv.hu/hu/tematikak/geologia?id=104');\n",
       "dtree1.add(103,7,'Földrajz','https://www.ekonyv.hu/hu/tematikak/foldrajz?id=103');\n",
       "dtree1.add(102,7,'Fizika','https://www.ekonyv.hu/hu/tematikak/fizika?id=102');\n",
       "dtree1.add(101,7,'Csillagászat','https://www.ekonyv.hu/hu/tematikak/csillagaszat?id=101');\n",
       "dtree1.add(100,7,'Biológia','https://www.ekonyv.hu/hu/tematikak/biologia?id=100');\n",
       "dtree1.add(5,0,'Történelem','https://www.ekonyv.hu/hu/tematikak/tortenelem?id=5');\n",
       "dtree1.add(116,5,'Világtörténelem','https://www.ekonyv.hu/hu/tematikak/vilagtortenelem?id=116');\n",
       "dtree1.add(115,5,'Régészet','https://www.ekonyv.hu/hu/tematikak/regeszet?id=115');\n",
       "dtree1.add(114,5,'Politika','https://www.ekonyv.hu/hu/tematikak/politika?id=114');\n",
       "dtree1.add(113,5,'Művelődéstörténet','https://www.ekonyv.hu/hu/tematikak/muvelodestortenet?id=113');\n",
       "dtree1.add(112,5,'Magyar történelem','https://www.ekonyv.hu/hu/tematikak/magyar-tortenelem?id=112');\n",
       "dtree1.add(111,5,'Heraldika, családtörténet','https://www.ekonyv.hu/hu/tematikak/heraldika-csaladtortenet?id=111');\n",
       "dtree1.add(110,5,'Helytörténet','https://www.ekonyv.hu/hu/tematikak/helytortenet?id=110');\n",
       "dtree1.add(109,5,'Hadászat','https://www.ekonyv.hu/hu/tematikak/hadaszat?id=109');\n",
       "dtree1.add(108,5,'Életrajzok','https://www.ekonyv.hu/hu/tematikak/eletrajzok?id=108');\n",
       "dtree1.add(4,0,'Utazás','https://www.ekonyv.hu/hu/tematikak/utazas?id=4');\n",
       "dtree1.add(118,4,'Útleírások','https://www.ekonyv.hu/hu/tematikak/utleirasok?id=118');\n",
       "dtree1.add(117,4,'Útikönyvek','https://www.ekonyv.hu/hu/tematikak/utikonyvek?id=117');\n",
       "dtree1.add(1,0,'Üzleti élet, karrier','https://www.ekonyv.hu/hu/tematikak/uzleti-elet-karrier?id=1');\n",
       "dtree1.add(124,1,'Menedzsment, vezetési stratégiák','https://www.ekonyv.hu/hu/tematikak/menedzsment-vezetesi-strategiak?id=124');\n",
       "dtree1.add(123,1,'Marketing, reklám','https://www.ekonyv.hu/hu/tematikak/marketing-reklam?id=123');\n",
       "dtree1.add(122,1,'Kommunikáció, tárgyalástechnika','https://www.ekonyv.hu/hu/tematikak/kommunikacio-targyalastechnika?id=122');\n",
       "dtree1.add(121,1,'Értékesítés','https://www.ekonyv.hu/hu/tematikak/ertekesites?id=121');\n",
       "dtree1.add(120,1,'Befektetés, vállalkozás','https://www.ekonyv.hu/hu/tematikak/befektetes-vallalkozas?id=120');\n",
       "dtree1.add(119,1,'Álláskeresés, karrierépítés, HR','https://www.ekonyv.hu/hu/tematikak/allaskereses-karrierepites-hr?id=119');\n",
       "dtree1.add(3,0,'Vallás','https://www.ekonyv.hu/hu/tematikak/vallas?id=3');\n",
       "dtree1.add(133,3,'Vallástörténet','https://www.ekonyv.hu/hu/tematikak/vallastortenet?id=133');\n",
       "dtree1.add(132,3,'Mitológia','https://www.ekonyv.hu/hu/tematikak/mitologia?id=132');\n",
       "dtree1.add(131,3,'Kereszténység','https://www.ekonyv.hu/hu/tematikak/keresztenyseg?id=131');\n",
       "dtree1.add(130,3,'Judaizmus','https://www.ekonyv.hu/hu/tematikak/judaizmus?id=130');\n",
       "dtree1.add(129,3,'Iszlám','https://www.ekonyv.hu/hu/tematikak/iszlam?id=129');\n",
       "dtree1.add(128,3,'Hinduizmus','https://www.ekonyv.hu/hu/tematikak/hinduizmus?id=128');\n",
       "dtree1.add(127,3,'Egyéb','https://www.ekonyv.hu/hu/tematikak/egyeb?id=127');\n",
       "dtree1.add(126,3,'Buddhizmus','https://www.ekonyv.hu/hu/tematikak/buddhizmus?id=126');\n",
       "dtree1.add(125,3,'A Biblia világa','https://www.ekonyv.hu/hu/tematikak/a-biblia-vilaga?id=125');\n",
       "document.write(dtree1);\n",
       "dtree1.openTo(83,true);\n",
       "-->\n",
       "</script>\n",
       "</div><div class=\"clearer\"> </div>\n",
       "</div><div class=\"boxBottom\"></div></div><div class=\"box\"><div class=\"boxTop\"><p>Kiemelt ekönyv</p></div><div class=\"boxContent\"><div style=\"text-align:center;\"><div class=\"highlightEbook\"><div class=\"imgSpace\"><a href=\"https://www.ekonyv.hu/hu/konyv-reszletei/orokolt-sors?eid=64121\" title=\"Örökölt sors\"><img alt=\"Örökölt sors\" src=\"kiado/data/images/ebooks/64121_normal.jpg\"/></a></div><div class=\"highTop\"><a class=\"titul\" href=\"https://www.ekonyv.hu/hu/konyv-reszletei/orokolt-sors?eid=64121\" title=\"Örökölt sors\">Örökölt sors</a><br/><a class=\"author\" href=\"https://www.ekonyv.hu/hu/szerzok?name=Orvos-T%C3%B3th+No%C3%A9mi\" title=\"Orvos-Tóth Noémi\">Orvos-Tóth Noémi</a></div><strong class=\"price\">ekönyv: 2 350,- Ft</strong><br/>\n",
       "</div></div><div class=\"clearer\"> </div>\n",
       "</div><div class=\"boxBottom\"></div></div><div class=\"facebookBanner\">\n",
       "<iframe allowtransparency=\"true\" frameborder=\"0\" scrolling=\"no\" src=\"https://www.facebook.com/plugins/likebox.php?href=http://www.facebook.com/pages/Ek%C3%B6nyvhu-web%C3%A1ruh%C3%A1z/325046327573945&amp;width=200&amp;height=86&amp;colorscheme=light&amp;show_faces=false&amp;border_color&amp;stream=false&amp;header=false\" style=\"border:none; overflow:hidden; width:200px; height:86px;\"></iframe>\n",
       "</div>\n",
       "</div>\n",
       "<div id=\"secondCol\">\n",
       "<div class=\"pad\">\n",
       "<div class=\"centerBox\"><div class=\"centerBoxTop\"><h1>Szórakoztató irodalom | Sci-fi</h1></div><div class=\"centerBoxContent\"><div class=\"centerBoxPad\"><div class=\"strankovaciBox\"><form class=\"razeni\" method=\"get\"><input name=\"id\" type=\"hidden\" value=\"83\"/>Rendezés: <select name=\"razeni\" onchange=\"submit();\"><option value=\"nazev\">név</option><option value=\"cena\">ár</option><option value=\"popularita\">népszerűség</option><option selected=\"selected\" value=\"datum\">dátum</option></select></form><form class=\"polozekNaStranku\" method=\"post\">ekönyvek oldalanként <select name=\"polozek_na_stranku\" onchange=\"submit();\"><option value=\"8\">8</option><option selected=\"selected\" value=\"16\">16</option><option value=\"64\">64</option></select></form><div class=\"clearer\"> </div>\n",
       "<div class=\"strankovani\"><a class=\"pagenumber active\" href=\"/hu/tematikak/sci-fi?id=83&amp;str=1\" title=\"1. oldal\">1</a> <a class=\"pagenumber\" href=\"/hu/tematikak/sci-fi?id=83&amp;str=2\" title=\"2. oldal\">2</a> <a class=\"pagenumber\" href=\"/hu/tematikak/sci-fi?id=83&amp;str=3\" title=\"3. oldal\">3</a> <a class=\"pagenumber\" href=\"/hu/tematikak/sci-fi?id=83&amp;str=4\" title=\"4. oldal\">4</a> <a class=\"pagenumber\" href=\"/hu/tematikak/sci-fi?id=83&amp;str=5\" title=\"5. oldal\">5</a> <a href=\"/hu/tematikak/sci-fi?id=83&amp;str=2\" title=\"következő\">következő</a> <span class=\"green\">|</span> <a href=\"/hu/tematikak/sci-fi?id=83&amp;str=39\" title=\"utolsó oldal\"><img alt=\"utolsó oldal\" src=\"grafika/arrow-last.gif\"/></a> <span class=\"black\">[1 - 16 <span class=\"green\">|</span> 620] </span>  </div></div><div class=\"clearer\"> </div>\n",
       "<div class=\"bookList\"><div class=\"imgSpace\"><a href=\"https://www.ekonyv.hu/hu/konyv-reszletei/virtualis-mennyorszag?eid=64715\" title=\"Virtuális mennyország\"><img alt=\"Virtuális mennyország\" src=\"kiado/data/images/ebooks/64715_normal.jpg\"/></a></div><div class=\"bookListText\"><div class=\"title\"><a class=\"titul bold\" href=\"https://www.ekonyv.hu/hu/konyv-reszletei/virtualis-mennyorszag?eid=64715\" title=\"Virtuális mennyország\">Virtuális mennyország</a><br/>Szerző: <a class=\"author\" href=\"https://www.ekonyv.hu/hu/szerzok?name=Kir%C3%A1ly+M%C3%A1rk\" title=\"Király Márk\">Király Márk</a></div><p class=\"short_desc\">Csak egy normális, klisékkel teli életre vágytál, szerelemre és hogy mindig legyen egy cukormentes Pepsi a hűtőben. Próbálod a víz felett tartani a fejed <a class=\"vice\" href=\"https://www.ekonyv.hu/hu/konyv-reszletei/virtualis-mennyorszag?eid=64715\" title=\"Virtuális mennyország\">...[több]...</a></p><form action=\"https://www.ekonyv.hu/hu/kosar\" class=\"koupitZeSeznamu\" method=\"post\"><input name=\"koupit[64715]\" type=\"submit\" value=\"\"/></form><strong class=\"price\">ekönyv: 699,- Ft</strong> </div><div class=\"clearer\"> </div>\n",
       "</div><div class=\"bookList\"><div class=\"imgSpace\"><a href=\"https://www.ekonyv.hu/hu/konyv-reszletei/ragadozo-varosok?eid=64167\" title=\"Ragadozó városok\"><img alt=\"Ragadozó városok\" src=\"kiado/data/images/ebooks/64167_normal.jpg\"/></a></div><div class=\"bookListText\"><div class=\"title\"><a class=\"titul bold\" href=\"https://www.ekonyv.hu/hu/konyv-reszletei/ragadozo-varosok?eid=64167\" title=\"Ragadozó városok\">Ragadozó városok</a><br/>Szerző: <a class=\"author\" href=\"https://www.ekonyv.hu/hu/szerzok?name=Philip+Reeve\" title=\"Philip Reeve\">Philip Reeve</a></div><p class=\"short_desc\">A távoli jövőben a kevés megmaradt erőforrásért komoly harcot vívó városok hatalmas mozgó gépezetekké alakultak. A vadászmezőkön a nagyobb városok kiseb <a class=\"vice\" href=\"https://www.ekonyv.hu/hu/konyv-reszletei/ragadozo-varosok?eid=64167\" title=\"Ragadozó városok\">...[több]...</a></p><form action=\"https://www.ekonyv.hu/hu/kosar\" class=\"koupitZeSeznamu\" method=\"post\"><input name=\"koupit[64167]\" type=\"submit\" value=\"\"/></form><strong class=\"price\">ekönyv: 2 767,- Ft</strong> </div><div class=\"clearer\"> </div>\n",
       "</div><div class=\"clearer\"> </div>\n",
       "<div class=\"evenList\"><div class=\"bookList even\"><div class=\"imgSpace\"><a href=\"https://www.ekonyv.hu/hu/konyv-reszletei/az-utolso-haboru?eid=63859\" title=\"Az utolsó háború\"><img alt=\"Az utolsó háború\" src=\"kiado/data/images/ebooks/63859_normal.jpg\"/></a></div><div class=\"bookListText\"><div class=\"title\"><a class=\"titul bold\" href=\"https://www.ekonyv.hu/hu/konyv-reszletei/az-utolso-haboru?eid=63859\" title=\"Az utolsó háború\">Az utolsó háború</a><br/>Szerző: <a class=\"author\" href=\"https://www.ekonyv.hu/hu/szerzok?name=Kir+Bulicsov\" title=\"Kir Bulicsov\">Kir Bulicsov</a></div><p class=\"short_desc\">A Szegezsa teherszállító űrhajó, Pavlis doktorral a fedélzetén, váratlanul parancsot kap arra, hogy utasokat vegyen fel, azután változtassa meg útirán <a class=\"vice\" href=\"https://www.ekonyv.hu/hu/konyv-reszletei/az-utolso-haboru?eid=63859\" title=\"Az utolsó háború\">...[több]...</a></p><form action=\"https://www.ekonyv.hu/hu/kosar\" class=\"koupitZeSeznamu\" method=\"post\"><input name=\"koupit[63859]\" type=\"submit\" value=\"\"/></form><strong class=\"price\">ekönyv: 2 690,- Ft</strong> </div><div class=\"clearer\"> </div>\n",
       "</div><div class=\"bookList even\"><div class=\"imgSpace\"><a href=\"https://www.ekonyv.hu/hu/konyv-reszletei/s-t-a-l-k-e-r--kiket-a-zona-egybekotott--?eid=63857\" title=\"S.T.A.L.K.E.R. - Kiket a Zóna egybekötött...\"><img alt=\"S.T.A.L.K.E.R. - Kiket a Zóna egybekötött...\" src=\"kiado/data/images/ebooks/63857_normal.jpg\"/></a></div><div class=\"bookListText\"><div class=\"title\"><a class=\"titul bold\" href=\"https://www.ekonyv.hu/hu/konyv-reszletei/s-t-a-l-k-e-r--kiket-a-zona-egybekotott--?eid=63857\" title=\"S.T.A.L.K.E.R. - Kiket a Zóna egybekötött...\">S.T.A.L.K.E.R. - Kiket a Zóna egybekötött...</a><br/>Szerző: <a class=\"author\" href=\"https://www.ekonyv.hu/hu/szerzok?name=Roman+Kulikov+%E2%80%93+Jezsi+Tumanovszki\" title=\"Roman Kulikov – Jezsi Tumanovszki\">Roman Kulikov – Jezsi Tumanovszki</a></div><p class=\"short_desc\">A Zóna nem kedveli a turistákat, de azokat, akiket befogadott, nem engedi el olyan egyszerűen. A Kova néven ismert stalker egyszer csak úgy határozott, vis <a class=\"vice\" href=\"https://www.ekonyv.hu/hu/konyv-reszletei/s-t-a-l-k-e-r--kiket-a-zona-egybekotott--?eid=63857\" title=\"S.T.A.L.K.E.R. - Kiket a Zóna egybekötött...\">...[több]...</a></p><form action=\"https://www.ekonyv.hu/hu/kosar\" class=\"koupitZeSeznamu\" method=\"post\"><input name=\"koupit[63857]\" type=\"submit\" value=\"\"/></form><strong class=\"price\">ekönyv: 2 790,- Ft</strong> </div><div class=\"clearer\"> </div>\n",
       "</div><div class=\"clearer\"> </div>\n",
       "</div><div class=\"bookList\"><div class=\"imgSpace\"><a href=\"https://www.ekonyv.hu/hu/konyv-reszletei/nehez-istennek-lenni?eid=63855\" title=\"Nehéz Istennek lenni\"><img alt=\"Nehéz Istennek lenni\" src=\"kiado/data/images/ebooks/63855_normal.jpg\"/></a></div><div class=\"bookListText\"><div class=\"title\"><a class=\"titul bold\" href=\"https://www.ekonyv.hu/hu/konyv-reszletei/nehez-istennek-lenni?eid=63855\" title=\"Nehéz Istennek lenni\">Nehéz Istennek lenni</a><br/>Szerző: <a class=\"author\" href=\"https://www.ekonyv.hu/hu/szerzok?name=Arkagyij+Sztrugackij+-++Borisz+Sztrugackij\" title=\"Arkagyij Sztrugackij -  Borisz Sztrugackij\">Arkagyij Sztrugackij -  Borisz Sztrugackij</a></div><p class=\"short_desc\">Egy 2134-ben fölfedezett bolygó Arkanar nevű országában, a távoli Földről érkezett progresszorok élnek a bolygólakók között. Feladatuk, hogy minden  <a class=\"vice\" href=\"https://www.ekonyv.hu/hu/konyv-reszletei/nehez-istennek-lenni?eid=63855\" title=\"Nehéz Istennek lenni\">...[több]...</a></p><form action=\"https://www.ekonyv.hu/hu/kosar\" class=\"koupitZeSeznamu\" method=\"post\"><input name=\"koupit[63855]\" type=\"submit\" value=\"\"/></form><strong class=\"price\">ekönyv: 2 490,- Ft</strong> </div><div class=\"clearer\"> </div>\n",
       "</div><div class=\"bookList\"><div class=\"imgSpace\"><a href=\"https://www.ekonyv.hu/hu/konyv-reszletei/uj-hunnia-2039--ysok-utjan?eid=63093\" title=\"Új-Hunnia 2039 - Ősök útján\"><img alt=\"Új-Hunnia 2039 - Ősök útján\" src=\"kiado/data/images/ebooks/63093_normal.jpg\"/></a></div><div class=\"bookListText\"><div class=\"title\"><a class=\"titul bold\" href=\"https://www.ekonyv.hu/hu/konyv-reszletei/uj-hunnia-2039--ysok-utjan?eid=63093\" title=\"Új-Hunnia 2039 - Ősök útján\">Új-Hunnia 2039 - Ősök útján</a><br/>Szerző: <a class=\"author\" href=\"https://www.ekonyv.hu/hu/szerzok?name=Petes++G%C3%A1bor\" title=\"Petes  Gábor\">Petes  Gábor</a></div><p class=\"short_desc\">„Nem az a kérdés, hogy lesz-e valaha is világjárvány a földön, hanem az, hogy mikor.\"(WHO)<br/> <br/>„Az ősi sámán hitvilág ütközik a technoló <a class=\"vice\" href=\"https://www.ekonyv.hu/hu/konyv-reszletei/uj-hunnia-2039--ysok-utjan?eid=63093\" title=\"Új-Hunnia 2039 - Ősök útján\">...[több]...</a></p><form action=\"https://www.ekonyv.hu/hu/kosar\" class=\"koupitZeSeznamu\" method=\"post\"><input name=\"koupit[63093]\" type=\"submit\" value=\"\"/></form><strong class=\"price\">ekönyv: 2 490,- Ft</strong> </div><div class=\"clearer\"> </div>\n",
       "</div><div class=\"clearer\"> </div>\n",
       "<div class=\"evenList\"><div class=\"bookList even\"><div class=\"imgSpace\"><a href=\"https://www.ekonyv.hu/hu/konyv-reszletei/a-perdide-arvaja?eid=63051\" title=\"A perdide árvája\"><img alt=\"A perdide árvája\" src=\"kiado/data/images/ebooks/63051_normal.jpg\"/></a></div><div class=\"bookListText\"><div class=\"title\"><a class=\"titul bold\" href=\"https://www.ekonyv.hu/hu/konyv-reszletei/a-perdide-arvaja?eid=63051\" title=\"A perdide árvája\">A perdide árvája</a><br/>Szerző: <a class=\"author\" href=\"https://www.ekonyv.hu/hu/szerzok?name=Stefan++Wul\" title=\"Stefan  Wul\">Stefan  Wul</a></div><p class=\"short_desc\">Stefan Wul lenyűgözően izgalmas sci-fi története 1958-ban jelent meg. Középpontjában egy kisfiú áll, aki szülei halála után árván marad a távoli  <a class=\"vice\" href=\"https://www.ekonyv.hu/hu/konyv-reszletei/a-perdide-arvaja?eid=63051\" title=\"A perdide árvája\">...[több]...</a></p><form action=\"https://www.ekonyv.hu/hu/kosar\" class=\"koupitZeSeznamu\" method=\"post\"><input name=\"koupit[63051]\" type=\"submit\" value=\"\"/></form><strong class=\"price\">ekönyv: 2 090,- Ft</strong> </div><div class=\"clearer\"> </div>\n",
       "</div><div class=\"bookList even\"><div class=\"imgSpace\"><a href=\"https://www.ekonyv.hu/hu/konyv-reszletei/galaktika-361?eid=63047\" title=\"Galaktika 361\"><img alt=\"Galaktika 361\" src=\"kiado/data/images/ebooks/63047_normal.jpg\"/></a></div><div class=\"bookListText\"><div class=\"title\"><a class=\"titul bold\" href=\"https://www.ekonyv.hu/hu/konyv-reszletei/galaktika-361?eid=63047\" title=\"Galaktika 361\">Galaktika 361</a><br/>Szerző: <a class=\"author\" href=\"https://www.ekonyv.hu/hu/szerzok?name=Mund++Katalin+%28f%C5%91szerk.%29\" title=\"Mund  Katalin (főszerk.)\">Mund  Katalin (főszerk.)</a></div><p class=\"short_desc\">Galaktika magazin augusztusi száma Richard Chwedyk Nebula-díjas kisregényének, „A szauruszok és a tojás\"-nak befejező részével indul. Urbánszki Lászl <a class=\"vice\" href=\"https://www.ekonyv.hu/hu/konyv-reszletei/galaktika-361?eid=63047\" title=\"Galaktika 361\">...[több]...</a></p><form action=\"https://www.ekonyv.hu/hu/kosar\" class=\"koupitZeSeznamu\" method=\"post\"><input name=\"koupit[63047]\" type=\"submit\" value=\"\"/></form><strong class=\"price\">ekönyv: 1 150,- Ft</strong> </div><div class=\"clearer\"> </div>\n",
       "</div><div class=\"clearer\"> </div>\n",
       "</div><div class=\"bookList\"><div class=\"imgSpace\"><a href=\"https://www.ekonyv.hu/hu/konyv-reszletei/galaktika-360?eid=63045\" title=\"Galaktika 360\"><img alt=\"Galaktika 360\" src=\"kiado/data/images/ebooks/63045_normal.jpg\"/></a></div><div class=\"bookListText\"><div class=\"title\"><a class=\"titul bold\" href=\"https://www.ekonyv.hu/hu/konyv-reszletei/galaktika-360?eid=63045\" title=\"Galaktika 360\">Galaktika 360</a><br/>Szerző: <a class=\"author\" href=\"https://www.ekonyv.hu/hu/szerzok?name=Mund++Katalin+%28f%C5%91szerk.%29\" title=\"Mund  Katalin (főszerk.)\">Mund  Katalin (főszerk.)</a></div><p class=\"short_desc\">Galaktika magazin augusztusi száma Richard Chwedyk Nebula-díjas kisregényének, „A szauruszok és a tojás\"-nak befejező részével indul. Urbánszki Lászl <a class=\"vice\" href=\"https://www.ekonyv.hu/hu/konyv-reszletei/galaktika-360?eid=63045\" title=\"Galaktika 360\">...[több]...</a></p><form action=\"https://www.ekonyv.hu/hu/kosar\" class=\"koupitZeSeznamu\" method=\"post\"><input name=\"koupit[63045]\" type=\"submit\" value=\"\"/></form><strong class=\"price\">ekönyv: 1 150,- Ft</strong> </div><div class=\"clearer\"> </div>\n",
       "</div><div class=\"bookList\"><div class=\"imgSpace\"><a href=\"https://www.ekonyv.hu/hu/konyv-reszletei/tania-az-ausztral-pokol?eid=63021\" title=\"Tania, az Ausztrál pokol\"><img alt=\"Tania, az Ausztrál pokol\" src=\"kiado/data/images/ebooks/63021_normal.jpg\"/></a></div><div class=\"bookListText\"><div class=\"title\"><a class=\"titul bold\" href=\"https://www.ekonyv.hu/hu/konyv-reszletei/tania-az-ausztral-pokol?eid=63021\" title=\"Tania, az Ausztrál pokol\">Tania, az Ausztrál pokol</a><br/>Szerző: <a class=\"author\" href=\"https://www.ekonyv.hu/hu/szerzok?name=C.C.+Brown\" title=\"C.C. Brown\">C.C. Brown</a></div><p class=\"short_desc\">Almási Tania az esküvőjére készülődik, miközben sógora, Robert elrabolja. Egy börtönhajón ébred, és tudatosul benne az út során, hogy nincs menekvés s <a class=\"vice\" href=\"https://www.ekonyv.hu/hu/konyv-reszletei/tania-az-ausztral-pokol?eid=63021\" title=\"Tania, az Ausztrál pokol\">...[több]...</a></p><form action=\"https://www.ekonyv.hu/hu/kosar\" class=\"koupitZeSeznamu\" method=\"post\"><input name=\"koupit[63021]\" type=\"submit\" value=\"\"/></form><strong class=\"price\">ekönyv: 2 199,- Ft</strong> </div><div class=\"clearer\"> </div>\n",
       "</div><div class=\"clearer\"> </div>\n",
       "<div class=\"evenList\"><div class=\"bookList even\"><div class=\"imgSpace\"><a href=\"https://www.ekonyv.hu/hu/konyv-reszletei/frankenstein?eid=62929\" title=\"Frankenstein\"><img alt=\"Frankenstein\" src=\"kiado/data/images/ebooks/62929_normal.jpg\"/></a></div><div class=\"bookListText\"><div class=\"title\"><a class=\"titul bold\" href=\"https://www.ekonyv.hu/hu/konyv-reszletei/frankenstein?eid=62929\" title=\"Frankenstein\">Frankenstein</a><br/>Szerző: <a class=\"author\" href=\"https://www.ekonyv.hu/hu/szerzok?name=Mary+Shelley\" title=\"Mary Shelley\">Mary Shelley</a></div><p class=\"short_desc\">Mary Shelley tizennyolc évesen, egy lidércnyomás hatására találta ki rémtörténetét egy baráti költői versenyre. A versenyt megnyerte, ezzel pedig teremtm <a class=\"vice\" href=\"https://www.ekonyv.hu/hu/konyv-reszletei/frankenstein?eid=62929\" title=\"Frankenstein\">...[több]...</a></p><form action=\"https://www.ekonyv.hu/hu/kosar\" class=\"koupitZeSeznamu\" method=\"post\"><input name=\"koupit[62929]\" type=\"submit\" value=\"\"/></form><strong class=\"price\">ekönyv: 1 799,- Ft</strong> </div><div class=\"clearer\"> </div>\n",
       "</div><div class=\"bookList even\"><div class=\"imgSpace\"><a href=\"https://www.ekonyv.hu/hu/konyv-reszletei/2061-harmadik-yrodisszeia?eid=62891\" title=\"2061. Harmadik űrodisszeia\"><img alt=\"2061. Harmadik űrodisszeia\" src=\"kiado/data/images/ebooks/62891_normal.jpg\"/></a></div><div class=\"bookListText\"><div class=\"title\"><a class=\"titul bold\" href=\"https://www.ekonyv.hu/hu/konyv-reszletei/2061-harmadik-yrodisszeia?eid=62891\" title=\"2061. Harmadik űrodisszeia\">2061. Harmadik űrodisszeia</a><br/>Szerző: <a class=\"author\" href=\"https://www.ekonyv.hu/hu/szerzok?name=Arthur+C.++Clarke\" title=\"Arthur C.  Clarke\">Arthur C.  Clarke</a></div><p class=\"short_desc\">Évtizedek teltek el a holdi Monolit és a földönkívüli szupercivilizáció felfedezése óta. Bolygóink egén azóta két nap világít, és a Jupiter egyi <a class=\"vice\" href=\"https://www.ekonyv.hu/hu/konyv-reszletei/2061-harmadik-yrodisszeia?eid=62891\" title=\"2061. Harmadik űrodisszeia\">...[több]...</a></p><form action=\"https://www.ekonyv.hu/hu/kosar\" class=\"koupitZeSeznamu\" method=\"post\"><input name=\"koupit[62891]\" type=\"submit\" value=\"\"/></form><strong class=\"price\">ekönyv: 2 790,- Ft</strong> </div><div class=\"clearer\"> </div>\n",
       "</div><div class=\"clearer\"> </div>\n",
       "</div><div class=\"bookList\"><div class=\"imgSpace\"><a href=\"https://www.ekonyv.hu/hu/konyv-reszletei/s-t-a-l-k-e-r--kihalt-mezyk?eid=62889\" title=\"S.T.A.L.K.E.R. - Kihalt mezők\"><img alt=\"S.T.A.L.K.E.R. - Kihalt mezők\" src=\"kiado/data/images/ebooks/62889_normal.jpg\"/></a></div><div class=\"bookListText\"><div class=\"title\"><a class=\"titul bold\" href=\"https://www.ekonyv.hu/hu/konyv-reszletei/s-t-a-l-k-e-r--kihalt-mezyk?eid=62889\" title=\"S.T.A.L.K.E.R. - Kihalt mezők\">S.T.A.L.K.E.R. - Kihalt mezők</a><br/>Szerző: <a class=\"author\" href=\"https://www.ekonyv.hu/hu/szerzok?name=Alekszej++Kalugin\" title=\"Alekszej  Kalugin\">Alekszej  Kalugin</a></div><p class=\"short_desc\">Jaeger, a tapasztalt stalker még csak elképzelni se tudta, hogy a csapat, akiket átvezetett a Kihalt Mezőkön, gyáván otthagyja, hogy törött lábbal, nyomo <a class=\"vice\" href=\"https://www.ekonyv.hu/hu/konyv-reszletei/s-t-a-l-k-e-r--kihalt-mezyk?eid=62889\" title=\"S.T.A.L.K.E.R. - Kihalt mezők\">...[több]...</a></p><form action=\"https://www.ekonyv.hu/hu/kosar\" class=\"koupitZeSeznamu\" method=\"post\"><input name=\"koupit[62889]\" type=\"submit\" value=\"\"/></form><strong class=\"price\">ekönyv: 2 790,- Ft</strong> </div><div class=\"clearer\"> </div>\n",
       "</div><div class=\"bookList\"><div class=\"imgSpace\"><a href=\"https://www.ekonyv.hu/hu/konyv-reszletei/pokoli-gepezetek?eid=62839\" title=\"Pokoli gépezetek\"><img alt=\"Pokoli gépezetek\" src=\"kiado/data/images/ebooks/62839_normal.jpg\"/></a></div><div class=\"bookListText\"><div class=\"title\"><a class=\"titul bold\" href=\"https://www.ekonyv.hu/hu/konyv-reszletei/pokoli-gepezetek?eid=62839\" title=\"Pokoli gépezetek\">Pokoli gépezetek</a><br/>Szerző: <a class=\"author\" href=\"https://www.ekonyv.hu/hu/szerzok?name=Philip+Reeve\" title=\"Philip Reeve\">Philip Reeve</a></div><p class=\"short_desc\">Anchorage óriási hajtóművei elhallgattak.<br/>A város nem a jeges pusztákat járja már, hanem letelepedett az egykor Amerikának nevezett területen. A csalá <a class=\"vice\" href=\"https://www.ekonyv.hu/hu/konyv-reszletei/pokoli-gepezetek?eid=62839\" title=\"Pokoli gépezetek\">...[több]...</a></p><form action=\"https://www.ekonyv.hu/hu/kosar\" class=\"koupitZeSeznamu\" method=\"post\"><input name=\"koupit[62839]\" type=\"submit\" value=\"\"/></form><strong class=\"price\">ekönyv: 2 992,- Ft</strong> </div><div class=\"clearer\"> </div>\n",
       "</div><div class=\"clearer\"> </div>\n",
       "<div class=\"evenList\"><div class=\"bookList even\"><div class=\"imgSpace\"><a href=\"https://www.ekonyv.hu/hu/konyv-reszletei/oculus?eid=62793\" title=\"Oculus\"><img alt=\"Oculus\" src=\"kiado/data/images/ebooks/62793_normal.jpg\"/></a></div><div class=\"bookListText\"><div class=\"title\"><a class=\"titul bold\" href=\"https://www.ekonyv.hu/hu/konyv-reszletei/oculus?eid=62793\" title=\"Oculus\">Oculus</a><br/>Szerző: <a class=\"author\" href=\"https://www.ekonyv.hu/hu/szerzok?name=A.+M.+Aranth\" title=\"A. M. Aranth\">A. M. Aranth</a></div><p class=\"short_desc\">Mit ​tennél, ha tudnád, hogy egy napon elveszíted a nevedet, a családodat, a barátaidat, a jogaidat és jó pénzért egy vak Idős tudós mellé adnak o <a class=\"vice\" href=\"https://www.ekonyv.hu/hu/konyv-reszletei/oculus?eid=62793\" title=\"Oculus\">...[több]...</a></p><form action=\"https://www.ekonyv.hu/hu/kosar\" class=\"koupitZeSeznamu\" method=\"post\"><input name=\"koupit[62793]\" type=\"submit\" value=\"\"/></form><strong class=\"price\">ekönyv: 2 495,- Ft</strong> </div><div class=\"clearer\"> </div>\n",
       "</div><div class=\"bookList even\"><div class=\"imgSpace\"><a href=\"https://www.ekonyv.hu/hu/konyv-reszletei/vegtelen-vetites?eid=62777\" title=\"Végtelen vetítés\"><img alt=\"Végtelen vetítés\" src=\"kiado/data/images/ebooks/62777_normal.jpg\"/></a></div><div class=\"bookListText\"><div class=\"title\"><a class=\"titul bold\" href=\"https://www.ekonyv.hu/hu/konyv-reszletei/vegtelen-vetites?eid=62777\" title=\"Végtelen vetítés\">Végtelen vetítés</a><br/>Szerző: <a class=\"author\" href=\"https://www.ekonyv.hu/hu/szerzok?name=Carlos+Chernov\" title=\"Carlos Chernov\">Carlos Chernov</a></div><p class=\"short_desc\">Kétszáz évvel a Földet átalakító nagy klímakatasztrófa után a túlélők között sokáig dúló háború erőszakos, totalitárius társadalmat hoz létre. A vil <a class=\"vice\" href=\"https://www.ekonyv.hu/hu/konyv-reszletei/vegtelen-vetites?eid=62777\" title=\"Végtelen vetítés\">...[több]...</a></p><form action=\"https://www.ekonyv.hu/hu/kosar\" class=\"koupitZeSeznamu\" method=\"post\"><input name=\"koupit[62777]\" type=\"submit\" value=\"\"/></form><strong class=\"price\">ekönyv: 2 490,- Ft</strong> </div><div class=\"clearer\"> </div>\n",
       "</div><div class=\"clearer\"> </div>\n",
       "</div><div class=\"clearer\"> </div>\n",
       "<br/>\n",
       "<div class=\"strankovaciBox\"><div class=\"strankovani\"><a class=\"pagenumber active\" href=\"/hu/tematikak/sci-fi?id=83&amp;str=1\" title=\"1. oldal\">1</a> <a class=\"pagenumber\" href=\"/hu/tematikak/sci-fi?id=83&amp;str=2\" title=\"2. oldal\">2</a> <a class=\"pagenumber\" href=\"/hu/tematikak/sci-fi?id=83&amp;str=3\" title=\"3. oldal\">3</a> <a class=\"pagenumber\" href=\"/hu/tematikak/sci-fi?id=83&amp;str=4\" title=\"4. oldal\">4</a> <a class=\"pagenumber\" href=\"/hu/tematikak/sci-fi?id=83&amp;str=5\" title=\"5. oldal\">5</a> <a href=\"/hu/tematikak/sci-fi?id=83&amp;str=2\" title=\"következő\">következő</a> <span class=\"green\">|</span> <a href=\"/hu/tematikak/sci-fi?id=83&amp;str=39\" title=\"utolsó oldal\"><img alt=\"utolsó oldal\" src=\"grafika/arrow-last.gif\"/></a> <span class=\"black\">[1 - 16 <span class=\"green\">|</span> 620] </span>  </div></div></div></div><div class=\"centerBoxBottom\"></div></div> </div>\n",
       "</div><div id=\"thirdCol\">\n",
       "<div class=\"box cleanbox\"><div class=\"boxTopEmpty cleanboxTopEmpty\"></div><div class=\"boxContent cleanboxContent\"><div class=\"mostSales\">\n",
       "<div class=\"imgSpace\">\n",
       "<a href=\"https://www.ekonyv.hu/hu/konyv-reszletei/a-lanynevelde-2--riva-nyverek-sorozat?eid=64257\" title=\"A lánynevelde 2. - Riva nővérek-sorozat\"><img alt=\"A lánynevelde 2. - Riva nővérek-sorozat\" src=\"kiado/data/images/ebooks/64257_small.jpg\"/></a>\n",
       "</div>\n",
       "<div class=\"textSpace\">\n",
       "<a class=\"titul\" href=\"https://www.ekonyv.hu/hu/konyv-reszletei/a-lanynevelde-2--riva-nyverek-sorozat?eid=64257\" title=\"A lánynevelde 2. - Riva nővérek-sorozat\">A lánynevelde 2. - Riva nővérek-sorozat</a><br/>\n",
       "<a class=\"author\" href=\"https://www.ekonyv.hu/hu/szerzok?name=R.+Kel%C3%A9nyi++Angelika\" title=\"R. Kelényi  Angelika\">R. Kelényi  Angelika</a><br/>\n",
       "<div class=\"price\">ekönyv: 2 999,- Ft</div>\n",
       "</div>\n",
       "<div class=\"clearer\"> </div>\n",
       "</div><div class=\"mostSales\">\n",
       "<div class=\"imgSpace\">\n",
       "<a href=\"https://www.ekonyv.hu/hu/konyv-reszletei/ordogi-joslatok--egy-tudos-elyrejelzesei-es-intelmei-az-emberiseghez?eid=62907\" title=\"Ördögi jóslatok - Egy tudós előrejelzései és intelmei az emberiséghez\"><img alt=\"Ördögi jóslatok - Egy tudós előrejelzései és intelmei az emberiséghez\" src=\"kiado/data/images/ebooks/62907_small.jpg\"/></a>\n",
       "</div>\n",
       "<div class=\"textSpace\">\n",
       "<a class=\"titul\" href=\"https://www.ekonyv.hu/hu/konyv-reszletei/ordogi-joslatok--egy-tudos-elyrejelzesei-es-intelmei-az-emberiseghez?eid=62907\" title=\"Ördögi jóslatok - Egy tudós előrejelzései és intelmei az emberiséghez\">Ördögi jóslatok - Egy tudós előrejelzései és intelmei az emberiséghez</a><br/>\n",
       "<a class=\"author\" href=\"https://www.ekonyv.hu/hu/szerzok?name=Jord%C3%A1n++Ferenc\" title=\"Jordán  Ferenc\">Jordán  Ferenc</a><br/>\n",
       "<div class=\"price\">ekönyv: 990,- Ft</div>\n",
       "</div>\n",
       "<div class=\"clearer\"> </div>\n",
       "</div><div class=\"mostSales\">\n",
       "<div class=\"imgSpace\">\n",
       "<a href=\"https://www.ekonyv.hu/hu/konyv-reszletei/jade-varos?eid=63915\" title=\"Jáde város\"><img alt=\"Jáde város\" src=\"kiado/data/images/ebooks/63915_small.jpg\"/></a>\n",
       "</div>\n",
       "<div class=\"textSpace\">\n",
       "<a class=\"titul\" href=\"https://www.ekonyv.hu/hu/konyv-reszletei/jade-varos?eid=63915\" title=\"Jáde város\">Jáde város</a><br/>\n",
       "<a class=\"author\" href=\"https://www.ekonyv.hu/hu/szerzok?name=Fonda++Lee\" title=\"Fonda  Lee\">Fonda  Lee</a><br/>\n",
       "<div class=\"price\">ekönyv: 2 474,- Ft</div>\n",
       "</div>\n",
       "<div class=\"clearer\"> </div>\n",
       "</div><div class=\"mostSales\">\n",
       "<div class=\"imgSpace\">\n",
       "<a href=\"https://www.ekonyv.hu/hu/konyv-reszletei/a-lelek-testeryl?eid=63941\" title=\"A lélek testéről\"><img alt=\"A lélek testéről\" src=\"kiado/data/images/ebooks/63941_small.jpg\"/></a>\n",
       "</div>\n",
       "<div class=\"textSpace\">\n",
       "<a class=\"titul\" href=\"https://www.ekonyv.hu/hu/konyv-reszletei/a-lelek-testeryl?eid=63941\" title=\"A lélek testéről\">A lélek testéről</a><br/>\n",
       "<a class=\"author\" href=\"https://www.ekonyv.hu/hu/szerzok?name=Ljudmila+Ulickaja\" title=\"Ljudmila Ulickaja\">Ljudmila Ulickaja</a><br/>\n",
       "<div class=\"price\">ekönyv: 1 999,- Ft</div>\n",
       "</div>\n",
       "<div class=\"clearer\"> </div>\n",
       "</div><div class=\"mostSales\">\n",
       "<div class=\"imgSpace\">\n",
       "<a href=\"https://www.ekonyv.hu/hu/konyv-reszletei/lazar-evangeliuma--apokrif-tortenelmi-remlatomas?eid=63101\" title=\"Lázár evangéliuma - Apokrif történelmi rémlátomás\"><img alt=\"Lázár evangéliuma - Apokrif történelmi rémlátomás\" src=\"kiado/data/images/ebooks/63101_small.jpg\"/></a>\n",
       "</div>\n",
       "<div class=\"textSpace\">\n",
       "<a class=\"titul\" href=\"https://www.ekonyv.hu/hu/konyv-reszletei/lazar-evangeliuma--apokrif-tortenelmi-remlatomas?eid=63101\" title=\"Lázár evangéliuma - Apokrif történelmi rémlátomás\">Lázár evangéliuma - Apokrif történelmi rémlátomás</a><br/>\n",
       "<a class=\"author\" href=\"https://www.ekonyv.hu/hu/szerzok?name=B%C3%ADr%C3%B3+Szabolcs\" title=\"Bíró Szabolcs\">Bíró Szabolcs</a><br/>\n",
       "<div class=\"price\">ekönyv: 2 799,- Ft</div>\n",
       "</div>\n",
       "<div class=\"clearer\"> </div>\n",
       "</div><div class=\"mostSales\">\n",
       "<div class=\"imgSpace\">\n",
       "<a href=\"https://www.ekonyv.hu/hu/konyv-reszletei/unortodox--a-masik-ut?eid=64243\" title=\"Unortodox - A másik út\"><img alt=\"Unortodox - A másik út\" src=\"kiado/data/images/ebooks/64243_small.jpg\"/></a>\n",
       "</div>\n",
       "<div class=\"textSpace\">\n",
       "<a class=\"titul\" href=\"https://www.ekonyv.hu/hu/konyv-reszletei/unortodox--a-masik-ut?eid=64243\" title=\"Unortodox - A másik út\">Unortodox - A másik út</a><br/>\n",
       "<a class=\"author\" href=\"https://www.ekonyv.hu/hu/szerzok?name=Deborah++Feldman\" title=\"Deborah  Feldman\">Deborah  Feldman</a><br/>\n",
       "<div class=\"price\">ekönyv: 2 599,- Ft</div>\n",
       "</div>\n",
       "<div class=\"clearer\"> </div>\n",
       "</div><div class=\"mostSales\">\n",
       "<div class=\"imgSpace\">\n",
       "<a href=\"https://www.ekonyv.hu/hu/konyv-reszletei/szex--a-psziche-labirintusaban?eid=64123\" title=\"Szex - A psziché labirintusában\"><img alt=\"Szex - A psziché labirintusában\" src=\"kiado/data/images/ebooks/64123_small.jpg\"/></a>\n",
       "</div>\n",
       "<div class=\"textSpace\">\n",
       "<a class=\"titul\" href=\"https://www.ekonyv.hu/hu/konyv-reszletei/szex--a-psziche-labirintusaban?eid=64123\" title=\"Szex - A psziché labirintusában\">Szex - A psziché labirintusában</a><br/>\n",
       "<a class=\"author\" href=\"https://www.ekonyv.hu/hu/szerzok?name=Hevesi+Krisztina\" title=\"Hevesi Krisztina\">Hevesi Krisztina</a><br/>\n",
       "<div class=\"price\">ekönyv: 2 210,- Ft</div>\n",
       "</div>\n",
       "<div class=\"clearer\"> </div>\n",
       "</div><div class=\"mostSales last\">\n",
       "<div class=\"imgSpace\">\n",
       "<a href=\"https://www.ekonyv.hu/hu/konyv-reszletei/horthy-miklos--a-kormanyzo-es-felelyssege-1920-1945?eid=63865\" title=\"Horthy Miklós - A kormányzó és felelőssége 1920-1945\"><img alt=\"Horthy Miklós - A kormányzó és felelőssége 1920-1945\" src=\"kiado/data/images/ebooks/63865_small.jpg\"/></a>\n",
       "</div>\n",
       "<div class=\"textSpace\">\n",
       "<a class=\"titul\" href=\"https://www.ekonyv.hu/hu/konyv-reszletei/horthy-miklos--a-kormanyzo-es-felelyssege-1920-1945?eid=63865\" title=\"Horthy Miklós - A kormányzó és felelőssége 1920-1945\">Horthy Miklós - A kormányzó és felelőssége 1920-1945</a><br/>\n",
       "<a class=\"author\" href=\"https://www.ekonyv.hu/hu/szerzok?name=Ungv%C3%A1ry+Kriszti%C3%A1n\" title=\"Ungváry Krisztián\">Ungváry Krisztián</a><br/>\n",
       "<div class=\"price\">ekönyv: 1 992,- Ft</div>\n",
       "</div>\n",
       "<div class=\"clearer\"> </div>\n",
       "</div><div class=\"clearer\"> </div>\n",
       "</div><div class=\"boxBottom cleanboxBottom\"></div></div> </div>\n",
       "<div class=\"clearer\"> </div>\n",
       "<div id=\"wholeCol\">\n",
       "<div id=\"footer\">\n",
       "<strong><a href=\"https://www.ekonyv.hu/hu/magunkrol\" title=\"Magunkról\">Magunkról</a></strong> | <strong><a href=\"https://www.ekonyv.hu/hu/uzletszabalyzat\" title=\"Üzletszabályzat\">Üzletszabályzat</a></strong> | <strong><a href=\"https://www.ekonyv.hu/hu/sajtokozlemenyek\" title=\"Sajtóközlemények\">Sajtóközlemények</a></strong> | <strong><a href=\"https://www.ekonyv.hu/hu/adatvedelmi-szabalyzat\" title=\"Adatvédelmi szabályzat\">Adatvédelmi szabályzat</a></strong> | <strong><a href=\"https://www.ekonyv.hu/hu/ajandekutalvany\" title=\"Ajándékutalvány\">Ajándékutalvány</a></strong> </div>\n",
       "<div id=\"footerCopyright\">\n",
       "<strong>© 2012 <a href=\"http://www.ereading.cz\" target=\"_blank\" title=\"eReading\">eReading.cz</a></strong> | developed by <a href=\"http://www.gng.cz\" target=\"_blank\" title=\"Graffitti Networks Grafix\">Graffitti Networks Grafix</a>\n",
       "</div>\n",
       "</div>\n",
       "</div> <!-- contentLayout -->\n",
       "</div>"
      ]
     },
     "execution_count": 10,
     "metadata": {},
     "output_type": "execute_result"
    }
   ],
   "source": [
    "pagesoup.find(\"div\")"
   ]
  },
  {
   "cell_type": "markdown",
   "metadata": {},
   "source": [
    " "
   ]
  },
  {
   "cell_type": "markdown",
   "metadata": {},
   "source": [
    " "
   ]
  },
  {
   "cell_type": "markdown",
   "metadata": {},
   "source": [
    "# 304 .findAll()"
   ]
  },
  {
   "cell_type": "markdown",
   "metadata": {},
   "source": [
    "Ugyanabban a formátumban működik ennek a funkciónak is a bemeneti értéke, ugyanúgy elnavigál ha csak tag van megadva. A különbség annyi hogy az összes matchelő találatot nem egy értékben fogja kezelni hanem az összes találatot egyenként berakja egy lista elembe. Ez azt jelenti hogy ha egy változóba letárolunk egy .findAll() értékét, akkor a találatokat egy úgynevezett lista indexel tudjuk előhívni, nézzünk is erre egy példát (*az előző részben lévő konyvlista változóval fogunk dolgozni, nem az egész oldallal, persze ez csak most a példa kedvéért, nem a findAll() megkötése*):"
   ]
  },
  {
   "cell_type": "code",
   "execution_count": 14,
   "metadata": {},
   "outputs": [
    {
     "data": {
      "text/plain": [
       "[<div class=\"bookListText\"><div class=\"title\"><a class=\"titul bold\" href=\"https://www.ekonyv.hu/hu/konyv-reszletei/virtualis-mennyorszag?eid=64715\" title=\"Virtuális mennyország\">Virtuális mennyország</a><br/>Szerző: <a class=\"author\" href=\"https://www.ekonyv.hu/hu/szerzok?name=Kir%C3%A1ly+M%C3%A1rk\" title=\"Király Márk\">Király Márk</a></div><p class=\"short_desc\">Csak egy normális, klisékkel teli életre vágytál, szerelemre és hogy mindig legyen egy cukormentes Pepsi a hűtőben. Próbálod a víz felett tartani a fejed <a class=\"vice\" href=\"https://www.ekonyv.hu/hu/konyv-reszletei/virtualis-mennyorszag?eid=64715\" title=\"Virtuális mennyország\">...[több]...</a></p><form action=\"https://www.ekonyv.hu/hu/kosar\" class=\"koupitZeSeznamu\" method=\"post\"><input name=\"koupit[64715]\" type=\"submit\" value=\"\"/></form><strong class=\"price\">ekönyv: 699,- Ft</strong> </div>,\n",
       " <div class=\"bookListText\"><div class=\"title\"><a class=\"titul bold\" href=\"https://www.ekonyv.hu/hu/konyv-reszletei/ragadozo-varosok?eid=64167\" title=\"Ragadozó városok\">Ragadozó városok</a><br/>Szerző: <a class=\"author\" href=\"https://www.ekonyv.hu/hu/szerzok?name=Philip+Reeve\" title=\"Philip Reeve\">Philip Reeve</a></div><p class=\"short_desc\">A távoli jövőben a kevés megmaradt erőforrásért komoly harcot vívó városok hatalmas mozgó gépezetekké alakultak. A vadászmezőkön a nagyobb városok kiseb <a class=\"vice\" href=\"https://www.ekonyv.hu/hu/konyv-reszletei/ragadozo-varosok?eid=64167\" title=\"Ragadozó városok\">...[több]...</a></p><form action=\"https://www.ekonyv.hu/hu/kosar\" class=\"koupitZeSeznamu\" method=\"post\"><input name=\"koupit[64167]\" type=\"submit\" value=\"\"/></form><strong class=\"price\">ekönyv: 2 767,- Ft</strong> </div>,\n",
       " <div class=\"bookListText\"><div class=\"title\"><a class=\"titul bold\" href=\"https://www.ekonyv.hu/hu/konyv-reszletei/az-utolso-haboru?eid=63859\" title=\"Az utolsó háború\">Az utolsó háború</a><br/>Szerző: <a class=\"author\" href=\"https://www.ekonyv.hu/hu/szerzok?name=Kir+Bulicsov\" title=\"Kir Bulicsov\">Kir Bulicsov</a></div><p class=\"short_desc\">A Szegezsa teherszállító űrhajó, Pavlis doktorral a fedélzetén, váratlanul parancsot kap arra, hogy utasokat vegyen fel, azután változtassa meg útirán <a class=\"vice\" href=\"https://www.ekonyv.hu/hu/konyv-reszletei/az-utolso-haboru?eid=63859\" title=\"Az utolsó háború\">...[több]...</a></p><form action=\"https://www.ekonyv.hu/hu/kosar\" class=\"koupitZeSeznamu\" method=\"post\"><input name=\"koupit[63859]\" type=\"submit\" value=\"\"/></form><strong class=\"price\">ekönyv: 2 690,- Ft</strong> </div>,\n",
       " <div class=\"bookListText\"><div class=\"title\"><a class=\"titul bold\" href=\"https://www.ekonyv.hu/hu/konyv-reszletei/s-t-a-l-k-e-r--kiket-a-zona-egybekotott--?eid=63857\" title=\"S.T.A.L.K.E.R. - Kiket a Zóna egybekötött...\">S.T.A.L.K.E.R. - Kiket a Zóna egybekötött...</a><br/>Szerző: <a class=\"author\" href=\"https://www.ekonyv.hu/hu/szerzok?name=Roman+Kulikov+%E2%80%93+Jezsi+Tumanovszki\" title=\"Roman Kulikov – Jezsi Tumanovszki\">Roman Kulikov – Jezsi Tumanovszki</a></div><p class=\"short_desc\">A Zóna nem kedveli a turistákat, de azokat, akiket befogadott, nem engedi el olyan egyszerűen. A Kova néven ismert stalker egyszer csak úgy határozott, vis <a class=\"vice\" href=\"https://www.ekonyv.hu/hu/konyv-reszletei/s-t-a-l-k-e-r--kiket-a-zona-egybekotott--?eid=63857\" title=\"S.T.A.L.K.E.R. - Kiket a Zóna egybekötött...\">...[több]...</a></p><form action=\"https://www.ekonyv.hu/hu/kosar\" class=\"koupitZeSeznamu\" method=\"post\"><input name=\"koupit[63857]\" type=\"submit\" value=\"\"/></form><strong class=\"price\">ekönyv: 2 790,- Ft</strong> </div>,\n",
       " <div class=\"bookListText\"><div class=\"title\"><a class=\"titul bold\" href=\"https://www.ekonyv.hu/hu/konyv-reszletei/nehez-istennek-lenni?eid=63855\" title=\"Nehéz Istennek lenni\">Nehéz Istennek lenni</a><br/>Szerző: <a class=\"author\" href=\"https://www.ekonyv.hu/hu/szerzok?name=Arkagyij+Sztrugackij+-++Borisz+Sztrugackij\" title=\"Arkagyij Sztrugackij -  Borisz Sztrugackij\">Arkagyij Sztrugackij -  Borisz Sztrugackij</a></div><p class=\"short_desc\">Egy 2134-ben fölfedezett bolygó Arkanar nevű országában, a távoli Földről érkezett progresszorok élnek a bolygólakók között. Feladatuk, hogy minden  <a class=\"vice\" href=\"https://www.ekonyv.hu/hu/konyv-reszletei/nehez-istennek-lenni?eid=63855\" title=\"Nehéz Istennek lenni\">...[több]...</a></p><form action=\"https://www.ekonyv.hu/hu/kosar\" class=\"koupitZeSeznamu\" method=\"post\"><input name=\"koupit[63855]\" type=\"submit\" value=\"\"/></form><strong class=\"price\">ekönyv: 2 490,- Ft</strong> </div>,\n",
       " <div class=\"bookListText\"><div class=\"title\"><a class=\"titul bold\" href=\"https://www.ekonyv.hu/hu/konyv-reszletei/uj-hunnia-2039--ysok-utjan?eid=63093\" title=\"Új-Hunnia 2039 - Ősök útján\">Új-Hunnia 2039 - Ősök útján</a><br/>Szerző: <a class=\"author\" href=\"https://www.ekonyv.hu/hu/szerzok?name=Petes++G%C3%A1bor\" title=\"Petes  Gábor\">Petes  Gábor</a></div><p class=\"short_desc\">„Nem az a kérdés, hogy lesz-e valaha is világjárvány a földön, hanem az, hogy mikor.\"(WHO)<br/> <br/>„Az ősi sámán hitvilág ütközik a technoló <a class=\"vice\" href=\"https://www.ekonyv.hu/hu/konyv-reszletei/uj-hunnia-2039--ysok-utjan?eid=63093\" title=\"Új-Hunnia 2039 - Ősök útján\">...[több]...</a></p><form action=\"https://www.ekonyv.hu/hu/kosar\" class=\"koupitZeSeznamu\" method=\"post\"><input name=\"koupit[63093]\" type=\"submit\" value=\"\"/></form><strong class=\"price\">ekönyv: 2 490,- Ft</strong> </div>,\n",
       " <div class=\"bookListText\"><div class=\"title\"><a class=\"titul bold\" href=\"https://www.ekonyv.hu/hu/konyv-reszletei/a-perdide-arvaja?eid=63051\" title=\"A perdide árvája\">A perdide árvája</a><br/>Szerző: <a class=\"author\" href=\"https://www.ekonyv.hu/hu/szerzok?name=Stefan++Wul\" title=\"Stefan  Wul\">Stefan  Wul</a></div><p class=\"short_desc\">Stefan Wul lenyűgözően izgalmas sci-fi története 1958-ban jelent meg. Középpontjában egy kisfiú áll, aki szülei halála után árván marad a távoli  <a class=\"vice\" href=\"https://www.ekonyv.hu/hu/konyv-reszletei/a-perdide-arvaja?eid=63051\" title=\"A perdide árvája\">...[több]...</a></p><form action=\"https://www.ekonyv.hu/hu/kosar\" class=\"koupitZeSeznamu\" method=\"post\"><input name=\"koupit[63051]\" type=\"submit\" value=\"\"/></form><strong class=\"price\">ekönyv: 2 090,- Ft</strong> </div>,\n",
       " <div class=\"bookListText\"><div class=\"title\"><a class=\"titul bold\" href=\"https://www.ekonyv.hu/hu/konyv-reszletei/galaktika-361?eid=63047\" title=\"Galaktika 361\">Galaktika 361</a><br/>Szerző: <a class=\"author\" href=\"https://www.ekonyv.hu/hu/szerzok?name=Mund++Katalin+%28f%C5%91szerk.%29\" title=\"Mund  Katalin (főszerk.)\">Mund  Katalin (főszerk.)</a></div><p class=\"short_desc\">Galaktika magazin augusztusi száma Richard Chwedyk Nebula-díjas kisregényének, „A szauruszok és a tojás\"-nak befejező részével indul. Urbánszki Lászl <a class=\"vice\" href=\"https://www.ekonyv.hu/hu/konyv-reszletei/galaktika-361?eid=63047\" title=\"Galaktika 361\">...[több]...</a></p><form action=\"https://www.ekonyv.hu/hu/kosar\" class=\"koupitZeSeznamu\" method=\"post\"><input name=\"koupit[63047]\" type=\"submit\" value=\"\"/></form><strong class=\"price\">ekönyv: 1 150,- Ft</strong> </div>,\n",
       " <div class=\"bookListText\"><div class=\"title\"><a class=\"titul bold\" href=\"https://www.ekonyv.hu/hu/konyv-reszletei/galaktika-360?eid=63045\" title=\"Galaktika 360\">Galaktika 360</a><br/>Szerző: <a class=\"author\" href=\"https://www.ekonyv.hu/hu/szerzok?name=Mund++Katalin+%28f%C5%91szerk.%29\" title=\"Mund  Katalin (főszerk.)\">Mund  Katalin (főszerk.)</a></div><p class=\"short_desc\">Galaktika magazin augusztusi száma Richard Chwedyk Nebula-díjas kisregényének, „A szauruszok és a tojás\"-nak befejező részével indul. Urbánszki Lászl <a class=\"vice\" href=\"https://www.ekonyv.hu/hu/konyv-reszletei/galaktika-360?eid=63045\" title=\"Galaktika 360\">...[több]...</a></p><form action=\"https://www.ekonyv.hu/hu/kosar\" class=\"koupitZeSeznamu\" method=\"post\"><input name=\"koupit[63045]\" type=\"submit\" value=\"\"/></form><strong class=\"price\">ekönyv: 1 150,- Ft</strong> </div>,\n",
       " <div class=\"bookListText\"><div class=\"title\"><a class=\"titul bold\" href=\"https://www.ekonyv.hu/hu/konyv-reszletei/tania-az-ausztral-pokol?eid=63021\" title=\"Tania, az Ausztrál pokol\">Tania, az Ausztrál pokol</a><br/>Szerző: <a class=\"author\" href=\"https://www.ekonyv.hu/hu/szerzok?name=C.C.+Brown\" title=\"C.C. Brown\">C.C. Brown</a></div><p class=\"short_desc\">Almási Tania az esküvőjére készülődik, miközben sógora, Robert elrabolja. Egy börtönhajón ébred, és tudatosul benne az út során, hogy nincs menekvés s <a class=\"vice\" href=\"https://www.ekonyv.hu/hu/konyv-reszletei/tania-az-ausztral-pokol?eid=63021\" title=\"Tania, az Ausztrál pokol\">...[több]...</a></p><form action=\"https://www.ekonyv.hu/hu/kosar\" class=\"koupitZeSeznamu\" method=\"post\"><input name=\"koupit[63021]\" type=\"submit\" value=\"\"/></form><strong class=\"price\">ekönyv: 2 199,- Ft</strong> </div>,\n",
       " <div class=\"bookListText\"><div class=\"title\"><a class=\"titul bold\" href=\"https://www.ekonyv.hu/hu/konyv-reszletei/frankenstein?eid=62929\" title=\"Frankenstein\">Frankenstein</a><br/>Szerző: <a class=\"author\" href=\"https://www.ekonyv.hu/hu/szerzok?name=Mary+Shelley\" title=\"Mary Shelley\">Mary Shelley</a></div><p class=\"short_desc\">Mary Shelley tizennyolc évesen, egy lidércnyomás hatására találta ki rémtörténetét egy baráti költői versenyre. A versenyt megnyerte, ezzel pedig teremtm <a class=\"vice\" href=\"https://www.ekonyv.hu/hu/konyv-reszletei/frankenstein?eid=62929\" title=\"Frankenstein\">...[több]...</a></p><form action=\"https://www.ekonyv.hu/hu/kosar\" class=\"koupitZeSeznamu\" method=\"post\"><input name=\"koupit[62929]\" type=\"submit\" value=\"\"/></form><strong class=\"price\">ekönyv: 1 799,- Ft</strong> </div>,\n",
       " <div class=\"bookListText\"><div class=\"title\"><a class=\"titul bold\" href=\"https://www.ekonyv.hu/hu/konyv-reszletei/2061-harmadik-yrodisszeia?eid=62891\" title=\"2061. Harmadik űrodisszeia\">2061. Harmadik űrodisszeia</a><br/>Szerző: <a class=\"author\" href=\"https://www.ekonyv.hu/hu/szerzok?name=Arthur+C.++Clarke\" title=\"Arthur C.  Clarke\">Arthur C.  Clarke</a></div><p class=\"short_desc\">Évtizedek teltek el a holdi Monolit és a földönkívüli szupercivilizáció felfedezése óta. Bolygóink egén azóta két nap világít, és a Jupiter egyi <a class=\"vice\" href=\"https://www.ekonyv.hu/hu/konyv-reszletei/2061-harmadik-yrodisszeia?eid=62891\" title=\"2061. Harmadik űrodisszeia\">...[több]...</a></p><form action=\"https://www.ekonyv.hu/hu/kosar\" class=\"koupitZeSeznamu\" method=\"post\"><input name=\"koupit[62891]\" type=\"submit\" value=\"\"/></form><strong class=\"price\">ekönyv: 2 790,- Ft</strong> </div>,\n",
       " <div class=\"bookListText\"><div class=\"title\"><a class=\"titul bold\" href=\"https://www.ekonyv.hu/hu/konyv-reszletei/s-t-a-l-k-e-r--kihalt-mezyk?eid=62889\" title=\"S.T.A.L.K.E.R. - Kihalt mezők\">S.T.A.L.K.E.R. - Kihalt mezők</a><br/>Szerző: <a class=\"author\" href=\"https://www.ekonyv.hu/hu/szerzok?name=Alekszej++Kalugin\" title=\"Alekszej  Kalugin\">Alekszej  Kalugin</a></div><p class=\"short_desc\">Jaeger, a tapasztalt stalker még csak elképzelni se tudta, hogy a csapat, akiket átvezetett a Kihalt Mezőkön, gyáván otthagyja, hogy törött lábbal, nyomo <a class=\"vice\" href=\"https://www.ekonyv.hu/hu/konyv-reszletei/s-t-a-l-k-e-r--kihalt-mezyk?eid=62889\" title=\"S.T.A.L.K.E.R. - Kihalt mezők\">...[több]...</a></p><form action=\"https://www.ekonyv.hu/hu/kosar\" class=\"koupitZeSeznamu\" method=\"post\"><input name=\"koupit[62889]\" type=\"submit\" value=\"\"/></form><strong class=\"price\">ekönyv: 2 790,- Ft</strong> </div>,\n",
       " <div class=\"bookListText\"><div class=\"title\"><a class=\"titul bold\" href=\"https://www.ekonyv.hu/hu/konyv-reszletei/pokoli-gepezetek?eid=62839\" title=\"Pokoli gépezetek\">Pokoli gépezetek</a><br/>Szerző: <a class=\"author\" href=\"https://www.ekonyv.hu/hu/szerzok?name=Philip+Reeve\" title=\"Philip Reeve\">Philip Reeve</a></div><p class=\"short_desc\">Anchorage óriási hajtóművei elhallgattak.<br/>A város nem a jeges pusztákat járja már, hanem letelepedett az egykor Amerikának nevezett területen. A csalá <a class=\"vice\" href=\"https://www.ekonyv.hu/hu/konyv-reszletei/pokoli-gepezetek?eid=62839\" title=\"Pokoli gépezetek\">...[több]...</a></p><form action=\"https://www.ekonyv.hu/hu/kosar\" class=\"koupitZeSeznamu\" method=\"post\"><input name=\"koupit[62839]\" type=\"submit\" value=\"\"/></form><strong class=\"price\">ekönyv: 2 992,- Ft</strong> </div>,\n",
       " <div class=\"bookListText\"><div class=\"title\"><a class=\"titul bold\" href=\"https://www.ekonyv.hu/hu/konyv-reszletei/oculus?eid=62793\" title=\"Oculus\">Oculus</a><br/>Szerző: <a class=\"author\" href=\"https://www.ekonyv.hu/hu/szerzok?name=A.+M.+Aranth\" title=\"A. M. Aranth\">A. M. Aranth</a></div><p class=\"short_desc\">Mit ​tennél, ha tudnád, hogy egy napon elveszíted a nevedet, a családodat, a barátaidat, a jogaidat és jó pénzért egy vak Idős tudós mellé adnak o <a class=\"vice\" href=\"https://www.ekonyv.hu/hu/konyv-reszletei/oculus?eid=62793\" title=\"Oculus\">...[több]...</a></p><form action=\"https://www.ekonyv.hu/hu/kosar\" class=\"koupitZeSeznamu\" method=\"post\"><input name=\"koupit[62793]\" type=\"submit\" value=\"\"/></form><strong class=\"price\">ekönyv: 2 495,- Ft</strong> </div>,\n",
       " <div class=\"bookListText\"><div class=\"title\"><a class=\"titul bold\" href=\"https://www.ekonyv.hu/hu/konyv-reszletei/vegtelen-vetites?eid=62777\" title=\"Végtelen vetítés\">Végtelen vetítés</a><br/>Szerző: <a class=\"author\" href=\"https://www.ekonyv.hu/hu/szerzok?name=Carlos+Chernov\" title=\"Carlos Chernov\">Carlos Chernov</a></div><p class=\"short_desc\">Kétszáz évvel a Földet átalakító nagy klímakatasztrófa után a túlélők között sokáig dúló háború erőszakos, totalitárius társadalmat hoz létre. A vil <a class=\"vice\" href=\"https://www.ekonyv.hu/hu/konyv-reszletei/vegtelen-vetites?eid=62777\" title=\"Végtelen vetítés\">...[több]...</a></p><form action=\"https://www.ekonyv.hu/hu/kosar\" class=\"koupitZeSeznamu\" method=\"post\"><input name=\"koupit[62777]\" type=\"submit\" value=\"\"/></form><strong class=\"price\">ekönyv: 2 490,- Ft</strong> </div>]"
      ]
     },
     "execution_count": 14,
     "metadata": {},
     "output_type": "execute_result"
    }
   ],
   "source": [
    "mindenkonyv = konyvlista.findAll(\"div\",{\"class\":\"bookListText\"})\n",
    "mindenkonyv"
   ]
  },
  {
   "cell_type": "markdown",
   "metadata": {},
   "source": [
    "Onnan is láthatjuk, hogy listával van dolgunk hogy a fenti változó értéke [ és ] jelek között van, a listák pedig vesszővel vannak elválasztva. Pythonban minden lista így néz ki, például: [1,2,3,4]"
   ]
  },
  {
   "cell_type": "markdown",
   "metadata": {},
   "source": [
    "Pythonban a listáknak az indexelése 0-tól kezdődik, tehát ha egy listának az elemeit akarjuk megnézni, akkor az első elemre a nullás indexel tuddunk hivatkozni, az utolsóra pedig a lista hossza -1 értékkel. Tehát ha a len() függvénnyel megnézzük hogy a mostani mindenkony listank milyne hosszú:"
   ]
  },
  {
   "cell_type": "code",
   "execution_count": 15,
   "metadata": {},
   "outputs": [
    {
     "data": {
      "text/plain": [
       "16"
      ]
     },
     "execution_count": 15,
     "metadata": {},
     "output_type": "execute_result"
    }
   ],
   "source": [
    "len(mindenkonyv)"
   ]
  },
  {
   "cell_type": "markdown",
   "metadata": {},
   "source": [
    "Akkor megkapjuk, hogy 16 eleme van ennek a listának, az elsőre így tudunk hivatkozni:"
   ]
  },
  {
   "cell_type": "code",
   "execution_count": 16,
   "metadata": {},
   "outputs": [
    {
     "data": {
      "text/plain": [
       "<div class=\"bookListText\"><div class=\"title\"><a class=\"titul bold\" href=\"https://www.ekonyv.hu/hu/konyv-reszletei/virtualis-mennyorszag?eid=64715\" title=\"Virtuális mennyország\">Virtuális mennyország</a><br/>Szerző: <a class=\"author\" href=\"https://www.ekonyv.hu/hu/szerzok?name=Kir%C3%A1ly+M%C3%A1rk\" title=\"Király Márk\">Király Márk</a></div><p class=\"short_desc\">Csak egy normális, klisékkel teli életre vágytál, szerelemre és hogy mindig legyen egy cukormentes Pepsi a hűtőben. Próbálod a víz felett tartani a fejed <a class=\"vice\" href=\"https://www.ekonyv.hu/hu/konyv-reszletei/virtualis-mennyorszag?eid=64715\" title=\"Virtuális mennyország\">...[több]...</a></p><form action=\"https://www.ekonyv.hu/hu/kosar\" class=\"koupitZeSeznamu\" method=\"post\"><input name=\"koupit[64715]\" type=\"submit\" value=\"\"/></form><strong class=\"price\">ekönyv: 699,- Ft</strong> </div>"
      ]
     },
     "execution_count": 16,
     "metadata": {},
     "output_type": "execute_result"
    }
   ],
   "source": [
    "mindenkonyv[0]"
   ]
  },
  {
   "cell_type": "markdown",
   "metadata": {},
   "source": [
    "Az utolsóra pedig:"
   ]
  },
  {
   "cell_type": "code",
   "execution_count": 17,
   "metadata": {},
   "outputs": [
    {
     "data": {
      "text/plain": [
       "<div class=\"bookListText\"><div class=\"title\"><a class=\"titul bold\" href=\"https://www.ekonyv.hu/hu/konyv-reszletei/vegtelen-vetites?eid=62777\" title=\"Végtelen vetítés\">Végtelen vetítés</a><br/>Szerző: <a class=\"author\" href=\"https://www.ekonyv.hu/hu/szerzok?name=Carlos+Chernov\" title=\"Carlos Chernov\">Carlos Chernov</a></div><p class=\"short_desc\">Kétszáz évvel a Földet átalakító nagy klímakatasztrófa után a túlélők között sokáig dúló háború erőszakos, totalitárius társadalmat hoz létre. A vil <a class=\"vice\" href=\"https://www.ekonyv.hu/hu/konyv-reszletei/vegtelen-vetites?eid=62777\" title=\"Végtelen vetítés\">...[több]...</a></p><form action=\"https://www.ekonyv.hu/hu/kosar\" class=\"koupitZeSeznamu\" method=\"post\"><input name=\"koupit[62777]\" type=\"submit\" value=\"\"/></form><strong class=\"price\">ekönyv: 2 490,- Ft</strong> </div>"
      ]
     },
     "execution_count": 17,
     "metadata": {},
     "output_type": "execute_result"
    }
   ],
   "source": [
    "mindenkonyv[15]"
   ]
  },
  {
   "cell_type": "markdown",
   "metadata": {},
   "source": [
    "Ha pedig megpróbálunk nem létező elemre hivatkozni, hibát kapunk mégpedig azt hogy list index out of range"
   ]
  },
  {
   "cell_type": "code",
   "execution_count": 18,
   "metadata": {},
   "outputs": [
    {
     "ename": "IndexError",
     "evalue": "list index out of range",
     "output_type": "error",
     "traceback": [
      "\u001b[1;31m---------------------------------------------------------------------------\u001b[0m",
      "\u001b[1;31mIndexError\u001b[0m                                Traceback (most recent call last)",
      "\u001b[1;32m<ipython-input-18-a15c501c6e45>\u001b[0m in \u001b[0;36m<module>\u001b[1;34m\u001b[0m\n\u001b[1;32m----> 1\u001b[1;33m \u001b[0mmindenkonyv\u001b[0m\u001b[1;33m[\u001b[0m\u001b[1;36m16\u001b[0m\u001b[1;33m]\u001b[0m\u001b[1;33m\u001b[0m\u001b[1;33m\u001b[0m\u001b[0m\n\u001b[0m",
      "\u001b[1;31mIndexError\u001b[0m: list index out of range"
     ]
    }
   ],
   "source": [
    "mindenkonyv[16]"
   ]
  },
  {
   "cell_type": "markdown",
   "metadata": {},
   "source": [
    "A lista utolsó elemére még ezzel a módszerrel is tudunk hivatkozni:"
   ]
  },
  {
   "cell_type": "code",
   "execution_count": 19,
   "metadata": {},
   "outputs": [
    {
     "data": {
      "text/plain": [
       "<div class=\"bookListText\"><div class=\"title\"><a class=\"titul bold\" href=\"https://www.ekonyv.hu/hu/konyv-reszletei/vegtelen-vetites?eid=62777\" title=\"Végtelen vetítés\">Végtelen vetítés</a><br/>Szerző: <a class=\"author\" href=\"https://www.ekonyv.hu/hu/szerzok?name=Carlos+Chernov\" title=\"Carlos Chernov\">Carlos Chernov</a></div><p class=\"short_desc\">Kétszáz évvel a Földet átalakító nagy klímakatasztrófa után a túlélők között sokáig dúló háború erőszakos, totalitárius társadalmat hoz létre. A vil <a class=\"vice\" href=\"https://www.ekonyv.hu/hu/konyv-reszletei/vegtelen-vetites?eid=62777\" title=\"Végtelen vetítés\">...[több]...</a></p><form action=\"https://www.ekonyv.hu/hu/kosar\" class=\"koupitZeSeznamu\" method=\"post\"><input name=\"koupit[62777]\" type=\"submit\" value=\"\"/></form><strong class=\"price\">ekönyv: 2 490,- Ft</strong> </div>"
      ]
     },
     "execution_count": 19,
     "metadata": {},
     "output_type": "execute_result"
    }
   ],
   "source": [
    "mindenkonyv[-1]"
   ]
  },
  {
   "cell_type": "markdown",
   "metadata": {},
   "source": [
    "A mínusz jellel tudjuk jelezni hogy a lista vége felöl szeretnénk megközelíteni az indexelést, itt viszont nem a nulladik elemtől fog kezdődni, mert az a lista első elemét adná vissza, hanem a mínusz utána számot növeljük, pl a [-2]-es index az utolsó előttit mutatja majd."
   ]
  },
  {
   "cell_type": "code",
   "execution_count": null,
   "metadata": {},
   "outputs": [],
   "source": []
  }
 ],
 "metadata": {
  "kernelspec": {
   "display_name": "Python 3",
   "language": "python",
   "name": "python3"
  },
  "language_info": {
   "codemirror_mode": {
    "name": "ipython",
    "version": 3
   },
   "file_extension": ".py",
   "mimetype": "text/x-python",
   "name": "python",
   "nbconvert_exporter": "python",
   "pygments_lexer": "ipython3",
   "version": "3.7.6"
  }
 },
 "nbformat": 4,
 "nbformat_minor": 4
}
